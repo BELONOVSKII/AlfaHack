{
 "cells": [
  {
   "cell_type": "code",
   "execution_count": 9,
   "id": "0dde7027",
   "metadata": {},
   "outputs": [],
   "source": [
    "from pathlib import Path\n",
    "import yaml\n",
    "\n",
    "import pandas as pd"
   ]
  },
  {
   "cell_type": "code",
   "execution_count": 10,
   "id": "d563abee",
   "metadata": {},
   "outputs": [],
   "source": [
    "DATA_PATH = Path(\"../../data/\")\n",
    "OOF_PATH = DATA_PATH / \"models\"\n",
    "CONFIG_PATH = Path(\"../../configs/config.yaml\")\n",
    "\n",
    "models = [\"lamau_81425_full_dataset\", \"lgb_8122_full_dataset\",\n",
    "          \"cb_8114_full_dataset\", \"xgb_81325_full_dataset\",\n",
    "         \"lama_81298_full_dataset\", \"lamann_autoint_8053_full_dataset\", \"lamann_fttransformer_8050_full_dataset\"]"
   ]
  },
  {
   "cell_type": "code",
   "execution_count": 11,
   "id": "a857dd0d",
   "metadata": {},
   "outputs": [],
   "source": [
    "df_train = pd.read_parquet(DATA_PATH / \"train_preproc_2.parquet\")\n",
    "df_test = pd.read_parquet(DATA_PATH / \"test_preproc_2.parquet\")"
   ]
  },
  {
   "cell_type": "markdown",
   "id": "b1ba9af1",
   "metadata": {},
   "source": [
    "## Enrich data"
   ]
  },
  {
   "cell_type": "code",
   "execution_count": 13,
   "id": "5a9c18f7",
   "metadata": {},
   "outputs": [],
   "source": [
    "for model in models:\n",
    "    oof_pred = pd.read_csv(OOF_PATH / model / \"oof.csv\")\n",
    "    test_pred = pd.read_csv(OOF_PATH / model / f\"{model}.csv\")\n",
    "    \n",
    "    df_train[model] = oof_pred[model]\n",
    "    df_test[model] = test_pred[\"target\"]\n",
    "    break"
   ]
  },
  {
   "cell_type": "code",
   "execution_count": 5,
   "id": "03d09391",
   "metadata": {},
   "outputs": [],
   "source": [
    "df_train.to_parquet(DATA_PATH / \"train_preproc_oof.parquet\", index=False)\n",
    "df_test.to_parquet(DATA_PATH / \"test_preproc_oof.parquet\", index=False)"
   ]
  },
  {
   "cell_type": "markdown",
   "id": "1adae004",
   "metadata": {},
   "source": [
    "## Add stack columns to the config"
   ]
  },
  {
   "cell_type": "code",
   "execution_count": 6,
   "id": "7dbcdc7b",
   "metadata": {},
   "outputs": [],
   "source": [
    "with CONFIG_PATH.open() as f:\n",
    "    cfg = yaml.load(f, Loader=yaml.SafeLoader)"
   ]
  },
  {
   "cell_type": "code",
   "execution_count": 7,
   "id": "c7bbb9b3",
   "metadata": {},
   "outputs": [],
   "source": [
    "cfg[\"stack_features\"] = models"
   ]
  },
  {
   "cell_type": "code",
   "execution_count": 8,
   "id": "b1d9e688",
   "metadata": {},
   "outputs": [],
   "source": [
    "with CONFIG_PATH.open(\"w\") as f:\n",
    "    yaml.dump(cfg, f)"
   ]
  },
  {
   "cell_type": "code",
   "execution_count": null,
   "id": "b181ca11",
   "metadata": {},
   "outputs": [],
   "source": []
  }
 ],
 "metadata": {
  "kernelspec": {
   "display_name": "base_kernel",
   "language": "python",
   "name": "base_kernel"
  },
  "language_info": {
   "codemirror_mode": {
    "name": "ipython",
    "version": 3
   },
   "file_extension": ".py",
   "mimetype": "text/x-python",
   "name": "python",
   "nbconvert_exporter": "python",
   "pygments_lexer": "ipython3",
   "version": "3.10.12"
  }
 },
 "nbformat": 4,
 "nbformat_minor": 5
}
