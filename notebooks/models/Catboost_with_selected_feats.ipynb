{
 "cells": [
  {
   "cell_type": "code",
   "execution_count": 1,
   "id": "0fa3af6a-d478-4c0e-a715-21f3f6707c9c",
   "metadata": {},
   "outputs": [],
   "source": [
    "import sys; sys.path.append(\"../../automl/\")"
   ]
  },
  {
   "cell_type": "code",
   "execution_count": 2,
   "id": "0fe599f1-83eb-4e6b-8115-f05eb659ec95",
   "metadata": {},
   "outputs": [],
   "source": [
    "from pathlib import Path\n",
    "import yaml\n",
    "\n",
    "import pandas as pd\n",
    "import numpy as np\n",
    "\n",
    "from sklearn.model_selection import train_test_split\n",
    "\n",
    "from src.automl.model.catboost import CatBoostClassification\n",
    "from src.automl.loggers import configure_root_logger\n",
    "from src.automl.constants import create_ml_data_dir\n",
    "from src.automl.model.metrics import RocAuc"
   ]
  },
  {
   "cell_type": "code",
   "execution_count": 3,
   "id": "087a93ef-e784-4dbb-8962-24e871577fee",
   "metadata": {},
   "outputs": [],
   "source": [
    "create_ml_data_dir()\n",
    "configure_root_logger()"
   ]
  },
  {
   "cell_type": "markdown",
   "id": "2a4701a7-04a9-42cd-b472-d9ca1dce955d",
   "metadata": {},
   "source": [
    "## Constants"
   ]
  },
  {
   "cell_type": "code",
   "execution_count": 4,
   "id": "9446b478-3af7-4d89-8d52-0d16996734e0",
   "metadata": {},
   "outputs": [],
   "source": [
    "RANDOM_SEED = 77\n",
    "DATA_PATH = Path(\"../../data/\")\n",
    "CONFIG_PATH = Path(\"../../configs/config.yaml\")\n",
    "N_JOBS = 8"
   ]
  },
  {
   "cell_type": "code",
   "execution_count": 5,
   "id": "5494d0ab-4d12-47b3-bbaa-31fd51961cac",
   "metadata": {},
   "outputs": [],
   "source": [
    "with CONFIG_PATH.open() as f:\n",
    "    cfg = yaml.load(f, Loader=yaml.SafeLoader)"
   ]
  },
  {
   "cell_type": "markdown",
   "id": "6fc1cf46-0712-400d-b190-15de4b596d15",
   "metadata": {},
   "source": [
    "## Data"
   ]
  },
  {
   "cell_type": "code",
   "execution_count": 6,
   "id": "7208e0bf-13a0-4f7a-9f2e-307f386ef935",
   "metadata": {},
   "outputs": [],
   "source": [
    "df_train = pd.read_parquet(DATA_PATH / \"train_preproc.parquet\")\n",
    "df_train, df_test = df_train.sort_values(by=\"id\").iloc[:300_000], df_train.sort_values(by=\"id\").iloc[300_000:]"
   ]
  },
  {
   "cell_type": "code",
   "execution_count": 7,
   "id": "3a4bbaca-2b74-4177-88e4-4897ff07498b",
   "metadata": {},
   "outputs": [],
   "source": [
    "ohe_cols = df_train.columns[df_train.columns.str.startswith(\"OneHotEncoder\")].values.tolist()\n",
    "oe_cols = df_train.columns[df_train.columns.str.startswith(\"OrdinalEncoder\")].values.tolist()\n",
    "te_cols = df_train.columns[df_train.columns.str.startswith(\"MeanTargetEncoder\")].values.tolist()"
   ]
  },
  {
   "cell_type": "code",
   "execution_count": 8,
   "id": "2525aeac-d91b-4864-a2cb-24f94702c1ab",
   "metadata": {},
   "outputs": [],
   "source": [
    "# take target encoded columns\n",
    "X_train, y_train = df_train[cfg[\"selected_features\"] + te_cols + ohe_cols], df_train[\"target\"]\n",
    "X_test, y_test = df_test[cfg[\"selected_features\"] + te_cols + ohe_cols], df_test[\"target\"]"
   ]
  },
  {
   "cell_type": "code",
   "execution_count": 8,
   "id": "979b253b-f611-498c-919d-11993f85a939",
   "metadata": {},
   "outputs": [],
   "source": [
    "# take ordinal encoded columns\n",
    "X_train, y_train = df_train[cfg[\"selected_features\"] + oe_cols + ohe_cols], df_train[\"target\"]\n",
    "X_test, y_test = df_test[cfg[\"selected_features\"] + oe_cols + ohe_cols], df_test[\"target\"]"
   ]
  },
  {
   "cell_type": "code",
   "execution_count": 9,
   "id": "0f28cd79-395e-4e5d-9fa6-015a640955d8",
   "metadata": {},
   "outputs": [
    {
     "data": {
      "text/plain": [
       "target\n",
       "0    0.940853\n",
       "1    0.059147\n",
       "Name: proportion, dtype: float64"
      ]
     },
     "metadata": {},
     "output_type": "display_data"
    },
    {
     "data": {
      "text/plain": [
       "target\n",
       "0    0.941322\n",
       "1    0.058678\n",
       "Name: proportion, dtype: float64"
      ]
     },
     "metadata": {},
     "output_type": "display_data"
    }
   ],
   "source": [
    "display(y_train.value_counts(normalize=True))\n",
    "display(y_test.value_counts(normalize=True))"
   ]
  },
  {
   "cell_type": "code",
   "execution_count": 9,
   "id": "12b00734-0a36-4487-93ed-c78e6833ed0b",
   "metadata": {},
   "outputs": [],
   "source": [
    "categorical_features = ohe_cols# + oe_cols"
   ]
  },
  {
   "cell_type": "markdown",
   "id": "48abfc9d-95b1-4eda-9665-251676ed3d8f",
   "metadata": {},
   "source": [
    "## Model"
   ]
  },
  {
   "cell_type": "code",
   "execution_count": 13,
   "id": "51e9b58f-d170-4930-9bd9-e67ac8828af0",
   "metadata": {},
   "outputs": [
    {
     "name": "stdout",
     "output_type": "stream",
     "text": [
      "[2024-11-05 17:47:30,201] - [   START    ] - Tuning CatBoostClassification\n",
      "[2024-11-05 17:51:14,854] - [   OPTUNA   ] - Trial 0. New best score 0.7993246319642113 with parameters {'boosting_type': 'Plain', 'depth': 15, 'l2_leaf_reg': 128.43911998477108, 'bootstrap_type': 'Bernoulli', 'grow_policy': 'Depthwise', 'min_data_in_leaf': 139, 'rsm': 0.5441411055208036, 'subsample': 0.7272537553455429, 'model_size_reg': 80.11090073597784, 'auto_class_weights': 'Balanced', 'iterations': 96}\n",
      "[2024-11-05 17:53:29,712] - [   OPTUNA   ] - Trial 1. New best score 0.8013202125215256 with parameters {'boosting_type': 'Plain', 'depth': 5, 'l2_leaf_reg': 56.20353813079284, 'bootstrap_type': 'Bernoulli', 'grow_policy': 'Depthwise', 'min_data_in_leaf': 45, 'rsm': 0.42962619958869225, 'subsample': 0.5754852032169728, 'model_size_reg': 13.359826218292259, 'auto_class_weights': None, 'iterations': 917}\n",
      "[2024-11-05 17:56:04,365] - [   OPTUNA   ] - Trial 2. New best score 0.8025709024597971 with parameters {'boosting_type': 'Plain', 'depth': 6, 'l2_leaf_reg': 30.39430513851218, 'bootstrap_type': 'Bernoulli', 'grow_policy': 'Depthwise', 'min_data_in_leaf': 44, 'rsm': 0.7866218528265505, 'subsample': 0.46452464728155557, 'model_size_reg': 70.64901962342054, 'auto_class_weights': 'SqrtBalanced', 'iterations': 683}\n",
      "[2024-11-05 17:59:52,591] - [   OPTUNA   ] - 4 trials completed\n",
      "[2024-11-05 17:59:52,592] - [BEST PARAMS ] - {'boosting_type': 'Plain', 'iterations': 683, 'learning_rate': 0.03, 'max_leaves': None, 'grow_policy': 'Depthwise', 'depth': 6, 'l2_leaf_reg': 30.39430513851218, 'model_size_reg': 70.64901962342054, 'od_wait': 100, 'bootstrap_type': 'Bernoulli', 'rsm': 0.7866218528265505, 'subsample': 0.46452464728155557, 'min_data_in_leaf': 44, 'one_hot_max_size': 10, 'auto_class_weights': 'SqrtBalanced', 'thread_count': 8, 'random_state': 77, 'verbose': False, 'allow_writing_files': False}\n",
      "[2024-11-05 17:59:52,592] - [    END     ] - Tuning CatBoostClassification\n"
     ]
    }
   ],
   "source": [
    "model = CatBoostClassification(n_jobs=N_JOBS, random_state=RANDOM_SEED)\n",
    "model.tune(X_train, y_train, metric=RocAuc(), timeout=60 * 10, categorical_features=categorical_features)"
   ]
  },
  {
   "cell_type": "code",
   "execution_count": 10,
   "id": "22275e56-48fa-4f3d-9f0c-22efadfde763",
   "metadata": {},
   "outputs": [
    {
     "name": "stdout",
     "output_type": "stream",
     "text": [
      "[2024-11-05 18:40:32,259] - [   START    ] - Tuning CatBoostClassification\n",
      "[2024-11-05 18:42:14,339] - [   OPTUNA   ] - Trial 0. New best score 0.7991621905716942 with parameters {'boosting_type': 'Plain', 'depth': 10, 'l2_leaf_reg': 6.421955999238555, 'bootstrap_type': 'Bernoulli', 'grow_policy': 'Depthwise', 'min_data_in_leaf': 139, 'rsm': 0.5441411055208036, 'subsample': 0.7272537553455429, 'model_size_reg': 4.0055450367988925, 'auto_class_weights': 'Balanced', 'iterations': 128}\n",
      "[2024-11-05 18:44:28,587] - [   OPTUNA   ] - Trial 1. New best score 0.8004784676977812 with parameters {'boosting_type': 'Plain', 'depth': 3, 'l2_leaf_reg': 2.810176906539642, 'bootstrap_type': 'Bernoulli', 'grow_policy': 'Depthwise', 'min_data_in_leaf': 45, 'rsm': 0.42962619958869225, 'subsample': 0.5754852032169728, 'model_size_reg': 0.667991310914613, 'auto_class_weights': None, 'iterations': 1493}\n",
      "[2024-11-05 18:47:14,040] - [   OPTUNA   ] - Trial 2. New best score 0.8026399838861289 with parameters {'boosting_type': 'Plain', 'depth': 4, 'l2_leaf_reg': 1.519715256925609, 'bootstrap_type': 'Bernoulli', 'grow_policy': 'Depthwise', 'min_data_in_leaf': 44, 'rsm': 0.7866218528265505, 'subsample': 0.46452464728155557, 'model_size_reg': 3.532450981171027, 'auto_class_weights': 'SqrtBalanced', 'iterations': 1240}\n",
      "[2024-11-05 19:01:50,251] - [   OPTUNA   ] - 10 trials completed\n",
      "[2024-11-05 19:01:50,252] - [BEST PARAMS ] - {'boosting_type': 'Plain', 'iterations': 1240, 'learning_rate': 0.03, 'max_leaves': None, 'grow_policy': 'Depthwise', 'depth': 4, 'l2_leaf_reg': 1.519715256925609, 'model_size_reg': 3.532450981171027, 'od_wait': 100, 'bootstrap_type': 'Bernoulli', 'rsm': 0.7866218528265505, 'subsample': 0.46452464728155557, 'min_data_in_leaf': 44, 'one_hot_max_size': 10, 'auto_class_weights': 'SqrtBalanced', 'thread_count': 8, 'random_state': 77, 'verbose': False, 'allow_writing_files': False}\n",
      "[2024-11-05 19:01:50,253] - [    END     ] - Tuning CatBoostClassification\n"
     ]
    }
   ],
   "source": [
    "# with target encoding\n",
    "model = CatBoostClassification(n_jobs=N_JOBS, random_state=RANDOM_SEED)\n",
    "model.tune(X_train, y_train, metric=RocAuc(), timeout=60 * 20, categorical_features=categorical_features)"
   ]
  },
  {
   "cell_type": "code",
   "execution_count": 12,
   "id": "ad03e787-eb62-4869-a0f3-82f02bb1a7ca",
   "metadata": {},
   "outputs": [
    {
     "name": "stdout",
     "output_type": "stream",
     "text": [
      "[2024-11-05 19:02:31,327] - [   START    ] - Tuning CatBoostClassification\n",
      "[2024-11-05 19:03:37,881] - [   OPTUNA   ] - Trial 0. New best score 0.7965052264260117 with parameters {'boosting_type': 'Plain', 'depth': 10, 'l2_leaf_reg': 6.421955999238555, 'bootstrap_type': 'Bernoulli', 'grow_policy': 'Depthwise', 'min_data_in_leaf': 139, 'rsm': 0.5441411055208036, 'subsample': 0.7272537553455429, 'model_size_reg': 4.0055450367988925, 'auto_class_weights': 'Balanced', 'iterations': 97}\n",
      "[2024-11-05 19:05:14,032] - [   OPTUNA   ] - Trial 1. New best score 0.798767675441276 with parameters {'boosting_type': 'Plain', 'depth': 3, 'l2_leaf_reg': 2.810176906539642, 'bootstrap_type': 'Bernoulli', 'grow_policy': 'Depthwise', 'min_data_in_leaf': 45, 'rsm': 0.42962619958869225, 'subsample': 0.5754852032169728, 'model_size_reg': 0.667991310914613, 'auto_class_weights': None, 'iterations': 1276}\n",
      "[2024-11-05 19:06:24,075] - [   OPTUNA   ] - Trial 2. New best score 0.8001091854791653 with parameters {'boosting_type': 'Plain', 'depth': 4, 'l2_leaf_reg': 1.519715256925609, 'bootstrap_type': 'Bernoulli', 'grow_policy': 'Depthwise', 'min_data_in_leaf': 44, 'rsm': 0.7866218528265505, 'subsample': 0.46452464728155557, 'model_size_reg': 3.532450981171027, 'auto_class_weights': 'SqrtBalanced', 'iterations': 614}\n",
      "[2024-11-05 19:15:51,548] - [   OPTUNA   ] - Trial 10. New best score 0.8014867684672888 with parameters {'boosting_type': 'Plain', 'depth': 4, 'l2_leaf_reg': 8.086463357163527, 'bootstrap_type': 'MVS', 'grow_policy': 'Depthwise', 'min_data_in_leaf': 1, 'rsm': 0.8062272567562108, 'subsample': 0.4150604354461598, 'model_size_reg': 6.783122500815718, 'auto_class_weights': 'SqrtBalanced', 'iterations': 554}\n",
      "[2024-11-05 19:22:50,608] - [   OPTUNA   ] - 17 trials completed\n",
      "[2024-11-05 19:22:50,611] - [BEST PARAMS ] - {'boosting_type': 'Plain', 'iterations': 554, 'learning_rate': 0.03, 'max_leaves': None, 'grow_policy': 'Depthwise', 'depth': 4, 'l2_leaf_reg': 8.086463357163527, 'model_size_reg': 6.783122500815718, 'od_wait': 100, 'bootstrap_type': 'MVS', 'rsm': 0.8062272567562108, 'subsample': 0.4150604354461598, 'min_data_in_leaf': 1, 'one_hot_max_size': 10, 'auto_class_weights': 'SqrtBalanced', 'thread_count': 8, 'random_state': 77, 'verbose': False, 'allow_writing_files': False}\n",
      "[2024-11-05 19:22:50,611] - [    END     ] - Tuning CatBoostClassification\n"
     ]
    }
   ],
   "source": [
    "# with target encoding\n",
    "model = CatBoostClassification(n_jobs=N_JOBS, random_state=RANDOM_SEED, time_series=True)\n",
    "model.tune(X_train, y_train, metric=RocAuc(), timeout=60 * 20, categorical_features=categorical_features)"
   ]
  },
  {
   "cell_type": "code",
   "execution_count": null,
   "id": "7ab85e98-3a9c-4800-9ca1-e5a543964c9b",
   "metadata": {},
   "outputs": [],
   "source": []
  },
  {
   "cell_type": "code",
   "execution_count": null,
   "id": "1521a5e3-a1c7-477b-ab9f-0d9ca6417acf",
   "metadata": {},
   "outputs": [],
   "source": []
  },
  {
   "cell_type": "code",
   "execution_count": null,
   "id": "992b5c1b-b056-4e17-921f-cf2cc1105e8a",
   "metadata": {},
   "outputs": [],
   "source": []
  },
  {
   "cell_type": "code",
   "execution_count": null,
   "id": "93e85420-caa8-4dfa-8ccd-752335861793",
   "metadata": {},
   "outputs": [],
   "source": []
  },
  {
   "cell_type": "code",
   "execution_count": null,
   "id": "0351482c-a002-4040-9186-ac37a6553584",
   "metadata": {},
   "outputs": [],
   "source": []
  },
  {
   "cell_type": "code",
   "execution_count": null,
   "id": "cfb689fc-7ad9-4768-b0b1-8f3b1d5395e5",
   "metadata": {},
   "outputs": [],
   "source": []
  },
  {
   "cell_type": "code",
   "execution_count": 16,
   "id": "5f42b905-76a3-49bf-9541-39ea469a098c",
   "metadata": {},
   "outputs": [
    {
     "name": "stdout",
     "output_type": "stream",
     "text": [
      "[2024-11-05 19:25:14,272] - [   START    ] - Fitting CatBoostClassification\n",
      "[2024-11-05 19:25:14,283] - [    FIT     ] - CatBoostClassification fold 0\n",
      "[2024-11-05 19:25:17,587] - [    FIT     ] - CatBoostClassification fold 1\n",
      "[2024-11-05 19:25:23,161] - [    FIT     ] - CatBoostClassification fold 2\n",
      "[2024-11-05 19:25:31,733] - [    FIT     ] - CatBoostClassification fold 3\n",
      "[2024-11-05 19:25:42,386] - [    FIT     ] - CatBoostClassification fold 4\n",
      "[2024-11-05 19:25:55,206] - [    END     ] - Fitting CatBoostClassification\n",
      "0.7934884944291627\n"
     ]
    }
   ],
   "source": [
    "model.fit(X_train, y_train, categorical_features=categorical_features)\n",
    "print(RocAuc()(y_test.values, model.predict(X_test)[:, 1]))"
   ]
  },
  {
   "cell_type": "code",
   "execution_count": 20,
   "id": "a3645213-67f1-4a56-8449-706616b01975",
   "metadata": {},
   "outputs": [],
   "source": [
    "test = pd.read_parquet(DATA_PATH / \"test_preproc.parquet\")\n",
    "test[\"target\"] = model.predict(test[cfg[\"selected_features\"] + te_cols + ohe_cols])[:, 1]\n",
    "test[['id', 'target']].to_csv('catboost_ts.csv', index=False)"
   ]
  },
  {
   "cell_type": "code",
   "execution_count": 25,
   "id": "c8b626f4-24d7-47cc-8e1c-8d4829422eda",
   "metadata": {},
   "outputs": [],
   "source": [
    "pred_1 = pd.read_csv(\"lama_utilized.csv\")\n",
    "pred_2 = pd.read_csv(\"lgmb_oe_ohe_cols_0805.csv\")\n",
    "pred_3 = pd.read_csv(\"catboost_ts.csv\")"
   ]
  },
  {
   "cell_type": "code",
   "execution_count": 26,
   "id": "f6fd1b74-1c84-47a2-9640-f9afca52a2c5",
   "metadata": {},
   "outputs": [],
   "source": [
    "pred_1[\"target\"] = 0.6 * pred_1[\"target\"] + 0.2 * pred_2[\"target\"] + 0.2 * pred_3[\"target\"]"
   ]
  },
  {
   "cell_type": "code",
   "execution_count": 29,
   "id": "b9a12186-27a7-43e5-bbf9-05d9894bd617",
   "metadata": {},
   "outputs": [],
   "source": [
    "pred_1.to_csv(\"blend.csv\", index=False)"
   ]
  },
  {
   "cell_type": "code",
   "execution_count": null,
   "id": "1a479dff-a006-4237-9a22-9b4a9d6a52eb",
   "metadata": {},
   "outputs": [],
   "source": []
  }
 ],
 "metadata": {
  "kernelspec": {
   "display_name": "base_kernel",
   "language": "python",
   "name": "base_kernel"
  },
  "language_info": {
   "codemirror_mode": {
    "name": "ipython",
    "version": 3
   },
   "file_extension": ".py",
   "mimetype": "text/x-python",
   "name": "python",
   "nbconvert_exporter": "python",
   "pygments_lexer": "ipython3",
   "version": "3.10.13"
  }
 },
 "nbformat": 4,
 "nbformat_minor": 5
}
