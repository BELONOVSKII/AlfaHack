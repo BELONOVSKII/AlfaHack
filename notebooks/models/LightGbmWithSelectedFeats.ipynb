{
 "cells": [
  {
   "cell_type": "code",
   "execution_count": 1,
   "id": "0fa3af6a-d478-4c0e-a715-21f3f6707c9c",
   "metadata": {},
   "outputs": [],
   "source": [
    "import sys; sys.path.append(\"../../automl/\")"
   ]
  },
  {
   "cell_type": "code",
   "execution_count": 153,
   "id": "0fe599f1-83eb-4e6b-8115-f05eb659ec95",
   "metadata": {},
   "outputs": [],
   "source": [
    "from pathlib import Path\n",
    "import yaml\n",
    "import joblib\n",
    "\n",
    "import pandas as pd\n",
    "import numpy as np\n",
    "\n",
    "from sklearn.model_selection import train_test_split\n",
    "\n",
    "from src.automl.model.lightgbm import LightGBMClassification\n",
    "from src.automl.loggers import configure_root_logger\n",
    "from src.automl.constants import create_ml_data_dir\n",
    "from src.automl.model.metrics import RocAuc"
   ]
  },
  {
   "cell_type": "code",
   "execution_count": 3,
   "id": "087a93ef-e784-4dbb-8962-24e871577fee",
   "metadata": {},
   "outputs": [],
   "source": [
    "create_ml_data_dir()\n",
    "configure_root_logger()"
   ]
  },
  {
   "cell_type": "markdown",
   "id": "2a4701a7-04a9-42cd-b472-d9ca1dce955d",
   "metadata": {},
   "source": [
    "## Constants"
   ]
  },
  {
   "cell_type": "code",
   "execution_count": 4,
   "id": "9446b478-3af7-4d89-8d52-0d16996734e0",
   "metadata": {},
   "outputs": [],
   "source": [
    "RANDOM_SEED = 77\n",
    "DATA_PATH = Path(\"../../data/\")\n",
    "CONFIG_PATH = Path(\"../../configs/config.yaml\")\n",
    "N_JOBS = 16"
   ]
  },
  {
   "cell_type": "code",
   "execution_count": 5,
   "id": "5494d0ab-4d12-47b3-bbaa-31fd51961cac",
   "metadata": {},
   "outputs": [],
   "source": [
    "with CONFIG_PATH.open() as f:\n",
    "    cfg = yaml.load(f, Loader=yaml.SafeLoader)"
   ]
  },
  {
   "cell_type": "markdown",
   "id": "6fc1cf46-0712-400d-b190-15de4b596d15",
   "metadata": {},
   "source": [
    "## Data"
   ]
  },
  {
   "cell_type": "code",
   "execution_count": 136,
   "id": "7208e0bf-13a0-4f7a-9f2e-307f386ef935",
   "metadata": {},
   "outputs": [],
   "source": [
    "df_train = pd.read_parquet(DATA_PATH / \"train_preproc.parquet\")\n",
    "df_train, df_test = df_train.sort_values(by=\"id\").iloc[:300_000], df_train.sort_values(by=\"id\").iloc[300_000:]"
   ]
  },
  {
   "cell_type": "code",
   "execution_count": 137,
   "id": "24b73ba9-d6c5-4e83-b7ed-480881d44647",
   "metadata": {},
   "outputs": [
    {
     "data": {
      "text/plain": [
       "0    282256\n",
       "1     17744\n",
       "Name: target, dtype: int64"
      ]
     },
     "execution_count": 137,
     "metadata": {},
     "output_type": "execute_result"
    }
   ],
   "source": [
    "df_train[\"target\"].value_counts()"
   ]
  },
  {
   "cell_type": "code",
   "execution_count": 138,
   "id": "83dba0de-f224-4a5a-84db-acb5ff2ba670",
   "metadata": {},
   "outputs": [],
   "source": [
    "# undersample the 0 class\n",
    "df_train = pd.concat([df_train.loc[df_train.target == 1], df_train.loc[df_train.target == 0].sample(200_000, random_state=RANDOM_SEED)], ignore_index=True)"
   ]
  },
  {
   "cell_type": "code",
   "execution_count": 139,
   "id": "3a4bbaca-2b74-4177-88e4-4897ff07498b",
   "metadata": {},
   "outputs": [],
   "source": [
    "ohe_cols = df_train.columns[df_train.columns.str.startswith(\"OneHotEncoder\")].values.tolist()\n",
    "oe_cols = df_train.columns[df_train.columns.str.startswith(\"OrdinalEncoder\")].values.tolist()\n",
    "te_cols = df_train.columns[df_train.columns.str.startswith(\"MeanTargetEncoder\")].values.tolist()"
   ]
  },
  {
   "cell_type": "code",
   "execution_count": 140,
   "id": "2525aeac-d91b-4864-a2cb-24f94702c1ab",
   "metadata": {},
   "outputs": [],
   "source": [
    "# take target encoded columns\n",
    "X_train, y_train = df_train[cfg[\"selected_features\"] + te_cols + ohe_cols], df_train[\"target\"]\n",
    "X_test, y_test = df_test[cfg[\"selected_features\"] + te_cols + ohe_cols], df_test[\"target\"]"
   ]
  },
  {
   "cell_type": "code",
   "execution_count": 109,
   "id": "8a13302a-4083-4e00-9574-15af9e5c5ce5",
   "metadata": {},
   "outputs": [],
   "source": [
    "# take all columns\n",
    "X_train, y_train = df_train.drop(columns=[\"target\", \"id\", \"smpl\"]), df_train[\"target\"]\n",
    "X_test, y_test = df_test.drop(columns=[\"target\", \"id\", \"smpl\"]), df_test[\"target\"]"
   ]
  },
  {
   "cell_type": "code",
   "execution_count": 73,
   "id": "979b253b-f611-498c-919d-11993f85a939",
   "metadata": {},
   "outputs": [],
   "source": [
    "# take ordinal encoded columns\n",
    "X_train, y_train = df_train[cfg[\"selected_features\"] + oe_cols + ohe_cols], df_train[\"target\"]\n",
    "X_test, y_test = df_test[cfg[\"selected_features\"] + oe_cols + ohe_cols], df_test[\"target\"]"
   ]
  },
  {
   "cell_type": "code",
   "execution_count": 141,
   "id": "0f28cd79-395e-4e5d-9fa6-015a640955d8",
   "metadata": {},
   "outputs": [
    {
     "data": {
      "text/plain": [
       "0    0.91851\n",
       "1    0.08149\n",
       "Name: target, dtype: float64"
      ]
     },
     "metadata": {},
     "output_type": "display_data"
    },
    {
     "data": {
      "text/plain": [
       "0    0.941322\n",
       "1    0.058678\n",
       "Name: target, dtype: float64"
      ]
     },
     "metadata": {},
     "output_type": "display_data"
    }
   ],
   "source": [
    "display(y_train.value_counts(normalize=True))\n",
    "display(y_test.value_counts(normalize=True))"
   ]
  },
  {
   "cell_type": "code",
   "execution_count": 142,
   "id": "12b00734-0a36-4487-93ed-c78e6833ed0b",
   "metadata": {},
   "outputs": [],
   "source": [
    "categorical_features = ohe_cols# + oe_cols"
   ]
  },
  {
   "cell_type": "markdown",
   "id": "48abfc9d-95b1-4eda-9665-251676ed3d8f",
   "metadata": {},
   "source": [
    "## Model"
   ]
  },
  {
   "cell_type": "code",
   "execution_count": 143,
   "id": "eb596e87-b908-4ef9-b636-b4bd243bfa7f",
   "metadata": {},
   "outputs": [],
   "source": [
    "params = {'objective_type': 'binary',\n",
    " 'boosting': 'gbdt',\n",
    " 'num_iterations': 284,\n",
    " 'max_depth': 7,\n",
    " 'learning_rate': 0.03,\n",
    " 'num_leaves': 85,\n",
    " 'min_data_in_leaf': 162,\n",
    " 'bagging_fraction': 0.9073942790005392,\n",
    " 'bagging_freq': 20,\n",
    " 'feature_fraction': 0.4632002607000075,\n",
    " 'early_stopping_round': 100,\n",
    " 'lambda_l1': 0.9117760912120141,\n",
    " 'lambda_l2': 6.182177721979992,\n",
    " 'min_gain_to_split': 2.764898005468358,\n",
    " 'n_jobs': 16,\n",
    " 'random_state': 77,\n",
    " 'is_unbalance': False}\n",
    "metric = RocAuc()"
   ]
  },
  {
   "cell_type": "code",
   "execution_count": 146,
   "id": "b32e8180-6799-428d-93d8-50f8c19a074b",
   "metadata": {},
   "outputs": [
    {
     "data": {
      "text/plain": [
       "\u001b[0;31mSignature:\u001b[0m\n",
       "\u001b[0mmodel\u001b[0m\u001b[0;34m.\u001b[0m\u001b[0mtune\u001b[0m\u001b[0;34m(\u001b[0m\u001b[0;34m\u001b[0m\n",
       "\u001b[0;34m\u001b[0m    \u001b[0mX\u001b[0m\u001b[0;34m:\u001b[0m \u001b[0mUnion\u001b[0m\u001b[0;34m[\u001b[0m\u001b[0mpandas\u001b[0m\u001b[0;34m.\u001b[0m\u001b[0mcore\u001b[0m\u001b[0;34m.\u001b[0m\u001b[0mframe\u001b[0m\u001b[0;34m.\u001b[0m\u001b[0mDataFrame\u001b[0m\u001b[0;34m,\u001b[0m \u001b[0mnumpy\u001b[0m\u001b[0;34m.\u001b[0m\u001b[0mndarray\u001b[0m\u001b[0;34m]\u001b[0m\u001b[0;34m,\u001b[0m\u001b[0;34m\u001b[0m\n",
       "\u001b[0;34m\u001b[0m    \u001b[0my\u001b[0m\u001b[0;34m:\u001b[0m \u001b[0mUnion\u001b[0m\u001b[0;34m[\u001b[0m\u001b[0mpandas\u001b[0m\u001b[0;34m.\u001b[0m\u001b[0mcore\u001b[0m\u001b[0;34m.\u001b[0m\u001b[0mframe\u001b[0m\u001b[0;34m.\u001b[0m\u001b[0mDataFrame\u001b[0m\u001b[0;34m,\u001b[0m \u001b[0mpandas\u001b[0m\u001b[0;34m.\u001b[0m\u001b[0mcore\u001b[0m\u001b[0;34m.\u001b[0m\u001b[0mseries\u001b[0m\u001b[0;34m.\u001b[0m\u001b[0mSeries\u001b[0m\u001b[0;34m,\u001b[0m \u001b[0mnumpy\u001b[0m\u001b[0;34m.\u001b[0m\u001b[0mndarray\u001b[0m\u001b[0;34m]\u001b[0m\u001b[0;34m,\u001b[0m\u001b[0;34m\u001b[0m\n",
       "\u001b[0;34m\u001b[0m    \u001b[0mmetric\u001b[0m\u001b[0;34m=\u001b[0m\u001b[0;34m<\u001b[0m\u001b[0msrc\u001b[0m\u001b[0;34m.\u001b[0m\u001b[0mautoml\u001b[0m\u001b[0;34m.\u001b[0m\u001b[0mmodel\u001b[0m\u001b[0;34m.\u001b[0m\u001b[0mmetrics\u001b[0m\u001b[0;34m.\u001b[0m\u001b[0mregression_metrics\u001b[0m\u001b[0;34m.\u001b[0m\u001b[0mMSE\u001b[0m \u001b[0mobject\u001b[0m \u001b[0mat\u001b[0m \u001b[0;36m0x7f814d543b80\u001b[0m\u001b[0;34m>\u001b[0m\u001b[0;34m,\u001b[0m\u001b[0;34m\u001b[0m\n",
       "\u001b[0;34m\u001b[0m    \u001b[0mtimeout\u001b[0m\u001b[0;34m=\u001b[0m\u001b[0;36m60\u001b[0m\u001b[0;34m,\u001b[0m\u001b[0;34m\u001b[0m\n",
       "\u001b[0;34m\u001b[0m    \u001b[0mcategorical_features\u001b[0m\u001b[0;34m=\u001b[0m\u001b[0;34m[\u001b[0m\u001b[0;34m]\u001b[0m\u001b[0;34m,\u001b[0m\u001b[0;34m\u001b[0m\n",
       "\u001b[0;34m\u001b[0m\u001b[0;34m)\u001b[0m\u001b[0;34m\u001b[0m\u001b[0;34m\u001b[0m\u001b[0m\n",
       "\u001b[0;31mDocstring:\u001b[0m <no docstring>\n",
       "\u001b[0;31mFile:\u001b[0m      ~/projects/AlfaHack/automl/src/automl/model/lightgbm/lightgbm.py\n",
       "\u001b[0;31mType:\u001b[0m      method"
      ]
     },
     "metadata": {},
     "output_type": "display_data"
    }
   ],
   "source": [
    "model.tune?"
   ]
  },
  {
   "cell_type": "code",
   "execution_count": 147,
   "id": "6bab46f5-c9c4-4567-8fae-11296a05f4bf",
   "metadata": {},
   "outputs": [
    {
     "name": "stdout",
     "output_type": "stream",
     "text": [
      "[2024-11-06 07:57:08,551] - [   START    ] - Tuning LightGBMClassification\n",
      "[2024-11-06 07:57:13,468] - [   OPTUNA   ] - Trial 0. New best score 0.7917480438929874 with parameters {'max_depth': 6, 'num_leaves': 488, 'min_data_in_leaf': 188, 'bagging_fraction': 0.7993292420985183, 'bagging_freq': 0, 'feature_fraction': 0.49359671220172163, 'lambda_l1': 0.5808361216819946, 'lambda_l2': 8.661761457749352, 'min_gain_to_split': 12.022300234864176, 'is_unbalance': True, 'num_iterations': 4}\n",
      "[2024-11-06 07:57:29,896] - [   OPTUNA   ] - Trial 2. New best score 0.7933652131390204 with parameters {'max_depth': 5, 'num_leaves': 194, 'min_data_in_leaf': 117, 'bagging_fraction': 0.8925879806965068, 'bagging_freq': 0, 'feature_fraction': 0.708540663048167, 'lambda_l1': 5.924145688620425, 'lambda_l2': 0.46450412719997725, 'min_gain_to_split': 12.150897038028766, 'is_unbalance': True, 'num_iterations': 4}\n",
      "[2024-11-06 07:57:36,159] - [   OPTUNA   ] - Trial 3. New best score 0.8023578174727592 with parameters {'max_depth': 16, 'num_leaves': 495, 'min_data_in_leaf': 207, 'bagging_fraction': 0.6523068845866853, 'bagging_freq': 0, 'feature_fraction': 0.8105398159072941, 'lambda_l1': 4.4015249373960135, 'lambda_l2': 1.2203823484477883, 'min_gain_to_split': 9.903538202225404, 'is_unbalance': False, 'num_iterations': 184}\n",
      "[2024-11-06 07:57:47,416] - [   OPTUNA   ] - Trial 5. New best score 0.8028978396914926 with parameters {'max_depth': 15, 'num_leaves': 54, 'min_data_in_leaf': 51, 'bagging_fraction': 0.522613644455269, 'bagging_freq': 0, 'feature_fraction': 0.6332063738136893, 'lambda_l1': 2.713490317738959, 'lambda_l2': 8.287375091519294, 'min_gain_to_split': 7.135066533871786, 'is_unbalance': False, 'num_iterations': 197}\n",
      "[2024-11-06 07:58:20,585] - [   OPTUNA   ] - Trial 10. New best score 0.8032581688067015 with parameters {'max_depth': 11, 'num_leaves': 13, 'min_data_in_leaf': 249, 'bagging_fraction': 0.5089809378074097, 'bagging_freq': 10, 'feature_fraction': 0.8742082803631225, 'lambda_l1': 2.5792695260149188, 'lambda_l2': 9.7494021524717, 'min_gain_to_split': 1.2843506971410603, 'is_unbalance': False, 'num_iterations': 400}\n",
      "[2024-11-06 07:58:31,269] - [   OPTUNA   ] - Trial 11. New best score 0.8032872351374524 with parameters {'max_depth': 12, 'num_leaves': 14, 'min_data_in_leaf': 244, 'bagging_fraction': 0.5144055150851956, 'bagging_freq': 10, 'feature_fraction': 0.9048708938178183, 'lambda_l1': 2.8784220243075476, 'lambda_l2': 9.98937405667065, 'min_gain_to_split': 0.2326969141520776, 'is_unbalance': False, 'num_iterations': 413}\n",
      "[2024-11-06 07:59:09,261] - [   OPTUNA   ] - Trial 14. New best score 0.8037597386671157 with parameters {'max_depth': 11, 'num_leaves': 19, 'min_data_in_leaf': 219, 'bagging_fraction': 0.6924839515611931, 'bagging_freq': 20, 'feature_fraction': 0.8549341702078442, 'lambda_l1': 1.6433476473157023, 'lambda_l2': 9.692698520487179, 'min_gain_to_split': 3.1173750100417, 'is_unbalance': False, 'num_iterations': 296}\n",
      "[2024-11-06 07:59:18,429] - [   OPTUNA   ] - Trial 15. New best score 0.8042512343799784 with parameters {'max_depth': 9, 'num_leaves': 103, 'min_data_in_leaf': 210, 'bagging_fraction': 0.695811535638588, 'bagging_freq': 20, 'feature_fraction': 0.7879816799328654, 'lambda_l1': 1.5089535342786096, 'lambda_l2': 6.561930358383683, 'min_gain_to_split': 3.4073761639683475, 'is_unbalance': False, 'num_iterations': 244}\n",
      "[2024-11-06 08:00:09,985] - [   OPTUNA   ] - Trial 21. New best score 0.8043483579305887 with parameters {'max_depth': 8, 'num_leaves': 86, 'min_data_in_leaf': 141, 'bagging_fraction': 0.7126232734145425, 'bagging_freq': 20, 'feature_fraction': 0.7727742422101115, 'lambda_l1': 1.697520579915755, 'lambda_l2': 6.834496610090856, 'min_gain_to_split': 2.86018367814085, 'is_unbalance': False, 'num_iterations': 264}\n",
      "[2024-11-06 08:00:19,619] - [   OPTUNA   ] - Trial 22. New best score 0.8046151795573836 with parameters {'max_depth': 8, 'num_leaves': 258, 'min_data_in_leaf': 95, 'bagging_fraction': 0.8365946771592644, 'bagging_freq': 20, 'feature_fraction': 0.7393712591519013, 'lambda_l1': 3.819996117906488, 'lambda_l2': 6.919310437696229, 'min_gain_to_split': 2.936118660177785, 'is_unbalance': False, 'num_iterations': 258}\n",
      "[2024-11-06 08:01:31,360] - [   OPTUNA   ] - Trial 29. New best score 0.8050094780966294 with parameters {'max_depth': 7, 'num_leaves': 294, 'min_data_in_leaf': 77, 'bagging_fraction': 0.9484196728378529, 'bagging_freq': 20, 'feature_fraction': 0.6772841335409261, 'lambda_l1': 1.9683870778104975, 'lambda_l2': 9.148181061346168, 'min_gain_to_split': 2.2413922851956514, 'is_unbalance': False, 'num_iterations': 275}\n",
      "[2024-11-06 08:01:56,525] - [   OPTUNA   ] - Trial 31. New best score 0.8050977183114127 with parameters {'max_depth': 7, 'num_leaves': 349, 'min_data_in_leaf': 69, 'bagging_fraction': 0.9551225731837547, 'bagging_freq': 20, 'feature_fraction': 0.6931420611602219, 'lambda_l1': 0.7480465460685504, 'lambda_l2': 8.419485886599551, 'min_gain_to_split': 2.0239451442864094, 'is_unbalance': False, 'num_iterations': 300}\n",
      "[2024-11-06 08:03:28,128] - [   OPTUNA   ] - Trial 42. New best score 0.8053824255991098 with parameters {'max_depth': 7, 'num_leaves': 407, 'min_data_in_leaf': 80, 'bagging_fraction': 0.930662315029636, 'bagging_freq': 20, 'feature_fraction': 0.7358025636116172, 'lambda_l1': 2.1216904376680765, 'lambda_l2': 7.837757596697084, 'min_gain_to_split': 1.4791878033927408, 'is_unbalance': False, 'num_iterations': 294}\n",
      "[2024-11-06 08:15:37,884] - [   OPTUNA   ] - Trial 104. New best score 0.8055322805680213 with parameters {'max_depth': 8, 'num_leaves': 379, 'min_data_in_leaf': 53, 'bagging_fraction': 0.9528985489058349, 'bagging_freq': 20, 'feature_fraction': 0.75810759126784, 'lambda_l1': 3.182445378387703, 'lambda_l2': 5.666208199153161, 'min_gain_to_split': 0.29618448301009, 'is_unbalance': False, 'num_iterations': 233}\n",
      "[2024-11-06 08:25:32,363] - [   OPTUNA   ] - Trial 145. New best score 0.8055363474959838 with parameters {'max_depth': 8, 'num_leaves': 280, 'min_data_in_leaf': 22, 'bagging_fraction': 0.9620754556033041, 'bagging_freq': 20, 'feature_fraction': 0.7612621844243709, 'lambda_l1': 3.7754811873643646, 'lambda_l2': 4.872843057536745, 'min_gain_to_split': 0.5510222604743699, 'is_unbalance': False, 'num_iterations': 239}\n",
      "[2024-11-06 08:29:31,496] - [   OPTUNA   ] - Trial 163. New best score 0.8055796984716783 with parameters {'max_depth': 7, 'num_leaves': 284, 'min_data_in_leaf': 1, 'bagging_fraction': 0.9694332215250028, 'bagging_freq': 20, 'feature_fraction': 0.7207096980149851, 'lambda_l1': 2.3466223281890377, 'lambda_l2': 5.768928918539955, 'min_gain_to_split': 1.624341589745237, 'is_unbalance': False, 'num_iterations': 304}\n",
      "[2024-11-06 08:45:39,103] - [   OPTUNA   ] - Trial 239. New best score 0.8056573139570732 with parameters {'max_depth': 8, 'num_leaves': 315, 'min_data_in_leaf': 6, 'bagging_fraction': 0.9520650143169802, 'bagging_freq': 20, 'feature_fraction': 0.7363288390882483, 'lambda_l1': 2.855361548335017, 'lambda_l2': 6.00322598423003, 'min_gain_to_split': 1.3874900040500857, 'is_unbalance': False, 'num_iterations': 243}\n",
      "[2024-11-06 08:57:17,513] - [   OPTUNA   ] - 287 trials completed\n",
      "[2024-11-06 08:57:17,514] - [BEST PARAMS ] - {'objective_type': 'binary', 'boosting': 'gbdt', 'num_iterations': 243, 'max_depth': 8, 'learning_rate': 0.03, 'num_leaves': 315, 'min_data_in_leaf': 6, 'bagging_fraction': 0.9520650143169802, 'bagging_freq': 20, 'feature_fraction': 0.7363288390882483, 'early_stopping_round': 100, 'lambda_l1': 2.855361548335017, 'lambda_l2': 6.00322598423003, 'min_gain_to_split': 1.3874900040500857, 'num_threads': 16, 'random_state': 42, 'is_unbalance': False, 'num_classes': 1, 'verbose': -1}\n",
      "[2024-11-06 08:57:17,515] - [    END     ] - Tuning LightGBMClassification\n",
      "[2024-11-06 08:57:17,516] - [   START    ] - Fitting LightGBMClassification\n",
      "[2024-11-06 08:57:17,540] - [    FIT     ] - LightGBMClassification fold 0\n",
      "[2024-11-06 08:57:19,853] - [    FIT     ] - LightGBMClassification fold 1\n",
      "[2024-11-06 08:57:22,103] - [    FIT     ] - LightGBMClassification fold 2\n",
      "[2024-11-06 08:57:24,392] - [    FIT     ] - LightGBMClassification fold 3\n",
      "[2024-11-06 08:57:26,618] - [    FIT     ] - LightGBMClassification fold 4\n",
      "[2024-11-06 08:57:28,852] - [    END     ] - Fitting LightGBMClassification\n",
      "0.805536438232642\n",
      "0.7978370518067536\n"
     ]
    }
   ],
   "source": [
    "model = LightGBMClassification(n_jobs=16)\n",
    "model.tune(X_train, y_train, metric, timeout=60 * 60, categorical_features=categorical_features)\n",
    "oof = model.fit(X_train, y_train, categorical_features=categorical_features)\n",
    "y_pred = model.predict(X_test)\n",
    "\n",
    "print(metric(y_train, oof))\n",
    "print(metric(y_test, y_pred))"
   ]
  },
  {
   "cell_type": "code",
   "execution_count": 165,
   "id": "e6dd6ac2-6191-43c5-84da-522b4829abd7",
   "metadata": {},
   "outputs": [],
   "source": [
    "MODEL_NAME = \"lgb_8055\"\n",
    "MODEL_DIR = Path(f\"../../data/models/{MODEL_NAME}\")\n",
    "MODEL_DIR.mkdir(exist_ok=True)"
   ]
  },
  {
   "cell_type": "code",
   "execution_count": null,
   "id": "066e3f00-e26d-47ad-8de2-bb516eec895e",
   "metadata": {},
   "outputs": [],
   "source": []
  },
  {
   "cell_type": "code",
   "execution_count": null,
   "id": "4fa870f8-46d5-4be6-8ae0-2961287de4b3",
   "metadata": {},
   "outputs": [],
   "source": []
  },
  {
   "cell_type": "code",
   "execution_count": 167,
   "id": "5e4fed09-b428-4509-8644-347cbbb27f33",
   "metadata": {},
   "outputs": [],
   "source": [
    "res = pd.DataFrame()\n",
    "res[MODEL_NAME] = oof[:, 1]\n",
    "res.to_csv(MODEL_DIR / \"oof.csv\", index=False)\n",
    "joblib.dump(model, MODEL_DIR / f\"{MODEL_NAME}.joblib\")\n",
    "\n",
    "with (MODEL_DIR / \"params.yaml\").open(\"w\") as f:\n",
    "    yaml.dump(model.params, f)\n",
    "\n",
    "with (MODEL_DIR / \"score.txt\").open(\"w\") as f:\n",
    "    print(\"OOF:\", metric(y_train, oof), file=f)\n",
    "    print(\"Test:\", metric(y_test, y_pred), file=f)"
   ]
  },
  {
   "cell_type": "code",
   "execution_count": 154,
   "id": "d1fc8d7b-5783-473d-8635-fcd1b01dcdb1",
   "metadata": {},
   "outputs": [
    {
     "data": {
      "text/plain": [
       "['../../data/models/lgb_8055/lgb_8055.joblib']"
      ]
     },
     "execution_count": 154,
     "metadata": {},
     "output_type": "execute_result"
    }
   ],
   "source": [
    "joblib.dump(model, \"../../data/models/lgb_8055/lgb_8055.joblib\")\n"
   ]
  },
  {
   "cell_type": "code",
   "execution_count": 158,
   "id": "7b4db0b5-0bd0-4328-b414-1c918664bba2",
   "metadata": {},
   "outputs": [],
   "source": [
    "with open(\"../../data/models/lgb_8055/params.yaml\", \"w\") as f:\n",
    "    yaml.dump(model.params, f)"
   ]
  },
  {
   "cell_type": "code",
   "execution_count": 161,
   "id": "59d4c876-db60-4f5b-a53b-65ce19140000",
   "metadata": {},
   "outputs": [],
   "source": [
    "with open(\"../../data/models/lgb_8055/score.txt\", \"w\") as f:\n",
    "    print(\"OOF:\", metric(y_train, oof), file=f)\n",
    "    print(\"Test:\", metric(y_test, y_pred), file=f)"
   ]
  },
  {
   "cell_type": "code",
   "execution_count": null,
   "id": "00d2e379-cb8f-4d49-a482-48458d06bbe7",
   "metadata": {},
   "outputs": [],
   "source": []
  },
  {
   "cell_type": "code",
   "execution_count": 145,
   "id": "bf074769-8012-44e9-807c-57e01875ac12",
   "metadata": {},
   "outputs": [
    {
     "name": "stdout",
     "output_type": "stream",
     "text": [
      "0.8047647204688908\n",
      "0.7972289963856585\n"
     ]
    }
   ],
   "source": [
    "print(metric(y_train, oof))\n",
    "print(metric(y_test, y_pred))"
   ]
  },
  {
   "cell_type": "code",
   "execution_count": 86,
   "id": "55539b9d-5a16-4f99-9845-b84ca06fdf26",
   "metadata": {},
   "outputs": [
    {
     "name": "stdout",
     "output_type": "stream",
     "text": [
      "0.8009657912533814\n",
      "0.7932043263129364\n"
     ]
    }
   ],
   "source": [
    "print(metric(y_train, oof))\n",
    "print(metric(y_test, y_pred))"
   ]
  },
  {
   "cell_type": "code",
   "execution_count": 47,
   "id": "b1fa1013-9f53-4049-9dbb-ab2cc0f4b15e",
   "metadata": {},
   "outputs": [
    {
     "name": "stdout",
     "output_type": "stream",
     "text": [
      "0.8036673066952209\n",
      "0.7969396115051322\n"
     ]
    }
   ],
   "source": [
    "print(metric(y_train, oof))\n",
    "print(metric(y_test, y_pred))"
   ]
  },
  {
   "cell_type": "code",
   "execution_count": 37,
   "id": "eadab761-d68f-4a84-9a77-47977c7eeed0",
   "metadata": {},
   "outputs": [
    {
     "name": "stdout",
     "output_type": "stream",
     "text": [
      "0.8042716798166517\n",
      "0.7975841531905153\n"
     ]
    }
   ],
   "source": [
    "print(metric(y_train, oof))\n",
    "print(metric(y_test, y_pred))"
   ]
  },
  {
   "cell_type": "code",
   "execution_count": 15,
   "id": "a3645213-67f1-4a56-8449-706616b01975",
   "metadata": {},
   "outputs": [],
   "source": [
    "test = pd.read_parquet(DATA_PATH / \"test_preproc.parquet\")\n",
    "test[\"target\"] = model.predict(test[cfg[\"selected_features\"] + te_cols + ohe_cols])[:, 1]\n",
    "test[['id', 'target']].to_csv('lgb_full_dataset.csv', index=False)"
   ]
  },
  {
   "cell_type": "code",
   "execution_count": 25,
   "id": "c8b626f4-24d7-47cc-8e1c-8d4829422eda",
   "metadata": {},
   "outputs": [],
   "source": [
    "pred_1 = pd.read_csv(\"lama_utilized.csv\")\n",
    "pred_2 = pd.read_csv(\"lgmb_oe_ohe_cols_0805.csv\")\n",
    "pred_3 = pd.read_csv(\"catboost_ts.csv\")"
   ]
  },
  {
   "cell_type": "code",
   "execution_count": 26,
   "id": "f6fd1b74-1c84-47a2-9640-f9afca52a2c5",
   "metadata": {},
   "outputs": [],
   "source": [
    "pred_1[\"target\"] = 0.6 * pred_1[\"target\"] + 0.2 * pred_2[\"target\"] + 0.2 * pred_3[\"target\"]"
   ]
  },
  {
   "cell_type": "code",
   "execution_count": 29,
   "id": "b9a12186-27a7-43e5-bbf9-05d9894bd617",
   "metadata": {},
   "outputs": [],
   "source": [
    "pred_1.to_csv(\"blend.csv\", index=False)"
   ]
  },
  {
   "cell_type": "code",
   "execution_count": 166,
   "id": "1a479dff-a006-4237-9a22-9b4a9d6a52eb",
   "metadata": {},
   "outputs": [
    {
     "data": {
      "text/plain": [
       "\u001b[0;31mSignature:\u001b[0m\n",
       "\u001b[0mMODEL_DIR\u001b[0m\u001b[0;34m.\u001b[0m\u001b[0mopen\u001b[0m\u001b[0;34m(\u001b[0m\u001b[0;34m\u001b[0m\n",
       "\u001b[0;34m\u001b[0m    \u001b[0mmode\u001b[0m\u001b[0;34m=\u001b[0m\u001b[0;34m'r'\u001b[0m\u001b[0;34m,\u001b[0m\u001b[0;34m\u001b[0m\n",
       "\u001b[0;34m\u001b[0m    \u001b[0mbuffering\u001b[0m\u001b[0;34m=\u001b[0m\u001b[0;34m-\u001b[0m\u001b[0;36m1\u001b[0m\u001b[0;34m,\u001b[0m\u001b[0;34m\u001b[0m\n",
       "\u001b[0;34m\u001b[0m    \u001b[0mencoding\u001b[0m\u001b[0;34m=\u001b[0m\u001b[0;32mNone\u001b[0m\u001b[0;34m,\u001b[0m\u001b[0;34m\u001b[0m\n",
       "\u001b[0;34m\u001b[0m    \u001b[0merrors\u001b[0m\u001b[0;34m=\u001b[0m\u001b[0;32mNone\u001b[0m\u001b[0;34m,\u001b[0m\u001b[0;34m\u001b[0m\n",
       "\u001b[0;34m\u001b[0m    \u001b[0mnewline\u001b[0m\u001b[0;34m=\u001b[0m\u001b[0;32mNone\u001b[0m\u001b[0;34m,\u001b[0m\u001b[0;34m\u001b[0m\n",
       "\u001b[0;34m\u001b[0m\u001b[0;34m)\u001b[0m\u001b[0;34m\u001b[0m\u001b[0;34m\u001b[0m\u001b[0m\n",
       "\u001b[0;31mDocstring:\u001b[0m\n",
       "Open the file pointed by this path and return a file object, as\n",
       "the built-in open() function does.\n",
       "\u001b[0;31mFile:\u001b[0m      /usr/lib/python3.10/pathlib.py\n",
       "\u001b[0;31mType:\u001b[0m      method"
      ]
     },
     "metadata": {},
     "output_type": "display_data"
    }
   ],
   "source": [
    "MODEL_DIR.open?"
   ]
  },
  {
   "cell_type": "code",
   "execution_count": null,
   "id": "bbf9b1c6-0fb4-461a-9aa9-1c23e299671f",
   "metadata": {},
   "outputs": [],
   "source": []
  }
 ],
 "metadata": {
  "kernelspec": {
   "display_name": "base_kernel",
   "language": "python",
   "name": "base_kernel"
  },
  "language_info": {
   "codemirror_mode": {
    "name": "ipython",
    "version": 3
   },
   "file_extension": ".py",
   "mimetype": "text/x-python",
   "name": "python",
   "nbconvert_exporter": "python",
   "pygments_lexer": "ipython3",
   "version": "3.10.12"
  }
 },
 "nbformat": 4,
 "nbformat_minor": 5
}
