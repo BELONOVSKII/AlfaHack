{
 "cells": [
  {
   "cell_type": "code",
   "execution_count": 1,
   "id": "0fa3af6a-d478-4c0e-a715-21f3f6707c9c",
   "metadata": {},
   "outputs": [],
   "source": [
    "import sys; sys.path.append(\"../../../automl/\")"
   ]
  },
  {
   "cell_type": "code",
   "execution_count": null,
   "id": "0fe599f1-83eb-4e6b-8115-f05eb659ec95",
   "metadata": {},
   "outputs": [
    {
     "name": "stdout",
     "output_type": "stream",
     "text": [
      "'nlp' extra dependecy package 'gensim' isn't installed. Look at README.md in repo 'LightAutoML' for installation instructions.\n",
      "'nlp' extra dependecy package 'nltk' isn't installed. Look at README.md in repo 'LightAutoML' for installation instructions.\n",
      "'nlp' extra dependecy package 'transformers' isn't installed. Look at README.md in repo 'LightAutoML' for installation instructions.\n",
      "'nlp' extra dependecy package 'gensim' isn't installed. Look at README.md in repo 'LightAutoML' for installation instructions.\n",
      "'nlp' extra dependecy package 'nltk' isn't installed. Look at README.md in repo 'LightAutoML' for installation instructions.\n",
      "'nlp' extra dependecy package 'transformers' isn't installed. Look at README.md in repo 'LightAutoML' for installation instructions.\n",
      "[2024-11-07 07:19:03]\n",
      "/home/peter/venvs/base_venv/lib/python3.10/site-packages/lightautoml/ml_algo/dl_model.py:42: UserWarning: 'transformers' - package isn't installed\n",
      "  warnings.warn(\"'transformers' - package isn't installed\")\n",
      "/home/peter/venvs/base_venv/lib/python3.10/site-packages/lightautoml/text/embed.py:22: UserWarning: 'transformers' - package isn't installed\n",
      "  warnings.warn(\"'transformers' - package isn't installed\")\n",
      "/home/peter/venvs/base_venv/lib/python3.10/site-packages/lightautoml/text/dl_transformers.py:25: UserWarning: 'transformers' - package isn't installed\n",
      "  warnings.warn(\"'transformers' - package isn't installed\")\n"
     ]
    }
   ],
   "source": [
    "from pathlib import Path\n",
    "import yaml\n",
    "import joblib\n",
    "\n",
    "import pandas as pd\n",
    "import numpy as np\n",
    "\n",
    "from sklearn.model_selection import train_test_split\n",
    "\n",
    "from src.automl.model.lightgbm import LightGBMClassification\n",
    "from src.automl.loggers import configure_root_logger\n",
    "from src.automl.constants import create_ml_data_dir\n",
    "from src.automl.model.metrics import RocAuc"
   ]
  },
  {
   "cell_type": "code",
   "execution_count": null,
   "id": "087a93ef-e784-4dbb-8962-24e871577fee",
   "metadata": {},
   "outputs": [],
   "source": [
    "create_ml_data_dir()\n",
    "configure_root_logger()"
   ]
  },
  {
   "cell_type": "markdown",
   "id": "2a4701a7-04a9-42cd-b472-d9ca1dce955d",
   "metadata": {},
   "source": [
    "## Constants"
   ]
  },
  {
   "cell_type": "code",
   "execution_count": 8,
   "id": "9446b478-3af7-4d89-8d52-0d16996734e0",
   "metadata": {},
   "outputs": [],
   "source": [
    "RANDOM_SEED = 77\n",
    "DATA_PATH = Path(\"../../../data/\")\n",
    "CONFIG_PATH = Path(\"../../../configs/config.yaml\")\n",
    "N_JOBS = 16"
   ]
  },
  {
   "cell_type": "code",
   "execution_count": 9,
   "id": "5494d0ab-4d12-47b3-bbaa-31fd51961cac",
   "metadata": {},
   "outputs": [],
   "source": [
    "with CONFIG_PATH.open() as f:\n",
    "    cfg = yaml.load(f, Loader=yaml.SafeLoader)"
   ]
  },
  {
   "cell_type": "markdown",
   "id": "6fc1cf46-0712-400d-b190-15de4b596d15",
   "metadata": {},
   "source": [
    "## Data"
   ]
  },
  {
   "cell_type": "code",
   "execution_count": 10,
   "id": "7208e0bf-13a0-4f7a-9f2e-307f386ef935",
   "metadata": {},
   "outputs": [],
   "source": [
    "df_train = pd.read_parquet(DATA_PATH / \"train_preproc_2.parquet\")\n",
    "df_train, df_test = df_train.sort_values(by=\"id\").iloc[:300_000], df_train.sort_values(by=\"id\").iloc[300_000:]"
   ]
  },
  {
   "cell_type": "code",
   "execution_count": 11,
   "id": "24b73ba9-d6c5-4e83-b7ed-480881d44647",
   "metadata": {},
   "outputs": [
    {
     "data": {
      "text/plain": [
       "0    282256\n",
       "1     17744\n",
       "Name: target, dtype: int64"
      ]
     },
     "execution_count": 11,
     "metadata": {},
     "output_type": "execute_result"
    }
   ],
   "source": [
    "df_train[\"target\"].value_counts()"
   ]
  },
  {
   "cell_type": "code",
   "execution_count": 12,
   "id": "83dba0de-f224-4a5a-84db-acb5ff2ba670",
   "metadata": {},
   "outputs": [],
   "source": [
    "# undersample the 0 class\n",
    "df_train = pd.concat([df_train.loc[df_train.target == 1], df_train.loc[df_train.target == 0].sample(200_000, random_state=RANDOM_SEED)], ignore_index=True)\n"
   ]
  },
  {
   "cell_type": "code",
   "execution_count": 13,
   "id": "3a4bbaca-2b74-4177-88e4-4897ff07498b",
   "metadata": {},
   "outputs": [],
   "source": [
    "cat_columns = df_train.drop(columns=[\"target\", \"id\"]).select_dtypes(int).columns.values.tolist()"
   ]
  },
  {
   "cell_type": "code",
   "execution_count": 14,
   "id": "2525aeac-d91b-4864-a2cb-24f94702c1ab",
   "metadata": {},
   "outputs": [],
   "source": [
    "X_train, y_train = df_train[cfg[\"selected_features\"] + cat_columns], df_train[\"target\"]\n",
    "X_test, y_test = df_test[cfg[\"selected_features\"] + cat_columns], df_test[\"target\"]"
   ]
  },
  {
   "cell_type": "code",
   "execution_count": 15,
   "id": "0f28cd79-395e-4e5d-9fa6-015a640955d8",
   "metadata": {},
   "outputs": [
    {
     "data": {
      "text/plain": [
       "0    0.91851\n",
       "1    0.08149\n",
       "Name: target, dtype: float64"
      ]
     },
     "metadata": {},
     "output_type": "display_data"
    },
    {
     "data": {
      "text/plain": [
       "0    0.941322\n",
       "1    0.058678\n",
       "Name: target, dtype: float64"
      ]
     },
     "metadata": {},
     "output_type": "display_data"
    }
   ],
   "source": [
    "display(y_train.value_counts(normalize=True))\n",
    "display(y_test.value_counts(normalize=True))"
   ]
  },
  {
   "cell_type": "code",
   "execution_count": 16,
   "id": "12b00734-0a36-4487-93ed-c78e6833ed0b",
   "metadata": {},
   "outputs": [],
   "source": [
    "#categorical_features = ohe_cols# + oe_cols"
   ]
  },
  {
   "cell_type": "markdown",
   "id": "48abfc9d-95b1-4eda-9665-251676ed3d8f",
   "metadata": {},
   "source": [
    "## Model"
   ]
  },
  {
   "cell_type": "code",
   "execution_count": 143,
   "id": "eb596e87-b908-4ef9-b636-b4bd243bfa7f",
   "metadata": {},
   "outputs": [],
   "source": [
    "params = {'objective_type': 'binary',\n",
    " 'boosting': 'gbdt',\n",
    " 'num_iterations': 284,\n",
    " 'max_depth': 7,\n",
    " 'learning_rate': 0.03,\n",
    " 'num_leaves': 85,\n",
    " 'min_data_in_leaf': 162,\n",
    " 'bagging_fraction': 0.9073942790005392,\n",
    " 'bagging_freq': 20,\n",
    " 'feature_fraction': 0.4632002607000075,\n",
    " 'early_stopping_round': 100,\n",
    " 'lambda_l1': 0.9117760912120141,\n",
    " 'lambda_l2': 6.182177721979992,\n",
    " 'min_gain_to_split': 2.764898005468358,\n",
    " 'n_jobs': 16,\n",
    " 'random_state': 77,\n",
    " 'is_unbalance': False}\n",
    "metric = RocAuc()"
   ]
  },
  {
   "cell_type": "code",
   "execution_count": 19,
   "id": "b32e8180-6799-428d-93d8-50f8c19a074b",
   "metadata": {},
   "outputs": [],
   "source": [
    "metric = RocAuc()"
   ]
  },
  {
   "cell_type": "code",
   "execution_count": 20,
   "id": "6bab46f5-c9c4-4567-8fae-11296a05f4bf",
   "metadata": {},
   "outputs": [
    {
     "name": "stdout",
     "output_type": "stream",
     "text": [
      "[2024-11-06 14:03:47,383] - [   START    ] - Tuning LightGBMClassification\n",
      "[2024-11-06 14:03:52,866] - [   OPTUNA   ] - Trial 0. New best score 0.796432225884445 with parameters {'max_depth': 6, 'num_leaves': 488, 'min_data_in_leaf': 188, 'bagging_fraction': 0.7993292420985183, 'bagging_freq': 0, 'feature_fraction': 0.49359671220172163, 'lambda_l1': 0.5808361216819946, 'lambda_l2': 8.661761457749352, 'min_gain_to_split': 12.022300234864176, 'is_unbalance': True, 'num_iterations': 4}\n",
      "[2024-11-06 14:04:06,894] - [   OPTUNA   ] - Trial 1. New best score 0.7972928578687234 with parameters {'max_depth': 16, 'num_leaves': 428, 'min_data_in_leaf': 55, 'bagging_fraction': 0.5909124836035503, 'bagging_freq': 0, 'feature_fraction': 0.5825453457757226, 'lambda_l1': 5.247564316322379, 'lambda_l2': 4.319450186421157, 'min_gain_to_split': 5.824582803960839, 'is_unbalance': True, 'num_iterations': 5}\n",
      "[2024-11-06 14:04:19,160] - [   OPTUNA   ] - Trial 3. New best score 0.8078773642735397 with parameters {'max_depth': 16, 'num_leaves': 495, 'min_data_in_leaf': 207, 'bagging_fraction': 0.6523068845866853, 'bagging_freq': 0, 'feature_fraction': 0.8105398159072941, 'lambda_l1': 4.4015249373960135, 'lambda_l2': 1.2203823484477883, 'min_gain_to_split': 9.903538202225404, 'is_unbalance': False, 'num_iterations': 190}\n",
      "[2024-11-06 14:04:31,550] - [   OPTUNA   ] - Trial 5. New best score 0.8090313905877388 with parameters {'max_depth': 15, 'num_leaves': 54, 'min_data_in_leaf': 51, 'bagging_fraction': 0.522613644455269, 'bagging_freq': 0, 'feature_fraction': 0.6332063738136893, 'lambda_l1': 2.713490317738959, 'lambda_l2': 8.287375091519294, 'min_gain_to_split': 7.135066533871786, 'is_unbalance': False, 'num_iterations': 195}\n",
      "[2024-11-06 14:05:11,260] - [   OPTUNA   ] - Trial 10. New best score 0.8096481887287112 with parameters {'max_depth': 11, 'num_leaves': 13, 'min_data_in_leaf': 249, 'bagging_fraction': 0.5089809378074097, 'bagging_freq': 10, 'feature_fraction': 0.8742082803631225, 'lambda_l1': 2.5792695260149188, 'lambda_l2': 9.7494021524717, 'min_gain_to_split': 1.2843506971410603, 'is_unbalance': False, 'num_iterations': 608}\n",
      "[2024-11-06 14:05:56,596] - [   OPTUNA   ] - Trial 13. New best score 0.8100509876696455 with parameters {'max_depth': 10, 'num_leaves': 115, 'min_data_in_leaf': 245, 'bagging_fraction': 0.6007570308715023, 'bagging_freq': 10, 'feature_fraction': 0.9993609805281409, 'lambda_l1': 3.3091284180681475, 'lambda_l2': 6.580191866807774, 'min_gain_to_split': 0.31017889891399897, 'is_unbalance': False, 'num_iterations': 240}\n",
      "[2024-11-06 14:07:12,083] - [   OPTUNA   ] - Trial 20. New best score 0.8102609400384472 with parameters {'max_depth': 13, 'num_leaves': 246, 'min_data_in_leaf': 224, 'bagging_fraction': 0.6204711945799607, 'bagging_freq': 20, 'feature_fraction': 0.8382253241188681, 'lambda_l1': 3.816494115978136, 'lambda_l2': 6.973226503491788, 'min_gain_to_split': 2.036004788453889, 'is_unbalance': False, 'num_iterations': 243}\n",
      "[2024-11-06 14:07:37,783] - [   OPTUNA   ] - Trial 22. New best score 0.8107182032599335 with parameters {'max_depth': 7, 'num_leaves': 156, 'min_data_in_leaf': 191, 'bagging_fraction': 0.6305174989043374, 'bagging_freq': 20, 'feature_fraction': 0.7804077955442328, 'lambda_l1': 1.766047654003681, 'lambda_l2': 5.370310647300173, 'min_gain_to_split': 0.11724765125337272, 'is_unbalance': False, 'num_iterations': 297}\n",
      "[2024-11-06 14:07:51,606] - [   OPTUNA   ] - Trial 23. New best score 0.8111047984252039 with parameters {'max_depth': 7, 'num_leaves': 304, 'min_data_in_leaf': 191, 'bagging_fraction': 0.6949628191602377, 'bagging_freq': 20, 'feature_fraction': 0.7709605143867836, 'lambda_l1': 1.598553584473219, 'lambda_l2': 5.361951175185931, 'min_gain_to_split': 0.6945193854117233, 'is_unbalance': False, 'num_iterations': 318}\n",
      "[2024-11-06 14:09:19,810] - [   OPTUNA   ] - Trial 31. New best score 0.8111502190988269 with parameters {'max_depth': 7, 'num_leaves': 277, 'min_data_in_leaf': 192, 'bagging_fraction': 0.7550225450267498, 'bagging_freq': 20, 'feature_fraction': 0.7665194199704458, 'lambda_l1': 1.8966931563027087, 'lambda_l2': 5.660820558375181, 'min_gain_to_split': 0.04473331940717773, 'is_unbalance': False, 'num_iterations': 315}\n",
      "[2024-11-06 14:12:29,166] - [   OPTUNA   ] - Trial 43. New best score 0.8120138687442482 with parameters {'max_depth': 6, 'num_leaves': 474, 'min_data_in_leaf': 153, 'bagging_fraction': 0.7798750344375822, 'bagging_freq': 0, 'feature_fraction': 0.5451416089877308, 'lambda_l1': 3.1719446045355113, 'lambda_l2': 5.255255869559358, 'min_gain_to_split': 0.10454219822729449, 'is_unbalance': False, 'num_iterations': 426}\n",
      "[2024-11-06 14:12:52,305] - [   OPTUNA   ] - Trial 45. New best score 0.8120817386679893 with parameters {'max_depth': 7, 'num_leaves': 470, 'min_data_in_leaf': 151, 'bagging_fraction': 0.9185323678293791, 'bagging_freq': 10, 'feature_fraction': 0.6853288465747626, 'lambda_l1': 1.1522232114877187, 'lambda_l2': 6.982553017274791, 'min_gain_to_split': 0.134375030647657, 'is_unbalance': False, 'num_iterations': 341}\n",
      "[2024-11-06 14:13:19,493] - [   OPTUNA   ] - Trial 47. New best score 0.8127298189750005 with parameters {'max_depth': 10, 'num_leaves': 484, 'min_data_in_leaf': 117, 'bagging_fraction': 0.9231467239144024, 'bagging_freq': 10, 'feature_fraction': 0.48747408399052083, 'lambda_l1': 1.1899237411669028, 'lambda_l2': 6.99681802671355, 'min_gain_to_split': 0.6622020085566596, 'is_unbalance': False, 'num_iterations': 262}\n",
      "[2024-11-06 14:14:31,688] - [   OPTUNA   ] - Trial 51. New best score 0.8130370405989524 with parameters {'max_depth': 10, 'num_leaves': 501, 'min_data_in_leaf': 110, 'bagging_fraction': 0.9191142237987269, 'bagging_freq': 10, 'feature_fraction': 0.41857153818330595, 'lambda_l1': 4.439738919675728, 'lambda_l2': 8.366955561167096, 'min_gain_to_split': 0.17473743596121538, 'is_unbalance': False, 'num_iterations': 332}\n",
      "[2024-11-06 14:30:40,152] - [   OPTUNA   ] - Trial 104. New best score 0.8132389905956645 with parameters {'max_depth': 10, 'num_leaves': 466, 'min_data_in_leaf': 115, 'bagging_fraction': 0.9764138320091976, 'bagging_freq': 10, 'feature_fraction': 0.4175615633377868, 'lambda_l1': 5.065370063624183, 'lambda_l2': 7.09866471940648, 'min_gain_to_split': 0.4940606016909459, 'is_unbalance': False, 'num_iterations': 295}\n",
      "[2024-11-06 14:57:55,890] - [   OPTUNA   ] - Trial 191. New best score 0.8132467610523062 with parameters {'max_depth': 10, 'num_leaves': 241, 'min_data_in_leaf': 107, 'bagging_fraction': 0.9719608054220406, 'bagging_freq': 10, 'feature_fraction': 0.42277860476418705, 'lambda_l1': 5.386345541248159, 'lambda_l2': 7.756436848007908, 'min_gain_to_split': 0.6213819231607576, 'is_unbalance': False, 'num_iterations': 316}\n",
      "[2024-11-06 15:03:47,546] - [   OPTUNA   ] - 210 trials completed\n",
      "[2024-11-06 15:03:47,548] - [BEST PARAMS ] - {'objective_type': 'binary', 'boosting': 'gbdt', 'num_iterations': 316, 'max_depth': 10, 'learning_rate': 0.03, 'num_leaves': 241, 'min_data_in_leaf': 107, 'bagging_fraction': 0.9719608054220406, 'bagging_freq': 10, 'feature_fraction': 0.42277860476418705, 'early_stopping_round': 100, 'lambda_l1': 5.386345541248159, 'lambda_l2': 7.756436848007908, 'min_gain_to_split': 0.6213819231607576, 'num_threads': 16, 'random_state': 42, 'is_unbalance': False, 'num_classes': 1, 'verbose': -1}\n",
      "[2024-11-06 15:03:47,549] - [    END     ] - Tuning LightGBMClassification\n",
      "[2024-11-06 15:03:47,550] - [   START    ] - Fitting LightGBMClassification\n",
      "[2024-11-06 15:03:47,574] - [    FIT     ] - LightGBMClassification fold 0\n",
      "[2024-11-06 15:03:51,800] - [    FIT     ] - LightGBMClassification fold 1\n",
      "[2024-11-06 15:03:56,073] - [    FIT     ] - LightGBMClassification fold 2\n",
      "[2024-11-06 15:04:00,364] - [    FIT     ] - LightGBMClassification fold 3\n",
      "[2024-11-06 15:04:04,637] - [    FIT     ] - LightGBMClassification fold 4\n",
      "[2024-11-06 15:04:07,923] - [    END     ] - Fitting LightGBMClassification\n",
      "0.813110648669973\n",
      "0.8071439034428135\n"
     ]
    }
   ],
   "source": [
    "model = LightGBMClassification(n_jobs=16)\n",
    "model.tune(X_train, y_train, metric, timeout=60 * 60, categorical_features=cat_columns)\n",
    "oof = model.fit(X_train, y_train, categorical_features=cat_columns)\n",
    "y_pred = model.predict(X_test)\n",
    "\n",
    "print(metric(y_train, oof))\n",
    "print(metric(y_test, y_pred))"
   ]
  },
  {
   "cell_type": "code",
   "execution_count": 23,
   "id": "e6dd6ac2-6191-43c5-84da-522b4829abd7",
   "metadata": {},
   "outputs": [],
   "source": [
    "MODEL_NAME = \"lgb_813\"\n",
    "MODEL_DIR = Path(f\"../../../data/models/{MODEL_NAME}\")\n",
    "MODEL_DIR.mkdir(exist_ok=True)"
   ]
  },
  {
   "cell_type": "code",
   "execution_count": 24,
   "id": "5e4fed09-b428-4509-8644-347cbbb27f33",
   "metadata": {},
   "outputs": [],
   "source": [
    "res = pd.DataFrame()\n",
    "res[MODEL_NAME] = oof[:, 1]\n",
    "res.to_csv(MODEL_DIR / \"oof.csv\", index=False)\n",
    "joblib.dump(model, MODEL_DIR / f\"{MODEL_NAME}.joblib\")\n",
    "\n",
    "with (MODEL_DIR / \"params.yaml\").open(\"w\") as f:\n",
    "    yaml.dump(model.params, f)\n",
    "\n",
    "with (MODEL_DIR / \"score.txt\").open(\"w\") as f:\n",
    "    print(\"OOF:\", metric(y_train, oof), file=f)\n",
    "    print(\"Test:\", metric(y_test, y_pred), file=f)"
   ]
  },
  {
   "cell_type": "markdown",
   "id": "4e490c4a",
   "metadata": {},
   "source": [
    "## Inference"
   ]
  },
  {
   "cell_type": "code",
   "execution_count": 27,
   "id": "a3645213-67f1-4a56-8449-706616b01975",
   "metadata": {},
   "outputs": [],
   "source": [
    "test = pd.read_parquet(DATA_PATH / \"test_preproc_2.parquet\")\n",
    "test[\"target\"] = model.predict(test[cfg[\"selected_features\"] + cat_columns])[:, 1]\n",
    "test[['id', 'target']].to_csv('lgb_813.csv', index=False)"
   ]
  },
  {
   "cell_type": "code",
   "execution_count": 25,
   "id": "c8b626f4-24d7-47cc-8e1c-8d4829422eda",
   "metadata": {},
   "outputs": [],
   "source": [
    "pred_1 = pd.read_csv(\"lama_utilized.csv\")\n",
    "pred_2 = pd.read_csv(\"lgmb_oe_ohe_cols_0805.csv\")\n",
    "pred_3 = pd.read_csv(\"catboost_ts.csv\")"
   ]
  },
  {
   "cell_type": "code",
   "execution_count": 26,
   "id": "f6fd1b74-1c84-47a2-9640-f9afca52a2c5",
   "metadata": {},
   "outputs": [],
   "source": [
    "pred_1[\"target\"] = 0.6 * pred_1[\"target\"] + 0.2 * pred_2[\"target\"] + 0.2 * pred_3[\"target\"]"
   ]
  },
  {
   "cell_type": "code",
   "execution_count": 29,
   "id": "b9a12186-27a7-43e5-bbf9-05d9894bd617",
   "metadata": {},
   "outputs": [],
   "source": [
    "pred_1.to_csv(\"blend.csv\", index=False)"
   ]
  },
  {
   "cell_type": "code",
   "execution_count": 166,
   "id": "1a479dff-a006-4237-9a22-9b4a9d6a52eb",
   "metadata": {},
   "outputs": [
    {
     "data": {
      "text/plain": [
       "\u001b[0;31mSignature:\u001b[0m\n",
       "\u001b[0mMODEL_DIR\u001b[0m\u001b[0;34m.\u001b[0m\u001b[0mopen\u001b[0m\u001b[0;34m(\u001b[0m\u001b[0;34m\u001b[0m\n",
       "\u001b[0;34m\u001b[0m    \u001b[0mmode\u001b[0m\u001b[0;34m=\u001b[0m\u001b[0;34m'r'\u001b[0m\u001b[0;34m,\u001b[0m\u001b[0;34m\u001b[0m\n",
       "\u001b[0;34m\u001b[0m    \u001b[0mbuffering\u001b[0m\u001b[0;34m=\u001b[0m\u001b[0;34m-\u001b[0m\u001b[0;36m1\u001b[0m\u001b[0;34m,\u001b[0m\u001b[0;34m\u001b[0m\n",
       "\u001b[0;34m\u001b[0m    \u001b[0mencoding\u001b[0m\u001b[0;34m=\u001b[0m\u001b[0;32mNone\u001b[0m\u001b[0;34m,\u001b[0m\u001b[0;34m\u001b[0m\n",
       "\u001b[0;34m\u001b[0m    \u001b[0merrors\u001b[0m\u001b[0;34m=\u001b[0m\u001b[0;32mNone\u001b[0m\u001b[0;34m,\u001b[0m\u001b[0;34m\u001b[0m\n",
       "\u001b[0;34m\u001b[0m    \u001b[0mnewline\u001b[0m\u001b[0;34m=\u001b[0m\u001b[0;32mNone\u001b[0m\u001b[0;34m,\u001b[0m\u001b[0;34m\u001b[0m\n",
       "\u001b[0;34m\u001b[0m\u001b[0;34m)\u001b[0m\u001b[0;34m\u001b[0m\u001b[0;34m\u001b[0m\u001b[0m\n",
       "\u001b[0;31mDocstring:\u001b[0m\n",
       "Open the file pointed by this path and return a file object, as\n",
       "the built-in open() function does.\n",
       "\u001b[0;31mFile:\u001b[0m      /usr/lib/python3.10/pathlib.py\n",
       "\u001b[0;31mType:\u001b[0m      method"
      ]
     },
     "metadata": {},
     "output_type": "display_data"
    }
   ],
   "source": [
    "MODEL_DIR.open?"
   ]
  },
  {
   "cell_type": "code",
   "execution_count": null,
   "id": "bbf9b1c6-0fb4-461a-9aa9-1c23e299671f",
   "metadata": {},
   "outputs": [],
   "source": []
  }
 ],
 "metadata": {
  "kernelspec": {
   "display_name": "base_kernel",
   "language": "python",
   "name": "base_kernel"
  },
  "language_info": {
   "codemirror_mode": {
    "name": "ipython",
    "version": 3
   },
   "file_extension": ".py",
   "mimetype": "text/x-python",
   "name": "python",
   "nbconvert_exporter": "python",
   "pygments_lexer": "ipython3",
   "version": "3.10.12"
  }
 },
 "nbformat": 4,
 "nbformat_minor": 5
}
