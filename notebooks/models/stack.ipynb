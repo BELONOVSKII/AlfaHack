{
 "cells": [
  {
   "cell_type": "code",
   "execution_count": 1,
   "id": "0fa3af6a-d478-4c0e-a715-21f3f6707c9c",
   "metadata": {},
   "outputs": [],
   "source": [
    "import sys; sys.path.append(\"../../automl/\")"
   ]
  },
  {
   "cell_type": "code",
   "execution_count": 2,
   "id": "0fe599f1-83eb-4e6b-8115-f05eb659ec95",
   "metadata": {},
   "outputs": [
    {
     "name": "stdout",
     "output_type": "stream",
     "text": [
      "'nlp' extra dependecy package 'gensim' isn't installed. Look at README.md in repo 'LightAutoML' for installation instructions.\n",
      "'nlp' extra dependecy package 'nltk' isn't installed. Look at README.md in repo 'LightAutoML' for installation instructions.\n",
      "'nlp' extra dependecy package 'transformers' isn't installed. Look at README.md in repo 'LightAutoML' for installation instructions.\n",
      "'nlp' extra dependecy package 'gensim' isn't installed. Look at README.md in repo 'LightAutoML' for installation instructions.\n",
      "'nlp' extra dependecy package 'nltk' isn't installed. Look at README.md in repo 'LightAutoML' for installation instructions.\n",
      "'nlp' extra dependecy package 'transformers' isn't installed. Look at README.md in repo 'LightAutoML' for installation instructions.\n",
      "[2024-11-06 12:51:42]\n",
      "/home/peter/venvs/base_venv/lib/python3.10/site-packages/lightautoml/ml_algo/dl_model.py:42: UserWarning: 'transformers' - package isn't installed\n",
      "  warnings.warn(\"'transformers' - package isn't installed\")\n",
      "/home/peter/venvs/base_venv/lib/python3.10/site-packages/lightautoml/text/embed.py:22: UserWarning: 'transformers' - package isn't installed\n",
      "  warnings.warn(\"'transformers' - package isn't installed\")\n",
      "/home/peter/venvs/base_venv/lib/python3.10/site-packages/lightautoml/text/dl_transformers.py:25: UserWarning: 'transformers' - package isn't installed\n",
      "  warnings.warn(\"'transformers' - package isn't installed\")\n"
     ]
    }
   ],
   "source": [
    "from pathlib import Path\n",
    "import yaml\n",
    "import joblib\n",
    "\n",
    "import pandas as pd\n",
    "import numpy as np\n",
    "\n",
    "from sklearn.model_selection import train_test_split\n",
    "\n",
    "from src.automl.model.xgboost import XGBClassification\n",
    "from src.automl.model.lama import TabularLama\n",
    "from src.automl.model.lightgbm import LightGBMClassification\n",
    "\n",
    "from src.automl.loggers import configure_root_logger\n",
    "from src.automl.constants import create_ml_data_dir\n",
    "from src.automl.model.metrics import RocAuc"
   ]
  },
  {
   "cell_type": "markdown",
   "id": "2a4701a7-04a9-42cd-b472-d9ca1dce955d",
   "metadata": {},
   "source": [
    "## Constants"
   ]
  },
  {
   "cell_type": "code",
   "execution_count": 4,
   "id": "9446b478-3af7-4d89-8d52-0d16996734e0",
   "metadata": {},
   "outputs": [],
   "source": [
    "RANDOM_SEED = 77\n",
    "DATA_PATH = Path(\"../../data/\")\n",
    "CONFIG_PATH = Path(\"../../configs/config.yaml\")\n",
    "N_JOBS = 16"
   ]
  },
  {
   "cell_type": "code",
   "execution_count": 5,
   "id": "5494d0ab-4d12-47b3-bbaa-31fd51961cac",
   "metadata": {},
   "outputs": [],
   "source": [
    "with CONFIG_PATH.open() as f:\n",
    "    cfg = yaml.load(f, Loader=yaml.SafeLoader)"
   ]
  },
  {
   "cell_type": "markdown",
   "id": "6fc1cf46-0712-400d-b190-15de4b596d15",
   "metadata": {},
   "source": [
    "## Data"
   ]
  },
  {
   "cell_type": "code",
   "execution_count": 6,
   "id": "7208e0bf-13a0-4f7a-9f2e-307f386ef935",
   "metadata": {},
   "outputs": [],
   "source": [
    "df_train = pd.read_parquet(DATA_PATH / \"train_preproc.parquet\")\n",
    "df_train, df_test = df_train.sort_values(by=\"id\").iloc[:300_000], df_train.sort_values(by=\"id\").iloc[300_000:]"
   ]
  },
  {
   "cell_type": "code",
   "execution_count": 7,
   "id": "24b73ba9-d6c5-4e83-b7ed-480881d44647",
   "metadata": {},
   "outputs": [
    {
     "data": {
      "text/plain": [
       "0    282256\n",
       "1     17744\n",
       "Name: target, dtype: int64"
      ]
     },
     "execution_count": 7,
     "metadata": {},
     "output_type": "execute_result"
    }
   ],
   "source": [
    "df_train[\"target\"].value_counts()"
   ]
  },
  {
   "cell_type": "code",
   "execution_count": 8,
   "id": "83dba0de-f224-4a5a-84db-acb5ff2ba670",
   "metadata": {},
   "outputs": [],
   "source": [
    "# undersample the 0 class\n",
    "df_train = pd.concat([df_train.loc[df_train.target == 1], df_train.loc[df_train.target == 0].sample(200_000, random_state=RANDOM_SEED)], ignore_index=True)"
   ]
  },
  {
   "cell_type": "code",
   "execution_count": 9,
   "id": "a735eea0-9df5-452c-ad15-ae9b2839f1d0",
   "metadata": {},
   "outputs": [],
   "source": [
    "# add oof columns\n",
    "oof_paths = [\"../../data/models/lama_8029/oof.csv\",\n",
    "             \"../../data/models/lgb_8055/oof.csv\",\n",
    "             \"../../data/models/xgb_8052/oof.csv\"]\n",
    "df_oof = pd.read_csv(oof_paths[0])\n",
    "for oof_file in oof_paths[1:]:\n",
    "    temp = pd.read_csv(oof_file)\n",
    "    df_oof = pd.concat([df_oof, temp], axis=1)"
   ]
  },
  {
   "cell_type": "code",
   "execution_count": 10,
   "id": "5151943d-87f5-49cd-a668-433635014932",
   "metadata": {},
   "outputs": [],
   "source": [
    "df_oof[\"target\"] = df_train[\"target\"]"
   ]
  },
  {
   "cell_type": "code",
   "execution_count": 11,
   "id": "47c24d11",
   "metadata": {},
   "outputs": [],
   "source": [
    "df_train = pd.concat([df_train.drop(columns=\"target\"), df_oof], axis=1)"
   ]
  },
  {
   "cell_type": "code",
   "execution_count": 12,
   "id": "3a4bbaca-2b74-4177-88e4-4897ff07498b",
   "metadata": {},
   "outputs": [],
   "source": [
    "ohe_cols = df_train.columns[df_train.columns.str.startswith(\"OneHotEncoder\")].values.tolist()\n",
    "oe_cols = df_train.columns[df_train.columns.str.startswith(\"OrdinalEncoder\")].values.tolist()\n",
    "te_cols = df_train.columns[df_train.columns.str.startswith(\"MeanTargetEncoder\")].values.tolist()"
   ]
  },
  {
   "cell_type": "code",
   "execution_count": 17,
   "id": "2525aeac-d91b-4864-a2cb-24f94702c1ab",
   "metadata": {},
   "outputs": [],
   "source": [
    "# take target encoded columns\n",
    "X_train, y_train = df_train[cfg[\"selected_features\"] + te_cols + ohe_cols + list(df_oof.columns[: -1])], df_train[\"target\"]\n",
    "#X_test, y_test = df_test[cfg[\"selected_features\"] + te_cols + ohe_cols + list(df_oof.columns[: -1])], df_test[\"target\"]"
   ]
  },
  {
   "cell_type": "code",
   "execution_count": 13,
   "id": "8a13302a-4083-4e00-9574-15af9e5c5ce5",
   "metadata": {},
   "outputs": [],
   "source": [
    "# take all columns\n",
    "X_train, y_train = df_train.drop(columns=[\"target\", \"id\", \"smpl\"]), df_train[\"target\"]\n",
    "X_test, y_test = df_test.drop(columns=[\"target\", \"id\", \"smpl\"]), df_test[\"target\"]"
   ]
  },
  {
   "cell_type": "code",
   "execution_count": 73,
   "id": "979b253b-f611-498c-919d-11993f85a939",
   "metadata": {},
   "outputs": [],
   "source": [
    "# take ordinal encoded columns\n",
    "X_train, y_train = df_train[cfg[\"selected_features\"] + oe_cols + ohe_cols], df_train[\"target\"]\n",
    "X_test, y_test = df_test[cfg[\"selected_features\"] + oe_cols + ohe_cols], df_test[\"target\"]"
   ]
  },
  {
   "cell_type": "code",
   "execution_count": 13,
   "id": "0f28cd79-395e-4e5d-9fa6-015a640955d8",
   "metadata": {},
   "outputs": [
    {
     "data": {
      "text/plain": [
       "0    0.91851\n",
       "1    0.08149\n",
       "Name: target, dtype: float64"
      ]
     },
     "metadata": {},
     "output_type": "display_data"
    },
    {
     "data": {
      "text/plain": [
       "0    0.941322\n",
       "1    0.058678\n",
       "Name: target, dtype: float64"
      ]
     },
     "metadata": {},
     "output_type": "display_data"
    }
   ],
   "source": [
    "display(y_train.value_counts(normalize=True))\n",
    "display(y_test.value_counts(normalize=True))"
   ]
  },
  {
   "cell_type": "code",
   "execution_count": 18,
   "id": "12b00734-0a36-4487-93ed-c78e6833ed0b",
   "metadata": {},
   "outputs": [],
   "source": [
    "categorical_features = ohe_cols# + oe_cols\n",
    "test = pd.read_parquet(DATA_PATH / \"test_preproc.parquet\")"
   ]
  },
  {
   "cell_type": "markdown",
   "id": "c185f025-0c51-4583-be7c-bee366c0edaa",
   "metadata": {},
   "source": [
    "## Blend"
   ]
  },
  {
   "cell_type": "code",
   "execution_count": 41,
   "id": "498f3ffc-4f2a-4d39-ac37-ba8ee17f3aae",
   "metadata": {},
   "outputs": [
    {
     "data": {
      "application/vnd.jupyter.widget-view+json": {
       "model_id": "b3c687f81d3e425e8c4d38306a0be947",
       "version_major": 2,
       "version_minor": 0
      },
      "text/plain": [
       "  0%|          | 0/200 [00:00<?, ?it/s]"
      ]
     },
     "metadata": {},
     "output_type": "display_data"
    },
    {
     "name": "stdout",
     "output_type": "stream",
     "text": [
      "[2024-11-06 12:07:35]\n",
      "\n",
      "KeyboardInterrupt\n",
      "\n"
     ]
    }
   ],
   "source": [
    "from sklearn.model_selection import StratifiedKFold\n",
    "from tqdm.auto import tqdm\n",
    "\n",
    "best_score = 0\n",
    "best_pred = None\n",
    "best_weights = (None, None, None)\n",
    "metric = RocAuc()\n",
    "\n",
    "#kf = StratifiedKFold(n_splits=5, random_state=self.random_state, shuffle=True)\n",
    "for weights_1 in tqdm(np.arange(0, 1, 0.005)):\n",
    "    for weights_2 in np.arange(0, 1 - weights_1, 0.005):\n",
    "        weights_3 = 1 - weights_2 - weights_1\n",
    "\n",
    "        pred = (weights_1 * df_oof.iloc[:, 0].values +\n",
    "                weights_2 * df_oof.iloc[:, 1].values +\n",
    "                weights_3 * df_oof.iloc[:, 2].values)\n",
    "\n",
    "        score = metric(df_oof[\"target\"], pred)\n",
    "        \n",
    "        if score > best_score:\n",
    "            best_score = score\n",
    "            best_pred = pred\n",
    "            best_weights = (weights_1, weights_2, weights_3)\n",
    "\n",
    "print(best_score)\n",
    "print(best_weights)\n",
    "print()"
   ]
  },
  {
   "cell_type": "code",
   "execution_count": 39,
   "id": "10df63d9-4263-4f29-9bec-8dde6b26dc32",
   "metadata": {},
   "outputs": [],
   "source": [
    "model_1 = joblib.load(\"../../data/models/lama_8029/lama_8029.joblib\")\n",
    "model_1.task = \"binary\"\n",
    "\n",
    "model_2 = joblib.load(\"../../data/models/lgb_8055/lgb_8055.joblib\")\n",
    "model_3 = joblib.load(\"../../data/models/xgb_8052/xgb_8052.joblib\")\n",
    "\n",
    "pred_1 = model_1.predict(test[cfg[\"selected_features\"] + te_cols + ohe_cols])\n",
    "pred_2 = model_2.predict(test[cfg[\"selected_features\"] + te_cols + ohe_cols])\n",
    "pred_3 = model_3.predict(test[cfg[\"selected_features\"] + te_cols + ohe_cols])"
   ]
  },
  {
   "cell_type": "code",
   "execution_count": 42,
   "id": "69b085be",
   "metadata": {},
   "outputs": [],
   "source": [
    "test[\"target\"] = pred_1[:, 1] * 0.12 + pred_2[:, 1] * 0.52 + pred_3[:, 1] * 0.36"
   ]
  },
  {
   "cell_type": "code",
   "execution_count": 45,
   "id": "63bcbe8f",
   "metadata": {},
   "outputs": [],
   "source": [
    "test[['id', 'target']].to_csv('blend_806.csv', index=False)"
   ]
  },
  {
   "cell_type": "code",
   "execution_count": 32,
   "id": "0195f80d-2de3-40bc-bba1-5630196bcfd6",
   "metadata": {},
   "outputs": [
    {
     "name": "stdout",
     "output_type": "stream",
     "text": [
      "['numeric__feature_16' 'numeric__feature_11' 'numeric__feature_100'\n",
      " 'numeric__feature_142' 'numeric__feature_93' 'numeric__feature_8'\n",
      " 'numeric__feature_46' 'numeric__feature_168' 'numeric__feature_95'\n",
      " 'OneHotEncoder__feature_71_2' 'numeric__feature_141'\n",
      " 'numeric__feature_183' 'numeric__feature_33' 'numeric__feature_62'\n",
      " 'numeric__feature_25' 'numeric__feature_18' 'numeric__feature_6'\n",
      " 'numeric__feature_26' 'numeric__feature_43' 'numeric__feature_59'\n",
      " 'numeric__feature_12' 'numeric__feature_78'\n",
      " 'MeanTargetEncoder__feature_179' 'numeric__feature_20'\n",
      " 'numeric__feature_157' 'OneHotEncoder__feature_31_3'\n",
      " 'numeric__feature_90' 'numeric__feature_91' 'numeric__feature_79'\n",
      " 'numeric__feature_76' 'numeric__feature_10' 'numeric__feature_50'\n",
      " 'numeric__feature_44' 'numeric__feature_145' 'numeric__feature_112'\n",
      " 'numeric__feature_111' 'OneHotEncoder__feature_31_2'\n",
      " 'numeric__feature_96' 'MeanTargetEncoder__feature_163'\n",
      " 'numeric__feature_94' 'numeric__feature_36'\n",
      " 'MeanTargetEncoder__feature_185' 'numeric__feature_42'\n",
      " 'numeric__feature_9' 'OneHotEncoder__feature_31_1' 'numeric__feature_81'\n",
      " 'MeanTargetEncoder__feature_61' 'OneHotEncoder__feature_71_1'\n",
      " 'numeric__feature_27' 'MeanTargetEncoder__feature_167'\n",
      " 'numeric__feature_148' 'numeric__feature_51' 'numeric__feature_85'\n",
      " 'OneHotEncoder__feature_122_1' 'numeric__feature_130'\n",
      " 'numeric__feature_166' 'numeric__feature_138'\n",
      " 'MeanTargetEncoder__feature_60' 'numeric__feature_23'\n",
      " 'MeanTargetEncoder__feature_109' 'numeric__feature_68'\n",
      " 'numeric__feature_125' 'OneHotEncoder__feature_122_2'\n",
      " 'MeanTargetEncoder__feature_156' 'numeric__feature_159'\n",
      " 'MeanTargetEncoder__feature_7' 'OneHotEncoder__feature_122_3']\n",
      "[0.11811268 0.10682578 0.06213693 0.04232686 0.03580628 0.02853706\n",
      " 0.02804878 0.02582883 0.02341526 0.02093186 0.01889041 0.01572867\n",
      " 0.01570947 0.01390268 0.01324706 0.01249473 0.01222223 0.01192105\n",
      " 0.01157539 0.01086045 0.010708   0.01046621 0.01020518 0.00969014\n",
      " 0.00955003 0.00931874 0.00912612 0.00868797 0.00855104 0.00834123\n",
      " 0.00833462 0.0082349  0.00820368 0.00811084 0.00809838 0.00797058\n",
      " 0.00790386 0.00783877 0.00783727 0.00780871 0.00780829 0.00780593\n",
      " 0.00773872 0.007714   0.0076834  0.00765816 0.00761774 0.00757626\n",
      " 0.00754422 0.00747875 0.00743457 0.00734797 0.00734223 0.00732673\n",
      " 0.00727541 0.00717815 0.00714402 0.00708081 0.00705444 0.00705052\n",
      " 0.00699679 0.00688321 0.00686329 0.00685991 0.00674255 0.0066528\n",
      " 0.00663243]\n"
     ]
    }
   ],
   "source": [
    "print(np.array(cfg[\"selected_features\"] + te_cols + ohe_cols)[np.argsort(-model_3.models[0].feature_importances_)])\n",
    "print(model_3.models[0].feature_importances_[np.argsort(-model_3.models[0].feature_importances_)])"
   ]
  },
  {
   "cell_type": "markdown",
   "id": "a4bac4e0-ba6a-47d8-9593-d756236a4003",
   "metadata": {},
   "source": [
    "## Stack"
   ]
  },
  {
   "cell_type": "code",
   "execution_count": 20,
   "id": "db4db799",
   "metadata": {},
   "outputs": [],
   "source": [
    "metric = RocAuc()"
   ]
  },
  {
   "cell_type": "code",
   "execution_count": 22,
   "id": "10fe6d6f-9cd1-43d6-a1dc-5971d89c1de6",
   "metadata": {},
   "outputs": [
    {
     "name": "stdout",
     "output_type": "stream",
     "text": [
      "[2024-11-06 12:55:19,579] - [   START    ] - Fitting TabularLama\n",
      "[12:55:19] Stdout logging level is INFO.\n",
      "[12:55:19] Task: binary\n",
      "\n",
      "[12:55:19] Start automl preset with listed constraints:\n",
      "[12:55:19] - time: 7200.00 seconds\n",
      "[12:55:19] - CPU: 16 cores\n",
      "[12:55:19] - memory: 16 GB\n",
      "\n",
      "[12:55:19] \u001b[1mTrain data shape: (217744, 71)\u001b[0m\n",
      "\n",
      "[12:55:31] Layer \u001b[1m1\u001b[0m train process start. Time left 7187.74 secs\n",
      "[12:55:32] Start fitting \u001b[1mLvl_0_Pipe_0_Mod_0_LinearL2\u001b[0m ...\n",
      "[12:55:35] Fitting \u001b[1mLvl_0_Pipe_0_Mod_0_LinearL2\u001b[0m finished. score = \u001b[1m0.8007066986023443\u001b[0m\n",
      "[12:55:35] \u001b[1mLvl_0_Pipe_0_Mod_0_LinearL2\u001b[0m fitting and predicting completed\n",
      "[12:55:35] Time left 7184.21 secs\n",
      "\n",
      "[12:55:38] \u001b[1mSelector_LightGBM\u001b[0m fitting and predicting completed\n",
      "[12:55:38] Start fitting \u001b[1mLvl_0_Pipe_1_Mod_0_LightGBM\u001b[0m ...\n",
      "[12:55:52] Fitting \u001b[1mLvl_0_Pipe_1_Mod_0_LightGBM\u001b[0m finished. score = \u001b[1m0.7919720626690712\u001b[0m\n",
      "[12:55:52] \u001b[1mLvl_0_Pipe_1_Mod_0_LightGBM\u001b[0m fitting and predicting completed\n",
      "[12:55:52] Start hyperparameters optimization for \u001b[1mLvl_0_Pipe_1_Mod_1_Tuned_LightGBM\u001b[0m ... Time budget is 300.00 secs\n",
      "[13:00:18] Hyperparameters optimization for \u001b[1mLvl_0_Pipe_1_Mod_1_Tuned_LightGBM\u001b[0m completed\n",
      "[13:00:18] Start fitting \u001b[1mLvl_0_Pipe_1_Mod_1_Tuned_LightGBM\u001b[0m ...\n",
      "[13:00:29] Fitting \u001b[1mLvl_0_Pipe_1_Mod_1_Tuned_LightGBM\u001b[0m finished. score = \u001b[1m0.7994533067515781\u001b[0m\n",
      "[13:00:29] \u001b[1mLvl_0_Pipe_1_Mod_1_Tuned_LightGBM\u001b[0m fitting and predicting completed\n",
      "[13:00:29] Start fitting \u001b[1mLvl_0_Pipe_1_Mod_2_CatBoost\u001b[0m ...\n",
      "[13:00:39] Fitting \u001b[1mLvl_0_Pipe_1_Mod_2_CatBoost\u001b[0m finished. score = \u001b[1m0.8044813428482868\u001b[0m\n",
      "[13:00:39] \u001b[1mLvl_0_Pipe_1_Mod_2_CatBoost\u001b[0m fitting and predicting completed\n",
      "[13:00:39] Start hyperparameters optimization for \u001b[1mLvl_0_Pipe_1_Mod_3_Tuned_CatBoost\u001b[0m ... Time budget is 300.00 secs\n",
      "[13:04:12] Hyperparameters optimization for \u001b[1mLvl_0_Pipe_1_Mod_3_Tuned_CatBoost\u001b[0m completed\n",
      "[13:04:12] Start fitting \u001b[1mLvl_0_Pipe_1_Mod_3_Tuned_CatBoost\u001b[0m ...\n",
      "[13:04:25] Fitting \u001b[1mLvl_0_Pipe_1_Mod_3_Tuned_CatBoost\u001b[0m finished. score = \u001b[1m0.8049219988446799\u001b[0m\n",
      "[13:04:25] \u001b[1mLvl_0_Pipe_1_Mod_3_Tuned_CatBoost\u001b[0m fitting and predicting completed\n",
      "[13:04:25] Time left 6653.88 secs\n",
      "\n",
      "[13:04:25] \u001b[1mLayer 1 training completed.\u001b[0m\n",
      "\n",
      "[13:04:25] Blending: optimization starts with equal weights and score \u001b[1m0.8044959535617674\u001b[0m\n",
      "[13:04:28] Blending: iteration \u001b[1m0\u001b[0m: score = \u001b[1m0.8050157310922003\u001b[0m, weights = \u001b[1m[0.         0.         0.05596981 0.19005994 0.7539702 ]\u001b[0m\n",
      "[13:04:31] Blending: iteration \u001b[1m1\u001b[0m: score = \u001b[1m0.8050553054553652\u001b[0m, weights = \u001b[1m[0.         0.05251141 0.10752121 0.16910918 0.6708582 ]\u001b[0m\n",
      "[13:04:33] Blending: iteration \u001b[1m2\u001b[0m: score = \u001b[1m0.8050553054553652\u001b[0m, weights = \u001b[1m[0.         0.05251141 0.10752121 0.16910918 0.6708582 ]\u001b[0m\n",
      "[13:04:33] Blending: no score update. Terminated\n",
      "\n",
      "[13:04:33] \u001b[1mAutoml preset training completed in 554.12 seconds\u001b[0m\n",
      "\n",
      "[13:04:33] Model description:\n",
      "Final prediction for new objects (level 0) = \n",
      "\t 0.05251 * (5 averaged models Lvl_0_Pipe_1_Mod_0_LightGBM) +\n",
      "\t 0.10752 * (5 averaged models Lvl_0_Pipe_1_Mod_1_Tuned_LightGBM) +\n",
      "\t 0.16911 * (5 averaged models Lvl_0_Pipe_1_Mod_2_CatBoost) +\n",
      "\t 0.67086 * (5 averaged models Lvl_0_Pipe_1_Mod_3_Tuned_CatBoost) \n",
      "\n",
      "[2024-11-06 13:04:33,784] - [    END     ] - Fitting TabularLama\n",
      "0.8050553054553652\n"
     ]
    }
   ],
   "source": [
    "model = TabularLama(n_jobs=N_JOBS, task=\"classification\")\n",
    "model.tune(X_train, y_train, metric, timeout=60 * 60)\n",
    "oof = model.fit(X_train, y_train)\n",
    "#y_pred = model.predict(X_test)\n",
    "\n",
    "print(metric(y_train, oof))"
   ]
  },
  {
   "cell_type": "markdown",
   "id": "48abfc9d-95b1-4eda-9665-251676ed3d8f",
   "metadata": {},
   "source": [
    "## Model"
   ]
  },
  {
   "cell_type": "code",
   "execution_count": 16,
   "id": "a3a43c96-d1da-496b-8d67-35a0ec7f9c91",
   "metadata": {},
   "outputs": [],
   "source": [
    "metric = RocAuc()"
   ]
  },
  {
   "cell_type": "code",
   "execution_count": 17,
   "id": "6bab46f5-c9c4-4567-8fae-11296a05f4bf",
   "metadata": {},
   "outputs": [
    {
     "name": "stdout",
     "output_type": "stream",
     "text": [
      "[2024-11-06 09:19:23,754] - [   START    ] - Tuning XGBClassification\n",
      "[2024-11-06 09:20:04,920] - [   OPTUNA   ] - Trial 0. New best score 0.8004664892928378 with parameters {'max_depth': 6, 'grow_policy': 'depthwise', 'max_leaves': 311, 'gamma': 3.1203728088487304, 'subsample': 0.2403950683025824, 'colsample_bytree': 0.15227525095137953, 'colsample_bylevel': 0.8795585311974417, 'reg_lambda': 6.011150117432088, 'reg_alpha': 7.080725777960454, 'min_child_weight': 0, 'class_weight': None, 'n_estimators': 819}\n",
      "[2024-11-06 09:21:23,947] - [   OPTUNA   ] - Trial 1. New best score 0.8012945751647573 with parameters {'max_depth': 4, 'grow_policy': 'lossguide', 'max_leaves': 163, 'gamma': 10.495128632644757, 'subsample': 0.48875051677790415, 'colsample_bytree': 0.36210622617823773, 'colsample_bylevel': 0.6506676052501416, 'reg_lambda': 1.3949386065204183, 'reg_alpha': 2.9214464853521815, 'min_child_weight': 7, 'class_weight': 'balanced', 'n_estimators': 1998}\n",
      "[2024-11-06 09:31:02,977] - [   OPTUNA   ] - Trial 11. New best score 0.8027439199203977 with parameters {'max_depth': 3, 'grow_policy': 'lossguide', 'max_leaves': 156, 'gamma': 12.78619614276341, 'subsample': 0.537805863839914, 'colsample_bytree': 0.6159618798861061, 'colsample_bylevel': 0.9986593482398393, 'reg_lambda': 2.244983261735009, 'reg_alpha': 9.443788490520188, 'min_child_weight': 7, 'class_weight': 'balanced', 'n_estimators': 1738}\n",
      "[2024-11-06 09:44:28,379] - [   OPTUNA   ] - Trial 21. New best score 0.8029989210103882 with parameters {'max_depth': 3, 'grow_policy': 'lossguide', 'max_leaves': 320, 'gamma': 12.809517078397413, 'subsample': 0.8735239240183852, 'colsample_bytree': 0.8617857811351068, 'colsample_bylevel': 0.8824676483976341, 'reg_lambda': 4.923289662570464, 'reg_alpha': 1.6094236135560092, 'min_child_weight': 1, 'class_weight': 'balanced', 'n_estimators': 1999}\n",
      "[2024-11-06 09:53:02,974] - [   OPTUNA   ] - Trial 29. New best score 0.8048262350538268 with parameters {'max_depth': 6, 'grow_policy': 'depthwise', 'max_leaves': 298, 'gamma': 0.6069004813645602, 'subsample': 0.9047238571009801, 'colsample_bytree': 0.8638775279776338, 'colsample_bylevel': 0.883989094580446, 'reg_lambda': 6.610145719601061, 'reg_alpha': 9.018074876367136, 'min_child_weight': 0, 'class_weight': None, 'n_estimators': 440}\n",
      "[2024-11-06 09:53:26,698] - [   OPTUNA   ] - Trial 30. New best score 0.8053417470436438 with parameters {'max_depth': 7, 'grow_policy': 'depthwise', 'max_leaves': 453, 'gamma': 0.30668719654443866, 'subsample': 0.9162464263753785, 'colsample_bytree': 0.8659508679468663, 'colsample_bylevel': 0.6237011840690992, 'reg_lambda': 8.465779234447895, 'reg_alpha': 2.4310327285651647, 'min_child_weight': 0, 'class_weight': None, 'n_estimators': 313}\n",
      "[2024-11-06 09:54:37,906] - [   OPTUNA   ] - Trial 33. New best score 0.8053686591972333 with parameters {'max_depth': 8, 'grow_policy': 'depthwise', 'max_leaves': 511, 'gamma': 0.037378093544914004, 'subsample': 0.950812766606831, 'colsample_bytree': 0.8285571414600489, 'colsample_bylevel': 0.480470617378689, 'reg_lambda': 8.613353478375688, 'reg_alpha': 2.6934237753297667, 'min_child_weight': 0, 'class_weight': None, 'n_estimators': 269}\n",
      "[2024-11-06 10:08:27,924] - [   OPTUNA   ] - Trial 65. New best score 0.8054341811774393 with parameters {'max_depth': 10, 'grow_policy': 'depthwise', 'max_leaves': 441, 'gamma': 1.4259020285970256, 'subsample': 0.9465441097073016, 'colsample_bytree': 0.7693880249272211, 'colsample_bylevel': 0.39073632761534943, 'reg_lambda': 5.4123541623081906, 'reg_alpha': 3.220656904555141, 'min_child_weight': 8, 'class_weight': None, 'n_estimators': 257}\n",
      "[2024-11-06 10:20:06,307] - [   OPTUNA   ] - 92 trials completed\n",
      "[2024-11-06 10:20:06,308] - [BEST PARAMS ] - {'objective': 'binary:logistic', 'n_estimators': 257, 'learning_rate': 0.03, 'max_depth': 10, 'max_leaves': 441, 'grow_policy': 'depthwise', 'gamma': 1.4259020285970256, 'min_child_weight': 8, 'subsample': 0.9465441097073016, 'colsample_bytree': 0.7693880249272211, 'colsample_bylevel': 0.39073632761534943, 'reg_lambda': 5.4123541623081906, 'reg_alpha': 3.220656904555141, 'enable_categorical': True, 'max_cat_to_onehot': 5, 'n_jobs': 16, 'random_state': 42, 'verbosity': 0, 'early_stopping_rounds': 100, 'class_weight': None}\n",
      "[2024-11-06 10:20:06,308] - [    END     ] - Tuning XGBClassification\n",
      "[2024-11-06 10:20:06,310] - [   START    ] - Fitting XGBClassification\n",
      "[2024-11-06 10:20:06,364] - [    FIT     ] - XGBClassification fold 0\n",
      "[2024-11-06 10:20:10,033] - [    FIT     ] - XGBClassification fold 1\n",
      "[2024-11-06 10:20:13,545] - [    FIT     ] - XGBClassification fold 2\n",
      "[2024-11-06 10:20:17,186] - [    FIT     ] - XGBClassification fold 3\n",
      "[2024-11-06 10:20:20,641] - [    FIT     ] - XGBClassification fold 4\n",
      "[2024-11-06 10:20:24,229] - [    END     ] - Fitting XGBClassification\n",
      "0.8052493809174932\n",
      "0.797937423651835\n"
     ]
    }
   ],
   "source": [
    "model = XGBClassification(n_jobs=16)\n",
    "model.tune(X_train, y_train, metric, timeout=60 * 60, categorical_features=categorical_features)\n",
    "oof = model.fit(X_train, y_train, categorical_features=categorical_features)\n",
    "y_pred = model.predict(X_test)\n",
    "\n",
    "print(metric(y_train, oof))\n",
    "print(metric(y_test, y_pred))"
   ]
  },
  {
   "cell_type": "code",
   "execution_count": 18,
   "id": "e6dd6ac2-6191-43c5-84da-522b4829abd7",
   "metadata": {},
   "outputs": [],
   "source": [
    "MODEL_NAME = \"xgb_8052\"\n",
    "MODEL_DIR = Path(f\"../../data/models/{MODEL_NAME}\")\n",
    "MODEL_DIR.mkdir(exist_ok=True)"
   ]
  },
  {
   "cell_type": "code",
   "execution_count": 19,
   "id": "5e4fed09-b428-4509-8644-347cbbb27f33",
   "metadata": {},
   "outputs": [],
   "source": [
    "res = pd.DataFrame()\n",
    "res[MODEL_NAME] = oof[:, 1]\n",
    "res.to_csv(MODEL_DIR / \"oof.csv\", index=False)\n",
    "joblib.dump(model, MODEL_DIR / f\"{MODEL_NAME}.joblib\")\n",
    "\n",
    "with (MODEL_DIR / \"params.yaml\").open(\"w\") as f:\n",
    "    yaml.dump(model.params, f)\n",
    "\n",
    "with (MODEL_DIR / \"score.txt\").open(\"w\") as f:\n",
    "    print(\"OOF:\", metric(y_train, oof), file=f)\n",
    "    print(\"Test:\", metric(y_test, y_pred), file=f)"
   ]
  },
  {
   "cell_type": "code",
   "execution_count": 154,
   "id": "d1fc8d7b-5783-473d-8635-fcd1b01dcdb1",
   "metadata": {},
   "outputs": [
    {
     "data": {
      "text/plain": [
       "['../../data/models/lgb_8055/lgb_8055.joblib']"
      ]
     },
     "execution_count": 154,
     "metadata": {},
     "output_type": "execute_result"
    }
   ],
   "source": [
    "joblib.dump(model, \"../../data/models/lgb_8055/lgb_8055.joblib\")\n"
   ]
  },
  {
   "cell_type": "code",
   "execution_count": 158,
   "id": "7b4db0b5-0bd0-4328-b414-1c918664bba2",
   "metadata": {},
   "outputs": [],
   "source": [
    "with open(\"../../data/models/lgb_8055/params.yaml\", \"w\") as f:\n",
    "    yaml.dump(model.params, f)"
   ]
  },
  {
   "cell_type": "code",
   "execution_count": 161,
   "id": "59d4c876-db60-4f5b-a53b-65ce19140000",
   "metadata": {},
   "outputs": [],
   "source": [
    "with open(\"../../data/models/lgb_8055/score.txt\", \"w\") as f:\n",
    "    print(\"OOF:\", metric(y_train, oof), file=f)\n",
    "    print(\"Test:\", metric(y_test, y_pred), file=f)"
   ]
  },
  {
   "cell_type": "code",
   "execution_count": null,
   "id": "00d2e379-cb8f-4d49-a482-48458d06bbe7",
   "metadata": {},
   "outputs": [],
   "source": []
  },
  {
   "cell_type": "code",
   "execution_count": 145,
   "id": "bf074769-8012-44e9-807c-57e01875ac12",
   "metadata": {},
   "outputs": [
    {
     "name": "stdout",
     "output_type": "stream",
     "text": [
      "0.8047647204688908\n",
      "0.7972289963856585\n"
     ]
    }
   ],
   "source": [
    "print(metric(y_train, oof))\n",
    "print(metric(y_test, y_pred))"
   ]
  },
  {
   "cell_type": "code",
   "execution_count": 86,
   "id": "55539b9d-5a16-4f99-9845-b84ca06fdf26",
   "metadata": {},
   "outputs": [
    {
     "name": "stdout",
     "output_type": "stream",
     "text": [
      "0.8009657912533814\n",
      "0.7932043263129364\n"
     ]
    }
   ],
   "source": [
    "print(metric(y_train, oof))\n",
    "print(metric(y_test, y_pred))"
   ]
  },
  {
   "cell_type": "code",
   "execution_count": 47,
   "id": "b1fa1013-9f53-4049-9dbb-ab2cc0f4b15e",
   "metadata": {},
   "outputs": [
    {
     "name": "stdout",
     "output_type": "stream",
     "text": [
      "0.8036673066952209\n",
      "0.7969396115051322\n"
     ]
    }
   ],
   "source": [
    "print(metric(y_train, oof))\n",
    "print(metric(y_test, y_pred))"
   ]
  },
  {
   "cell_type": "code",
   "execution_count": 37,
   "id": "eadab761-d68f-4a84-9a77-47977c7eeed0",
   "metadata": {},
   "outputs": [
    {
     "name": "stdout",
     "output_type": "stream",
     "text": [
      "0.8042716798166517\n",
      "0.7975841531905153\n"
     ]
    }
   ],
   "source": [
    "print(metric(y_train, oof))\n",
    "print(metric(y_test, y_pred))"
   ]
  },
  {
   "cell_type": "code",
   "execution_count": 15,
   "id": "a3645213-67f1-4a56-8449-706616b01975",
   "metadata": {},
   "outputs": [],
   "source": [
    "test = pd.read_parquet(DATA_PATH / \"test_preproc.parquet\")\n",
    "test[\"target\"] = model.predict(test[cfg[\"selected_features\"] + te_cols + ohe_cols])[:, 1]\n",
    "test[['id', 'target']].to_csv('lgb_full_dataset.csv', index=False)"
   ]
  },
  {
   "cell_type": "code",
   "execution_count": 25,
   "id": "c8b626f4-24d7-47cc-8e1c-8d4829422eda",
   "metadata": {},
   "outputs": [],
   "source": [
    "pred_1 = pd.read_csv(\"lama_utilized.csv\")\n",
    "pred_2 = pd.read_csv(\"lgmb_oe_ohe_cols_0805.csv\")\n",
    "pred_3 = pd.read_csv(\"catboost_ts.csv\")"
   ]
  },
  {
   "cell_type": "code",
   "execution_count": 26,
   "id": "f6fd1b74-1c84-47a2-9640-f9afca52a2c5",
   "metadata": {},
   "outputs": [],
   "source": [
    "pred_1[\"target\"] = 0.6 * pred_1[\"target\"] + 0.2 * pred_2[\"target\"] + 0.2 * pred_3[\"target\"]"
   ]
  },
  {
   "cell_type": "code",
   "execution_count": 29,
   "id": "b9a12186-27a7-43e5-bbf9-05d9894bd617",
   "metadata": {},
   "outputs": [],
   "source": [
    "pred_1.to_csv(\"blend.csv\", index=False)"
   ]
  },
  {
   "cell_type": "code",
   "execution_count": 166,
   "id": "1a479dff-a006-4237-9a22-9b4a9d6a52eb",
   "metadata": {},
   "outputs": [
    {
     "data": {
      "text/plain": [
       "\u001b[0;31mSignature:\u001b[0m\n",
       "\u001b[0mMODEL_DIR\u001b[0m\u001b[0;34m.\u001b[0m\u001b[0mopen\u001b[0m\u001b[0;34m(\u001b[0m\u001b[0;34m\u001b[0m\n",
       "\u001b[0;34m\u001b[0m    \u001b[0mmode\u001b[0m\u001b[0;34m=\u001b[0m\u001b[0;34m'r'\u001b[0m\u001b[0;34m,\u001b[0m\u001b[0;34m\u001b[0m\n",
       "\u001b[0;34m\u001b[0m    \u001b[0mbuffering\u001b[0m\u001b[0;34m=\u001b[0m\u001b[0;34m-\u001b[0m\u001b[0;36m1\u001b[0m\u001b[0;34m,\u001b[0m\u001b[0;34m\u001b[0m\n",
       "\u001b[0;34m\u001b[0m    \u001b[0mencoding\u001b[0m\u001b[0;34m=\u001b[0m\u001b[0;32mNone\u001b[0m\u001b[0;34m,\u001b[0m\u001b[0;34m\u001b[0m\n",
       "\u001b[0;34m\u001b[0m    \u001b[0merrors\u001b[0m\u001b[0;34m=\u001b[0m\u001b[0;32mNone\u001b[0m\u001b[0;34m,\u001b[0m\u001b[0;34m\u001b[0m\n",
       "\u001b[0;34m\u001b[0m    \u001b[0mnewline\u001b[0m\u001b[0;34m=\u001b[0m\u001b[0;32mNone\u001b[0m\u001b[0;34m,\u001b[0m\u001b[0;34m\u001b[0m\n",
       "\u001b[0;34m\u001b[0m\u001b[0;34m)\u001b[0m\u001b[0;34m\u001b[0m\u001b[0;34m\u001b[0m\u001b[0m\n",
       "\u001b[0;31mDocstring:\u001b[0m\n",
       "Open the file pointed by this path and return a file object, as\n",
       "the built-in open() function does.\n",
       "\u001b[0;31mFile:\u001b[0m      /usr/lib/python3.10/pathlib.py\n",
       "\u001b[0;31mType:\u001b[0m      method"
      ]
     },
     "metadata": {},
     "output_type": "display_data"
    }
   ],
   "source": [
    "MODEL_DIR.open?"
   ]
  },
  {
   "cell_type": "code",
   "execution_count": null,
   "id": "bbf9b1c6-0fb4-461a-9aa9-1c23e299671f",
   "metadata": {},
   "outputs": [],
   "source": []
  }
 ],
 "metadata": {
  "kernelspec": {
   "display_name": "base_kernel",
   "language": "python",
   "name": "base_kernel"
  },
  "language_info": {
   "codemirror_mode": {
    "name": "ipython",
    "version": 3
   },
   "file_extension": ".py",
   "mimetype": "text/x-python",
   "name": "python",
   "nbconvert_exporter": "python",
   "pygments_lexer": "ipython3",
   "version": "3.10.12"
  }
 },
 "nbformat": 4,
 "nbformat_minor": 5
}
