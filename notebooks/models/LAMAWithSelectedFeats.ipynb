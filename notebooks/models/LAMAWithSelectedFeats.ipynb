{
 "cells": [
  {
   "cell_type": "code",
   "execution_count": 1,
   "id": "0fa3af6a-d478-4c0e-a715-21f3f6707c9c",
   "metadata": {},
   "outputs": [],
   "source": [
    "import sys; sys.path.append(\"../../automl/\")"
   ]
  },
  {
   "cell_type": "code",
   "execution_count": 2,
   "id": "0fe599f1-83eb-4e6b-8115-f05eb659ec95",
   "metadata": {},
   "outputs": [],
   "source": [
    "from pathlib import Path\n",
    "import yaml\n",
    "import joblib\n",
    "\n",
    "import pandas as pd\n",
    "import numpy as np\n",
    "\n",
    "from sklearn.model_selection import train_test_split\n",
    "\n",
    "from src.automl.model.lama import TabularLama\n",
    "from src.automl.loggers import configure_root_logger\n",
    "from src.automl.constants import create_ml_data_dir\n",
    "from src.automl.model.metrics import RocAuc"
   ]
  },
  {
   "cell_type": "code",
   "execution_count": 3,
   "id": "087a93ef-e784-4dbb-8962-24e871577fee",
   "metadata": {},
   "outputs": [],
   "source": [
    "create_ml_data_dir()\n",
    "configure_root_logger()"
   ]
  },
  {
   "cell_type": "markdown",
   "id": "2a4701a7-04a9-42cd-b472-d9ca1dce955d",
   "metadata": {},
   "source": [
    "## Constants"
   ]
  },
  {
   "cell_type": "code",
   "execution_count": 4,
   "id": "9446b478-3af7-4d89-8d52-0d16996734e0",
   "metadata": {},
   "outputs": [],
   "source": [
    "RANDOM_SEED = 77\n",
    "DATA_PATH = Path(\"../../data/\")\n",
    "CONFIG_PATH = Path(\"../../configs/config.yaml\")\n",
    "N_JOBS = 16"
   ]
  },
  {
   "cell_type": "code",
   "execution_count": 5,
   "id": "5494d0ab-4d12-47b3-bbaa-31fd51961cac",
   "metadata": {},
   "outputs": [],
   "source": [
    "with CONFIG_PATH.open() as f:\n",
    "    cfg = yaml.load(f, Loader=yaml.SafeLoader)"
   ]
  },
  {
   "cell_type": "markdown",
   "id": "6fc1cf46-0712-400d-b190-15de4b596d15",
   "metadata": {},
   "source": [
    "## Data"
   ]
  },
  {
   "cell_type": "code",
   "execution_count": 6,
   "id": "7208e0bf-13a0-4f7a-9f2e-307f386ef935",
   "metadata": {},
   "outputs": [],
   "source": [
    "df_train = pd.read_parquet(DATA_PATH / \"train_preproc.parquet\")\n",
    "df_train, df_test = df_train.sort_values(by=\"id\").iloc[:300_000], df_train.sort_values(by=\"id\").iloc[300_000:]"
   ]
  },
  {
   "cell_type": "code",
   "execution_count": 7,
   "id": "24b73ba9-d6c5-4e83-b7ed-480881d44647",
   "metadata": {},
   "outputs": [
    {
     "data": {
      "text/plain": [
       "0    282256\n",
       "1     17744\n",
       "Name: target, dtype: int64"
      ]
     },
     "execution_count": 7,
     "metadata": {},
     "output_type": "execute_result"
    }
   ],
   "source": [
    "df_train[\"target\"].value_counts()"
   ]
  },
  {
   "cell_type": "code",
   "execution_count": 8,
   "id": "83dba0de-f224-4a5a-84db-acb5ff2ba670",
   "metadata": {},
   "outputs": [],
   "source": [
    "# undersample the 0 class\n",
    "df_train = pd.concat([df_train.loc[df_train.target == 1], df_train.loc[df_train.target == 0].sample(200_000, random_state=RANDOM_SEED)], ignore_index=True)"
   ]
  },
  {
   "cell_type": "code",
   "execution_count": 9,
   "id": "3a4bbaca-2b74-4177-88e4-4897ff07498b",
   "metadata": {},
   "outputs": [],
   "source": [
    "ohe_cols = df_train.columns[df_train.columns.str.startswith(\"OneHotEncoder\")].values.tolist()\n",
    "oe_cols = df_train.columns[df_train.columns.str.startswith(\"OrdinalEncoder\")].values.tolist()\n",
    "te_cols = df_train.columns[df_train.columns.str.startswith(\"MeanTargetEncoder\")].values.tolist()"
   ]
  },
  {
   "cell_type": "code",
   "execution_count": 10,
   "id": "2525aeac-d91b-4864-a2cb-24f94702c1ab",
   "metadata": {},
   "outputs": [],
   "source": [
    "# take target encoded columns\n",
    "X_train, y_train = df_train[cfg[\"selected_features\"] + te_cols + ohe_cols], df_train[\"target\"]\n",
    "X_test, y_test = df_test[cfg[\"selected_features\"] + te_cols + ohe_cols], df_test[\"target\"]"
   ]
  },
  {
   "cell_type": "code",
   "execution_count": 109,
   "id": "8a13302a-4083-4e00-9574-15af9e5c5ce5",
   "metadata": {},
   "outputs": [],
   "source": [
    "# take all columns\n",
    "X_train, y_train = df_train.drop(columns=[\"target\", \"id\", \"smpl\"]), df_train[\"target\"]\n",
    "X_test, y_test = df_test.drop(columns=[\"target\", \"id\", \"smpl\"]), df_test[\"target\"]"
   ]
  },
  {
   "cell_type": "code",
   "execution_count": 73,
   "id": "979b253b-f611-498c-919d-11993f85a939",
   "metadata": {},
   "outputs": [],
   "source": [
    "# take ordinal encoded columns\n",
    "X_train, y_train = df_train[cfg[\"selected_features\"] + oe_cols + ohe_cols], df_train[\"target\"]\n",
    "X_test, y_test = df_test[cfg[\"selected_features\"] + oe_cols + ohe_cols], df_test[\"target\"]"
   ]
  },
  {
   "cell_type": "code",
   "execution_count": 13,
   "id": "0f28cd79-395e-4e5d-9fa6-015a640955d8",
   "metadata": {},
   "outputs": [
    {
     "data": {
      "text/plain": [
       "0    0.91851\n",
       "1    0.08149\n",
       "Name: target, dtype: float64"
      ]
     },
     "metadata": {},
     "output_type": "display_data"
    },
    {
     "data": {
      "text/plain": [
       "0    0.941322\n",
       "1    0.058678\n",
       "Name: target, dtype: float64"
      ]
     },
     "metadata": {},
     "output_type": "display_data"
    }
   ],
   "source": [
    "display(y_train.value_counts(normalize=True))\n",
    "display(y_test.value_counts(normalize=True))"
   ]
  },
  {
   "cell_type": "code",
   "execution_count": 11,
   "id": "12b00734-0a36-4487-93ed-c78e6833ed0b",
   "metadata": {},
   "outputs": [],
   "source": [
    "categorical_features = ohe_cols# + oe_cols"
   ]
  },
  {
   "cell_type": "markdown",
   "id": "48abfc9d-95b1-4eda-9665-251676ed3d8f",
   "metadata": {},
   "source": [
    "## Model"
   ]
  },
  {
   "cell_type": "code",
   "execution_count": 12,
   "id": "a3a43c96-d1da-496b-8d67-35a0ec7f9c91",
   "metadata": {},
   "outputs": [],
   "source": [
    "metric = RocAuc()"
   ]
  },
  {
   "cell_type": "code",
   "execution_count": 14,
   "id": "6bab46f5-c9c4-4567-8fae-11296a05f4bf",
   "metadata": {},
   "outputs": [
    {
     "name": "stdout",
     "output_type": "stream",
     "text": [
      "[2024-11-06 10:41:47,974] - [   START    ] - Fitting TabularLama\n",
      "[10:41:48] Stdout logging level is INFO.\n",
      "[10:41:48] Copying TaskTimer may affect the parent PipelineTimer, so copy will create new unlimited TaskTimer\n",
      "[10:41:48] Task: reg\n",
      "\n",
      "[10:41:48] Start automl preset with listed constraints:\n",
      "[10:41:48] - time: 3600.00 seconds\n",
      "[10:41:48] - CPU: 16 cores\n",
      "[10:41:48] - memory: 16 GB\n",
      "\n",
      "[10:41:48] \u001b[1mTrain data shape: (217744, 68)\u001b[0m\n",
      "\n",
      "[10:41:58] Layer \u001b[1m1\u001b[0m train process start. Time left 3589.57 secs\n",
      "[10:42:04] Start fitting \u001b[1mLvl_0_Pipe_0_Mod_0_LinearL2\u001b[0m ...\n",
      "[10:42:17] Fitting \u001b[1mLvl_0_Pipe_0_Mod_0_LinearL2\u001b[0m finished. score = \u001b[1m0.7819380924537872\u001b[0m\n",
      "[10:42:17] \u001b[1mLvl_0_Pipe_0_Mod_0_LinearL2\u001b[0m fitting and predicting completed\n",
      "[10:42:17] Time left 3570.38 secs\n",
      "\n",
      "[10:42:24] \u001b[1mSelector_LightGBM\u001b[0m fitting and predicting completed\n",
      "[10:42:29] Start fitting \u001b[1mLvl_0_Pipe_1_Mod_0_LightGBM\u001b[0m ...\n",
      "[10:42:53] Fitting \u001b[1mLvl_0_Pipe_1_Mod_0_LightGBM\u001b[0m finished. score = \u001b[1m0.8016182053088369\u001b[0m\n",
      "[10:42:53] \u001b[1mLvl_0_Pipe_1_Mod_0_LightGBM\u001b[0m fitting and predicting completed\n",
      "[10:42:53] Start hyperparameters optimization for \u001b[1mLvl_0_Pipe_1_Mod_1_Tuned_LightGBM\u001b[0m ... Time budget is 300.00 secs\n",
      "[10:47:56] Hyperparameters optimization for \u001b[1mLvl_0_Pipe_1_Mod_1_Tuned_LightGBM\u001b[0m completed\n",
      "[10:47:56] Start fitting \u001b[1mLvl_0_Pipe_1_Mod_1_Tuned_LightGBM\u001b[0m ...\n",
      "[10:48:28] Fitting \u001b[1mLvl_0_Pipe_1_Mod_1_Tuned_LightGBM\u001b[0m finished. score = \u001b[1m0.8023204263412984\u001b[0m\n",
      "[10:48:28] \u001b[1mLvl_0_Pipe_1_Mod_1_Tuned_LightGBM\u001b[0m fitting and predicting completed\n",
      "[10:48:28] Start fitting \u001b[1mLvl_0_Pipe_1_Mod_2_CatBoost\u001b[0m ...\n",
      "[10:48:46] Fitting \u001b[1mLvl_0_Pipe_1_Mod_2_CatBoost\u001b[0m finished. score = \u001b[1m0.800290704322588\u001b[0m\n",
      "[10:48:46] \u001b[1mLvl_0_Pipe_1_Mod_2_CatBoost\u001b[0m fitting and predicting completed\n",
      "[10:48:46] Start hyperparameters optimization for \u001b[1mLvl_0_Pipe_1_Mod_3_Tuned_CatBoost\u001b[0m ... Time budget is 300.00 secs\n",
      "[10:53:50] Hyperparameters optimization for \u001b[1mLvl_0_Pipe_1_Mod_3_Tuned_CatBoost\u001b[0m completed\n",
      "[10:53:50] Start fitting \u001b[1mLvl_0_Pipe_1_Mod_3_Tuned_CatBoost\u001b[0m ...\n",
      "[10:54:19] Fitting \u001b[1mLvl_0_Pipe_1_Mod_3_Tuned_CatBoost\u001b[0m finished. score = \u001b[1m0.8000760333070334\u001b[0m\n",
      "[10:54:19] \u001b[1mLvl_0_Pipe_1_Mod_3_Tuned_CatBoost\u001b[0m fitting and predicting completed\n",
      "[10:54:19] Time left 2848.84 secs\n",
      "\n",
      "[10:54:19] \u001b[1mLayer 1 training completed.\u001b[0m\n",
      "\n",
      "[10:54:19] Blending: optimization starts with equal weights and score \u001b[1m0.8015027259918845\u001b[0m\n",
      "[10:54:21] Blending: iteration \u001b[1m0\u001b[0m: score = \u001b[1m0.8029056748760145\u001b[0m, weights = \u001b[1m[0.         0.2862753  0.5229326  0.13150084 0.05929124]\u001b[0m\n",
      "[10:54:24] Blending: iteration \u001b[1m1\u001b[0m: score = \u001b[1m0.8029103420874661\u001b[0m, weights = \u001b[1m[0.         0.3381877  0.4891702  0.17264214 0.        ]\u001b[0m\n",
      "[10:54:27] Blending: iteration \u001b[1m2\u001b[0m: score = \u001b[1m0.8029158973455817\u001b[0m, weights = \u001b[1m[0.         0.31454027 0.48289454 0.20256518 0.        ]\u001b[0m\n",
      "[10:54:29] Blending: iteration \u001b[1m3\u001b[0m: score = \u001b[1m0.8029161534885031\u001b[0m, weights = \u001b[1m[0.         0.30518264 0.48995543 0.20486194 0.        ]\u001b[0m\n",
      "[10:54:32] Blending: iteration \u001b[1m4\u001b[0m: score = \u001b[1m0.8029162025191614\u001b[0m, weights = \u001b[1m[0.         0.30537227 0.4898217  0.20480603 0.        ]\u001b[0m\n",
      "[10:54:32] \u001b[1mAutoml preset training completed in 764.25 seconds\u001b[0m\n",
      "\n",
      "[10:54:32] Model description:\n",
      "Final prediction for new objects (level 0) = \n",
      "\t 0.30537 * (5 averaged models Lvl_0_Pipe_1_Mod_0_LightGBM) +\n",
      "\t 0.48982 * (5 averaged models Lvl_0_Pipe_1_Mod_1_Tuned_LightGBM) +\n",
      "\t 0.20481 * (5 averaged models Lvl_0_Pipe_1_Mod_2_CatBoost) \n",
      "\n",
      "[2024-11-06 10:54:32,301] - [    END     ] - Fitting TabularLama\n",
      "0.8029162025191614\n",
      "0.7950587560263236\n"
     ]
    }
   ],
   "source": [
    "model = TabularLama(n_jobs=16)\n",
    "model.tune(X_train, y_train, metric, timeout=60 * 30, categorical_features=categorical_features)\n",
    "oof = model.fit(X_train, y_train, categorical_features=categorical_features)\n",
    "y_pred = model.predict(X_test)\n",
    "\n",
    "print(metric(y_train, oof))\n",
    "print(metric(y_test, y_pred))"
   ]
  },
  {
   "cell_type": "code",
   "execution_count": 15,
   "id": "e6dd6ac2-6191-43c5-84da-522b4829abd7",
   "metadata": {},
   "outputs": [],
   "source": [
    "MODEL_NAME = \"lama_8029\"\n",
    "MODEL_DIR = Path(f\"../../data/models/{MODEL_NAME}\")\n",
    "MODEL_DIR.mkdir(exist_ok=True)"
   ]
  },
  {
   "cell_type": "code",
   "execution_count": 18,
   "id": "5e4fed09-b428-4509-8644-347cbbb27f33",
   "metadata": {},
   "outputs": [],
   "source": [
    "res = pd.DataFrame()\n",
    "res[MODEL_NAME] = oof\n",
    "res.to_csv(MODEL_DIR / \"oof.csv\", index=False)\n",
    "joblib.dump(model, MODEL_DIR / f\"{MODEL_NAME}.joblib\")\n",
    "\n",
    "with (MODEL_DIR / \"params.yaml\").open(\"w\") as f:\n",
    "    yaml.dump(model.params, f)\n",
    "\n",
    "with (MODEL_DIR / \"score.txt\").open(\"w\") as f:\n",
    "    print(\"OOF:\", metric(y_train, oof), file=f)\n",
    "    print(\"Test:\", metric(y_test, y_pred), file=f)"
   ]
  },
  {
   "cell_type": "code",
   "execution_count": 32,
   "id": "648035db-1783-4c8f-b9fb-f986115f0744",
   "metadata": {},
   "outputs": [
    {
     "data": {
      "text/html": [
       "<div>\n",
       "<style scoped>\n",
       "    .dataframe tbody tr th:only-of-type {\n",
       "        vertical-align: middle;\n",
       "    }\n",
       "\n",
       "    .dataframe tbody tr th {\n",
       "        vertical-align: top;\n",
       "    }\n",
       "\n",
       "    .dataframe thead th {\n",
       "        text-align: right;\n",
       "    }\n",
       "</style>\n",
       "<table border=\"1\" class=\"dataframe\">\n",
       "  <thead>\n",
       "    <tr style=\"text-align: right;\">\n",
       "      <th></th>\n",
       "      <th>Feature</th>\n",
       "      <th>Importance</th>\n",
       "    </tr>\n",
       "  </thead>\n",
       "  <tbody>\n",
       "    <tr>\n",
       "      <th>0</th>\n",
       "      <td>numeric__feature_16</td>\n",
       "      <td>12071.364147</td>\n",
       "    </tr>\n",
       "    <tr>\n",
       "      <th>1</th>\n",
       "      <td>numeric__feature_168</td>\n",
       "      <td>1188.525494</td>\n",
       "    </tr>\n",
       "    <tr>\n",
       "      <th>2</th>\n",
       "      <td>numeric__feature_11</td>\n",
       "      <td>1188.361985</td>\n",
       "    </tr>\n",
       "    <tr>\n",
       "      <th>3</th>\n",
       "      <td>numeric__feature_100</td>\n",
       "      <td>1052.872579</td>\n",
       "    </tr>\n",
       "    <tr>\n",
       "      <th>4</th>\n",
       "      <td>numeric__feature_8</td>\n",
       "      <td>807.179672</td>\n",
       "    </tr>\n",
       "    <tr>\n",
       "      <th>5</th>\n",
       "      <td>numeric__feature_142</td>\n",
       "      <td>800.872718</td>\n",
       "    </tr>\n",
       "    <tr>\n",
       "      <th>6</th>\n",
       "      <td>numeric__feature_25</td>\n",
       "      <td>776.447171</td>\n",
       "    </tr>\n",
       "    <tr>\n",
       "      <th>7</th>\n",
       "      <td>numeric__feature_26</td>\n",
       "      <td>645.328227</td>\n",
       "    </tr>\n",
       "    <tr>\n",
       "      <th>8</th>\n",
       "      <td>numeric__feature_46</td>\n",
       "      <td>637.556413</td>\n",
       "    </tr>\n",
       "    <tr>\n",
       "      <th>9</th>\n",
       "      <td>numeric__feature_78</td>\n",
       "      <td>553.738458</td>\n",
       "    </tr>\n",
       "    <tr>\n",
       "      <th>10</th>\n",
       "      <td>numeric__feature_18</td>\n",
       "      <td>550.244580</td>\n",
       "    </tr>\n",
       "    <tr>\n",
       "      <th>11</th>\n",
       "      <td>numeric__feature_183</td>\n",
       "      <td>523.643656</td>\n",
       "    </tr>\n",
       "    <tr>\n",
       "      <th>12</th>\n",
       "      <td>numeric__feature_36</td>\n",
       "      <td>453.327680</td>\n",
       "    </tr>\n",
       "    <tr>\n",
       "      <th>13</th>\n",
       "      <td>numeric__feature_90</td>\n",
       "      <td>435.479625</td>\n",
       "    </tr>\n",
       "    <tr>\n",
       "      <th>14</th>\n",
       "      <td>numeric__feature_10</td>\n",
       "      <td>431.502894</td>\n",
       "    </tr>\n",
       "    <tr>\n",
       "      <th>15</th>\n",
       "      <td>numeric__feature_6</td>\n",
       "      <td>430.545337</td>\n",
       "    </tr>\n",
       "    <tr>\n",
       "      <th>16</th>\n",
       "      <td>numeric__feature_93</td>\n",
       "      <td>427.222847</td>\n",
       "    </tr>\n",
       "    <tr>\n",
       "      <th>17</th>\n",
       "      <td>numeric__feature_62</td>\n",
       "      <td>424.769122</td>\n",
       "    </tr>\n",
       "    <tr>\n",
       "      <th>18</th>\n",
       "      <td>numeric__feature_145</td>\n",
       "      <td>423.148852</td>\n",
       "    </tr>\n",
       "    <tr>\n",
       "      <th>19</th>\n",
       "      <td>numeric__feature_112</td>\n",
       "      <td>420.288743</td>\n",
       "    </tr>\n",
       "    <tr>\n",
       "      <th>20</th>\n",
       "      <td>numeric__feature_12</td>\n",
       "      <td>408.513212</td>\n",
       "    </tr>\n",
       "    <tr>\n",
       "      <th>21</th>\n",
       "      <td>numeric__feature_79</td>\n",
       "      <td>405.069517</td>\n",
       "    </tr>\n",
       "    <tr>\n",
       "      <th>22</th>\n",
       "      <td>numeric__feature_141</td>\n",
       "      <td>401.872612</td>\n",
       "    </tr>\n",
       "    <tr>\n",
       "      <th>23</th>\n",
       "      <td>numeric__feature_95</td>\n",
       "      <td>401.594361</td>\n",
       "    </tr>\n",
       "    <tr>\n",
       "      <th>24</th>\n",
       "      <td>numeric__feature_33</td>\n",
       "      <td>401.568144</td>\n",
       "    </tr>\n",
       "    <tr>\n",
       "      <th>25</th>\n",
       "      <td>numeric__feature_9</td>\n",
       "      <td>397.636017</td>\n",
       "    </tr>\n",
       "    <tr>\n",
       "      <th>26</th>\n",
       "      <td>numeric__feature_27</td>\n",
       "      <td>396.397415</td>\n",
       "    </tr>\n",
       "    <tr>\n",
       "      <th>27</th>\n",
       "      <td>numeric__feature_96</td>\n",
       "      <td>383.629758</td>\n",
       "    </tr>\n",
       "    <tr>\n",
       "      <th>28</th>\n",
       "      <td>numeric__feature_85</td>\n",
       "      <td>381.613294</td>\n",
       "    </tr>\n",
       "    <tr>\n",
       "      <th>29</th>\n",
       "      <td>numeric__feature_91</td>\n",
       "      <td>372.000893</td>\n",
       "    </tr>\n",
       "    <tr>\n",
       "      <th>30</th>\n",
       "      <td>numeric__feature_138</td>\n",
       "      <td>371.346142</td>\n",
       "    </tr>\n",
       "    <tr>\n",
       "      <th>31</th>\n",
       "      <td>numeric__feature_20</td>\n",
       "      <td>367.101078</td>\n",
       "    </tr>\n",
       "    <tr>\n",
       "      <th>32</th>\n",
       "      <td>numeric__feature_111</td>\n",
       "      <td>363.275773</td>\n",
       "    </tr>\n",
       "    <tr>\n",
       "      <th>33</th>\n",
       "      <td>numeric__feature_59</td>\n",
       "      <td>363.128216</td>\n",
       "    </tr>\n",
       "    <tr>\n",
       "      <th>34</th>\n",
       "      <td>numeric__feature_159</td>\n",
       "      <td>360.863296</td>\n",
       "    </tr>\n",
       "    <tr>\n",
       "      <th>35</th>\n",
       "      <td>numeric__feature_125</td>\n",
       "      <td>357.439384</td>\n",
       "    </tr>\n",
       "    <tr>\n",
       "      <th>36</th>\n",
       "      <td>numeric__feature_94</td>\n",
       "      <td>357.421630</td>\n",
       "    </tr>\n",
       "    <tr>\n",
       "      <th>37</th>\n",
       "      <td>numeric__feature_166</td>\n",
       "      <td>354.652483</td>\n",
       "    </tr>\n",
       "    <tr>\n",
       "      <th>38</th>\n",
       "      <td>numeric__feature_81</td>\n",
       "      <td>351.534780</td>\n",
       "    </tr>\n",
       "    <tr>\n",
       "      <th>39</th>\n",
       "      <td>numeric__feature_23</td>\n",
       "      <td>350.409550</td>\n",
       "    </tr>\n",
       "    <tr>\n",
       "      <th>40</th>\n",
       "      <td>numeric__feature_51</td>\n",
       "      <td>348.762887</td>\n",
       "    </tr>\n",
       "    <tr>\n",
       "      <th>41</th>\n",
       "      <td>numeric__feature_68</td>\n",
       "      <td>343.814032</td>\n",
       "    </tr>\n",
       "    <tr>\n",
       "      <th>42</th>\n",
       "      <td>numeric__feature_157</td>\n",
       "      <td>336.716324</td>\n",
       "    </tr>\n",
       "    <tr>\n",
       "      <th>43</th>\n",
       "      <td>numeric__feature_76</td>\n",
       "      <td>336.091224</td>\n",
       "    </tr>\n",
       "    <tr>\n",
       "      <th>44</th>\n",
       "      <td>numeric__feature_50</td>\n",
       "      <td>336.053257</td>\n",
       "    </tr>\n",
       "    <tr>\n",
       "      <th>45</th>\n",
       "      <td>numeric__feature_148</td>\n",
       "      <td>335.349530</td>\n",
       "    </tr>\n",
       "    <tr>\n",
       "      <th>46</th>\n",
       "      <td>numeric__feature_42</td>\n",
       "      <td>328.412781</td>\n",
       "    </tr>\n",
       "    <tr>\n",
       "      <th>47</th>\n",
       "      <td>numeric__feature_43</td>\n",
       "      <td>327.947740</td>\n",
       "    </tr>\n",
       "    <tr>\n",
       "      <th>48</th>\n",
       "      <td>numeric__feature_130</td>\n",
       "      <td>327.510584</td>\n",
       "    </tr>\n",
       "    <tr>\n",
       "      <th>49</th>\n",
       "      <td>numeric__feature_44</td>\n",
       "      <td>322.389624</td>\n",
       "    </tr>\n",
       "    <tr>\n",
       "      <th>50</th>\n",
       "      <td>MeanTargetEncoder__feature_179</td>\n",
       "      <td>173.768057</td>\n",
       "    </tr>\n",
       "    <tr>\n",
       "      <th>51</th>\n",
       "      <td>MeanTargetEncoder__feature_163</td>\n",
       "      <td>65.250471</td>\n",
       "    </tr>\n",
       "    <tr>\n",
       "      <th>52</th>\n",
       "      <td>MeanTargetEncoder__feature_109</td>\n",
       "      <td>62.863599</td>\n",
       "    </tr>\n",
       "    <tr>\n",
       "      <th>53</th>\n",
       "      <td>MeanTargetEncoder__feature_167</td>\n",
       "      <td>50.891769</td>\n",
       "    </tr>\n",
       "    <tr>\n",
       "      <th>54</th>\n",
       "      <td>MeanTargetEncoder__feature_185</td>\n",
       "      <td>40.715426</td>\n",
       "    </tr>\n",
       "    <tr>\n",
       "      <th>55</th>\n",
       "      <td>MeanTargetEncoder__feature_60</td>\n",
       "      <td>36.953287</td>\n",
       "    </tr>\n",
       "    <tr>\n",
       "      <th>56</th>\n",
       "      <td>MeanTargetEncoder__feature_156</td>\n",
       "      <td>32.971073</td>\n",
       "    </tr>\n",
       "    <tr>\n",
       "      <th>57</th>\n",
       "      <td>MeanTargetEncoder__feature_7</td>\n",
       "      <td>24.901115</td>\n",
       "    </tr>\n",
       "    <tr>\n",
       "      <th>58</th>\n",
       "      <td>OneHotEncoder__feature_31_3</td>\n",
       "      <td>22.505822</td>\n",
       "    </tr>\n",
       "    <tr>\n",
       "      <th>59</th>\n",
       "      <td>MeanTargetEncoder__feature_61</td>\n",
       "      <td>20.591188</td>\n",
       "    </tr>\n",
       "  </tbody>\n",
       "</table>\n",
       "</div>"
      ],
      "text/plain": [
       "                           Feature    Importance\n",
       "0              numeric__feature_16  12071.364147\n",
       "1             numeric__feature_168   1188.525494\n",
       "2              numeric__feature_11   1188.361985\n",
       "3             numeric__feature_100   1052.872579\n",
       "4               numeric__feature_8    807.179672\n",
       "5             numeric__feature_142    800.872718\n",
       "6              numeric__feature_25    776.447171\n",
       "7              numeric__feature_26    645.328227\n",
       "8              numeric__feature_46    637.556413\n",
       "9              numeric__feature_78    553.738458\n",
       "10             numeric__feature_18    550.244580\n",
       "11            numeric__feature_183    523.643656\n",
       "12             numeric__feature_36    453.327680\n",
       "13             numeric__feature_90    435.479625\n",
       "14             numeric__feature_10    431.502894\n",
       "15              numeric__feature_6    430.545337\n",
       "16             numeric__feature_93    427.222847\n",
       "17             numeric__feature_62    424.769122\n",
       "18            numeric__feature_145    423.148852\n",
       "19            numeric__feature_112    420.288743\n",
       "20             numeric__feature_12    408.513212\n",
       "21             numeric__feature_79    405.069517\n",
       "22            numeric__feature_141    401.872612\n",
       "23             numeric__feature_95    401.594361\n",
       "24             numeric__feature_33    401.568144\n",
       "25              numeric__feature_9    397.636017\n",
       "26             numeric__feature_27    396.397415\n",
       "27             numeric__feature_96    383.629758\n",
       "28             numeric__feature_85    381.613294\n",
       "29             numeric__feature_91    372.000893\n",
       "30            numeric__feature_138    371.346142\n",
       "31             numeric__feature_20    367.101078\n",
       "32            numeric__feature_111    363.275773\n",
       "33             numeric__feature_59    363.128216\n",
       "34            numeric__feature_159    360.863296\n",
       "35            numeric__feature_125    357.439384\n",
       "36             numeric__feature_94    357.421630\n",
       "37            numeric__feature_166    354.652483\n",
       "38             numeric__feature_81    351.534780\n",
       "39             numeric__feature_23    350.409550\n",
       "40             numeric__feature_51    348.762887\n",
       "41             numeric__feature_68    343.814032\n",
       "42            numeric__feature_157    336.716324\n",
       "43             numeric__feature_76    336.091224\n",
       "44             numeric__feature_50    336.053257\n",
       "45            numeric__feature_148    335.349530\n",
       "46             numeric__feature_42    328.412781\n",
       "47             numeric__feature_43    327.947740\n",
       "48            numeric__feature_130    327.510584\n",
       "49             numeric__feature_44    322.389624\n",
       "50  MeanTargetEncoder__feature_179    173.768057\n",
       "51  MeanTargetEncoder__feature_163     65.250471\n",
       "52  MeanTargetEncoder__feature_109     62.863599\n",
       "53  MeanTargetEncoder__feature_167     50.891769\n",
       "54  MeanTargetEncoder__feature_185     40.715426\n",
       "55   MeanTargetEncoder__feature_60     36.953287\n",
       "56  MeanTargetEncoder__feature_156     32.971073\n",
       "57    MeanTargetEncoder__feature_7     24.901115\n",
       "58     OneHotEncoder__feature_31_3     22.505822\n",
       "59   MeanTargetEncoder__feature_61     20.591188"
      ]
     },
     "execution_count": 32,
     "metadata": {},
     "output_type": "execute_result"
    }
   ],
   "source": [
    "model.model.get_feature_scores().iloc[:60]"
   ]
  },
  {
   "cell_type": "code",
   "execution_count": 23,
   "id": "d1fc8d7b-5783-473d-8635-fcd1b01dcdb1",
   "metadata": {},
   "outputs": [
    {
     "data": {
      "text/plain": [
       "<Axes: xlabel='Feature', ylabel='Importance'>"
      ]
     },
     "execution_count": 23,
     "metadata": {},
     "output_type": "execute_result"
    },
    {
     "data": {
      "image/png": "[encoded data removed]",
      "text/plain": [
       "<Figure size 640x480 with 1 Axes>"
      ]
     },
     "metadata": {},
     "output_type": "display_data"
    }
   ],
   "source": [
    "import seaborn as sns\n",
    "sns.barplot(model.model.get_feature_scores(), x=\"Feature\", y=\"Importance\")"
   ]
  },
  {
   "cell_type": "code",
   "execution_count": 15,
   "id": "a3645213-67f1-4a56-8449-706616b01975",
   "metadata": {},
   "outputs": [],
   "source": [
    "test = pd.read_parquet(DATA_PATH / \"test_preproc.parquet\")\n",
    "test[\"target\"] = model.predict(test[cfg[\"selected_features\"] + te_cols + ohe_cols])[:, 1]\n",
    "test[['id', 'target']].to_csv('lgb_full_dataset.csv', index=False)"
   ]
  },
  {
   "cell_type": "code",
   "execution_count": 25,
   "id": "c8b626f4-24d7-47cc-8e1c-8d4829422eda",
   "metadata": {},
   "outputs": [],
   "source": [
    "pred_1 = pd.read_csv(\"lama_utilized.csv\")\n",
    "pred_2 = pd.read_csv(\"lgmb_oe_ohe_cols_0805.csv\")\n",
    "pred_3 = pd.read_csv(\"catboost_ts.csv\")"
   ]
  },
  {
   "cell_type": "code",
   "execution_count": 26,
   "id": "f6fd1b74-1c84-47a2-9640-f9afca52a2c5",
   "metadata": {},
   "outputs": [],
   "source": [
    "pred_1[\"target\"] = 0.6 * pred_1[\"target\"] + 0.2 * pred_2[\"target\"] + 0.2 * pred_3[\"target\"]"
   ]
  },
  {
   "cell_type": "code",
   "execution_count": 29,
   "id": "b9a12186-27a7-43e5-bbf9-05d9894bd617",
   "metadata": {},
   "outputs": [],
   "source": [
    "pred_1.to_csv(\"blend.csv\", index=False)"
   ]
  },
  {
   "cell_type": "code",
   "execution_count": 166,
   "id": "1a479dff-a006-4237-9a22-9b4a9d6a52eb",
   "metadata": {},
   "outputs": [
    {
     "data": {
      "text/plain": [
       "\u001b[0;31mSignature:\u001b[0m\n",
       "\u001b[0mMODEL_DIR\u001b[0m\u001b[0;34m.\u001b[0m\u001b[0mopen\u001b[0m\u001b[0;34m(\u001b[0m\u001b[0;34m\u001b[0m\n",
       "\u001b[0;34m\u001b[0m    \u001b[0mmode\u001b[0m\u001b[0;34m=\u001b[0m\u001b[0;34m'r'\u001b[0m\u001b[0;34m,\u001b[0m\u001b[0;34m\u001b[0m\n",
       "\u001b[0;34m\u001b[0m    \u001b[0mbuffering\u001b[0m\u001b[0;34m=\u001b[0m\u001b[0;34m-\u001b[0m\u001b[0;36m1\u001b[0m\u001b[0;34m,\u001b[0m\u001b[0;34m\u001b[0m\n",
       "\u001b[0;34m\u001b[0m    \u001b[0mencoding\u001b[0m\u001b[0;34m=\u001b[0m\u001b[0;32mNone\u001b[0m\u001b[0;34m,\u001b[0m\u001b[0;34m\u001b[0m\n",
       "\u001b[0;34m\u001b[0m    \u001b[0merrors\u001b[0m\u001b[0;34m=\u001b[0m\u001b[0;32mNone\u001b[0m\u001b[0;34m,\u001b[0m\u001b[0;34m\u001b[0m\n",
       "\u001b[0;34m\u001b[0m    \u001b[0mnewline\u001b[0m\u001b[0;34m=\u001b[0m\u001b[0;32mNone\u001b[0m\u001b[0;34m,\u001b[0m\u001b[0;34m\u001b[0m\n",
       "\u001b[0;34m\u001b[0m\u001b[0;34m)\u001b[0m\u001b[0;34m\u001b[0m\u001b[0;34m\u001b[0m\u001b[0m\n",
       "\u001b[0;31mDocstring:\u001b[0m\n",
       "Open the file pointed by this path and return a file object, as\n",
       "the built-in open() function does.\n",
       "\u001b[0;31mFile:\u001b[0m      /usr/lib/python3.10/pathlib.py\n",
       "\u001b[0;31mType:\u001b[0m      method"
      ]
     },
     "metadata": {},
     "output_type": "display_data"
    }
   ],
   "source": [
    "MODEL_DIR.open?"
   ]
  },
  {
   "cell_type": "code",
   "execution_count": null,
   "id": "bbf9b1c6-0fb4-461a-9aa9-1c23e299671f",
   "metadata": {},
   "outputs": [],
   "source": []
  }
 ],
 "metadata": {
  "kernelspec": {
   "display_name": "base_kernel",
   "language": "python",
   "name": "base_kernel"
  },
  "language_info": {
   "codemirror_mode": {
    "name": "ipython",
    "version": 3
   },
   "file_extension": ".py",
   "mimetype": "text/x-python",
   "name": "python",
   "nbconvert_exporter": "python",
   "pygments_lexer": "ipython3",
   "version": "3.10.12"
  }
 },
 "nbformat": 4,
 "nbformat_minor": 5
}
