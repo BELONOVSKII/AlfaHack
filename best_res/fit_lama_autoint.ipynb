{
 "cells": [
  {
   "cell_type": "code",
   "execution_count": null,
   "metadata": {
    "collapsed": true
   },
   "outputs": [],
   "source": [
    "import sys; sys.path.append(\"../automl/\")"
   ]
  },
  {
   "cell_type": "code",
   "execution_count": null,
   "metadata": {
    "collapsed": true
   },
   "outputs": [],
   "source": [
    "from pathlib import Path\n",
    "import yaml\n",
    "import joblib\n",
    "\n",
    "import pandas as pd\n",
    "\n",
    "from src.automl.model.lama import TabularLamaNN\n",
    "from src.automl.loggers import configure_root_logger\n",
    "from src.automl.constants import create_ml_data_dir\n",
    "from src.automl.model.metrics import RocAuc"
   ]
  },
  {
   "cell_type": "code",
   "execution_count": 4,
   "metadata": {
    "collapsed": true
   },
   "outputs": [],
   "source": [
    "create_ml_data_dir()\n",
    "configure_root_logger()"
   ]
  },
  {
   "cell_type": "markdown",
   "metadata": {},
   "source": [
    "# Tune and fit [LightAutoML AutoInt](https://github.com/sb-ai-lab/LightAutoML) \n",
    "Fit LightAutoML AutoInt on the 5-fold stratified cross-validation. Out of fold predictions are saved for further stacking/blending. \n",
    "[TabularLamaNN](https://github.com/dertty/automl/blob/hack/src/automl/model/lama/nn_lama.py) implementation from [automl](https://github.com/dertty/automl/tree/hack) is used.\n",
    "\n",
    "**Unfortunately**, in LightAutoML training and tuning is performed simultaneously, hence it is impossible to save best LightAutoML parameters and then initialize model with these parameters for inference. The solution is to save model file (*joblib* format) and then use this model for inference. If necessary, we can provide this file together with the oof predictions.\n",
    "\n",
    "**Note:** GPU is required to fit tabular NNs."
   ]
  },
  {
   "cell_type": "markdown",
   "metadata": {},
   "source": [
    "## Constants"
   ]
  },
  {
   "cell_type": "code",
   "execution_count": 5,
   "metadata": {
    "collapsed": true
   },
   "outputs": [],
   "source": [
    "DATA_PATH = Path(\"../data/\")\n",
    "RANDOM_SEED = 77\n",
    "N_JOBS = 16\n",
    "CONFIG_FILE = Path(\"../configs/config.yaml\")\n",
    "\n",
    "with CONFIG_FILE.open(\"r\") as f:\n",
    "    cfg = yaml.load(f, Loader=yaml.SafeLoader)"
   ]
  },
  {
   "cell_type": "markdown",
   "metadata": {},
   "source": [
    "## Data"
   ]
  },
  {
   "cell_type": "code",
   "execution_count": 6,
   "metadata": {
    "collapsed": true
   },
   "outputs": [],
   "source": [
    "df_train = pd.read_parquet(DATA_PATH / \"train_preproc_2.parquet\")\n",
    "cat_columns = df_train.drop(columns=[\"target\", \"id\"]).select_dtypes(int).columns.values.tolist()\n",
    "X_train, y_train = df_train[cfg[\"selected_features\"] + cat_columns], df_train[\"target\"]"
   ]
  },
  {
   "cell_type": "markdown",
   "metadata": {},
   "source": [
    "## Model"
   ]
  },
  {
   "cell_type": "code",
   "execution_count": 7,
   "metadata": {
    "collapsed": true
   },
   "outputs": [],
   "source": [
    "metric = RocAuc()"
   ]
  },
  {
   "cell_type": "markdown",
   "metadata": {},
   "source": [
    "### Fit + Tune\n",
    "\n",
    "**Important**: It is nearly impossible to fully reproduce LightAutoML trianing, because it strongly depends on the harware, resources utilization and timeout. To reproduce the results we can provide the saved file of a fitted model."
   ]
  },
  {
   "cell_type": "code",
   "execution_count": 15,
   "metadata": {},
   "outputs": [
    {
     "name": "stdout",
     "output_type": "stream",
     "text": [
      "[2024-11-07 12:08:58,759] - [   START    ] - Fitting TabularLamaNN_autoint\n",
      "[12:08:58] Stdout logging level is DEBUG.\n",
      "[12:08:58] Copying TaskTimer may affect the parent PipelineTimer, so copy will create new unlimited TaskTimer\n",
      "[12:08:58] Task: binary\n",
      "\n",
      "[12:08:58] Start automl preset with listed constraints:\n",
      "[12:08:58] - time: 14400.00 seconds\n",
      "[12:08:58] - CPU: 16 cores\n",
      "[12:08:58] - memory: 16 GB\n",
      "\n",
      "[12:08:58] \u001b[1mTrain data shape: (413194, 63)\u001b[0m\n",
      "\n",
      "[12:09:14] Feats was rejected during automatic roles guess: []\n",
      "[12:09:14] Layer \u001b[1m1\u001b[0m train process start. Time left 14384.51 secs\n",
      "[12:09:23] number of text features: 0 \n",
      "[12:09:23] number of categorical features: 4 \n",
      "[12:09:23] number of continuous features: 58 \n",
      "[12:09:23] Start fitting \u001b[1mLvl_0_Pipe_0_Mod_0_TorchNN_autoint_0\u001b[0m ...\n",
      "[12:09:23] Training params: {'num_workers': 0, 'pin_memory': False, 'max_length': 256, 'is_snap': False, 'input_bn': False, 'max_emb_size': 256, 'bert_name': None, 'pooling': 'cls', 'device': device(type='cuda', index=0), 'use_cont': True, 'use_cat': True, 'use_text': False, 'lang': 'en', 'deterministic': True, 'multigpu': False, 'random_state': 42, 'model': 'autoint', 'model_with_emb': False, 'path_to_save': None, 'verbose_inside': None, 'verbose': 1, 'n_epochs': 50, 'snap_params': {'k': 3, 'early_stopping': True, 'patience': 10, 'swa': True}, 'bs': 1024, 'emb_dropout': 0.1, 'emb_ratio': 3, 'opt': 'Adam', 'opt_params': {'lr': 0.0003, 'weight_decay': 0}, 'sch': 'ReduceLROnPlateau', 'scheduler_params': {'patience': 5, 'factor': 0.5, 'min_lr': 1e-05}, 'loss': None, 'loss_params': {}, 'loss_on_logits': True, 'clip_grad': False, 'clip_grad_params': {}, 'init_bias': True, 'dataset': 'UniversalDataset', 'tuned': False, 'optimization_search_space': None, 'verbose_bar': False, 'freeze_defaults': False, 'n_out': 1, 'hid_factor': [2, 2], 'hidden_size': [512, 256], 'block_config': [2, 2], 'compression': 0.5, 'growth_size': 256, 'bn_factor': 2, 'drop_rate': 0.1, 'noise_std': 0.05, 'num_init_features': None, 'act_fun': 'LeakyReLU', 'use_noise': False, 'use_bn': True, 'embedding_size': 10, 'cat_embedder': 'cat', 'cont_embedder': 'cont', 'stop_by_metric': False, 'tuning_params': {'fit_on_holdout': True, 'max_tuning_iter': 25, 'max_tuning_time': 3600}, 'device_ids': None, 'num_dims': 58, 'text_features': [], 'bias': array([-2.76907645])}\n",
      "[12:09:23] ===== Start working with \u001b[1mfold 0\u001b[0m for \u001b[1mLvl_0_Pipe_0_Mod_0_TorchNN_autoint_0\u001b[0m =====\n",
      "[12:10:01] Epoch: 0, train loss: 2.704885244369507, val loss: 0.3971446454524994, val metric: 0.6984737415607188\n",
      "[12:10:39] Epoch: 1, train loss: 0.7322951555252075, val loss: 0.19451665878295898, val metric: 0.784642849629815\n",
      "[12:11:17] Epoch: 2, train loss: 0.400200754404068, val loss: 0.19295044243335724, val metric: 0.7891592948367236\n",
      "[12:11:54] Epoch: 3, train loss: 0.5384109020233154, val loss: 0.21249039471149445, val metric: 0.7720548720667777\n",
      "[12:12:32] Epoch: 4, train loss: 0.3296090066432953, val loss: 0.192743718624115, val metric: 0.7957828592479705\n",
      "[12:13:10] Epoch: 5, train loss: 0.19823455810546875, val loss: 0.22322304546833038, val metric: 0.7954887158330153\n",
      "[12:13:47] Epoch: 6, train loss: 0.5059359669685364, val loss: 0.19178742170333862, val metric: 0.7966784722543439\n",
      "[12:14:25] Epoch: 7, train loss: 0.19351783394813538, val loss: 0.196466863155365, val metric: 0.7971818733857181\n",
      "[12:15:03] Epoch: 8, train loss: 0.19600772857666016, val loss: 0.22311392426490784, val metric: 0.7827917758046999\n",
      "[12:15:40] Epoch: 9, train loss: 0.29575636982917786, val loss: 0.19172951579093933, val metric: 0.7959476958439302\n",
      "[12:16:18] Epoch: 10, train loss: 0.19410675764083862, val loss: 0.18927697837352753, val metric: 0.8023336396276357\n",
      "[12:16:56] Epoch: 11, train loss: 0.19460275769233704, val loss: 0.19040419161319733, val metric: 0.7996319764290589\n",
      "[12:17:34] Epoch: 12, train loss: 0.1925390064716339, val loss: 0.1939440667629242, val metric: 0.8025549555035456\n",
      "[12:18:11] Epoch: 13, train loss: 0.19333085417747498, val loss: 0.189153254032135, val metric: 0.8035864133141446\n",
      "[12:18:49] Epoch: 14, train loss: 0.19354666769504547, val loss: 0.18977010250091553, val metric: 0.8028253504353492\n",
      "[12:19:27] Epoch: 15, train loss: 0.19304460287094116, val loss: 0.19125397503376007, val metric: 0.7995482614768193\n",
      "[12:20:05] Epoch: 16, train loss: 0.1914888173341751, val loss: 0.19332513213157654, val metric: 0.8005552443614631\n",
      "[12:20:43] Epoch: 17, train loss: 0.19262120127677917, val loss: 0.19588153064250946, val metric: 0.8039889127267016\n",
      "[12:21:22] Epoch: 18, train loss: 0.1895304173231125, val loss: 0.19088315963745117, val metric: 0.8027524517022723\n",
      "[12:22:00] Epoch: 19, train loss: 0.1875389814376831, val loss: 0.19034461677074432, val metric: 0.8017972084208491\n",
      "[12:22:38] Epoch: 20, train loss: 0.18502715229988098, val loss: 0.19373734295368195, val metric: 0.8007131553602431\n",
      "[12:23:16] Epoch: 21, train loss: 0.18435469269752502, val loss: 0.1922703981399536, val metric: 0.8004951157281923\n",
      "[12:23:54] Epoch: 22, train loss: 0.18337585031986237, val loss: 0.1951075941324234, val metric: 0.7963843697100362\n",
      "[12:24:31] Epoch: 23, train loss: 0.1822371929883957, val loss: 0.19321203231811523, val metric: 0.7973893644354286\n",
      "[12:25:09] Epoch: 24, train loss: 0.1813948005437851, val loss: 0.19392430782318115, val metric: 0.7949970168909738\n",
      "[12:25:15] Early stopping: val loss: 0.18882761895656586, val metric: 0.8046005050546786\n",
      "[12:25:15] ===== Start working with \u001b[1mfold 1\u001b[0m for \u001b[1mLvl_0_Pipe_0_Mod_0_TorchNN_autoint_0\u001b[0m =====\n",
      "[12:25:53] Epoch: 0, train loss: 3.461836814880371, val loss: 0.6560428738594055, val metric: 0.6267548214720798\n",
      "[12:26:31] Epoch: 1, train loss: 0.8502165079116821, val loss: 2.0200421810150146, val metric: 0.585869486668936\n",
      "[12:27:08] Epoch: 2, train loss: 0.3412470519542694, val loss: 0.19364020228385925, val metric: 0.7884517395462654\n",
      "[12:27:46] Epoch: 3, train loss: 0.7214998006820679, val loss: 0.19813063740730286, val metric: 0.7876381605219424\n",
      "[12:28:23] Epoch: 4, train loss: 0.20069338381290436, val loss: 0.1957775354385376, val metric: 0.7904876739479159\n",
      "[12:29:01] Epoch: 5, train loss: 0.20088934898376465, val loss: 0.20170371234416962, val metric: 0.7893302673034761\n",
      "[12:29:38] Epoch: 6, train loss: 0.34118881821632385, val loss: 0.19128280878067017, val metric: 0.7947830181794171\n",
      "[12:30:16] Epoch: 7, train loss: 0.19944173097610474, val loss: 0.1926811933517456, val metric: 0.7969535514897412\n",
      "[12:30:55] Epoch: 8, train loss: 0.21251918375492096, val loss: 0.2118409425020218, val metric: 0.7966419378504899\n",
      "[12:31:33] Epoch: 9, train loss: 0.32080623507499695, val loss: 0.19027090072631836, val metric: 0.7996376297625267\n",
      "[12:32:12] Epoch: 10, train loss: 0.19498829543590546, val loss: 0.19256460666656494, val metric: 0.7999018426792577\n",
      "[12:32:50] Epoch: 11, train loss: 0.19988305866718292, val loss: 0.19359152019023895, val metric: 0.8008003324518685\n",
      "[12:33:29] Epoch: 12, train loss: 0.23914361000061035, val loss: 0.2063084840774536, val metric: 0.7839466840659959\n",
      "[12:34:08] Epoch: 13, train loss: 0.19320546090602875, val loss: 0.1912297010421753, val metric: 0.8019759594947516\n",
      "[12:34:47] Epoch: 14, train loss: 0.1915282905101776, val loss: 0.18891708552837372, val metric: 0.8039847927017278\n",
      "[12:35:25] Epoch: 15, train loss: 0.19302260875701904, val loss: 0.1918020099401474, val metric: 0.7989602844727869\n",
      "[12:36:03] Epoch: 16, train loss: 0.19060660898685455, val loss: 0.1921873539686203, val metric: 0.8008885774539672\n",
      "[12:36:41] Epoch: 17, train loss: 0.19055044651031494, val loss: 0.1920933723449707, val metric: 0.8040382963348411\n",
      "[12:37:19] Epoch: 18, train loss: 0.18987281620502472, val loss: 0.20330744981765747, val metric: 0.8005673921726971\n",
      "[12:37:57] Epoch: 19, train loss: 0.18933698534965515, val loss: 0.18943335115909576, val metric: 0.8050813482253176\n",
      "[12:38:35] Epoch: 20, train loss: 0.18769417703151703, val loss: 0.19103394448757172, val metric: 0.8014631119701179\n",
      "[12:39:13] Epoch: 21, train loss: 0.18445168435573578, val loss: 0.18989835679531097, val metric: 0.7997150163564068\n",
      "[12:39:50] Epoch: 22, train loss: 0.18377487361431122, val loss: 0.18966297805309296, val metric: 0.7995806455323158\n"
     ]
    },
    {
     "name": "stdout",
     "output_type": "stream",
     "text": [
      "[12:40:28] Epoch: 23, train loss: 0.183428555727005, val loss: 0.19311760365962982, val metric: 0.7957049808879094\n",
      "[12:41:06] Epoch: 24, train loss: 0.18255187571048737, val loss: 0.19092701375484467, val metric: 0.7976241610330523\n",
      "[12:41:43] Epoch: 25, train loss: 0.1813998967409134, val loss: 0.1934359222650528, val metric: 0.7935573166826069\n",
      "[12:42:21] Epoch: 26, train loss: 0.17998187243938446, val loss: 0.19299423694610596, val metric: 0.7897826605480652\n",
      "[12:42:59] Epoch: 27, train loss: 0.1777971237897873, val loss: 0.19352443516254425, val metric: 0.791000470054638\n",
      "[12:43:36] Epoch: 28, train loss: 0.17629578709602356, val loss: 0.19533847272396088, val metric: 0.7896064223597945\n",
      "[12:44:14] Epoch: 29, train loss: 0.17584431171417236, val loss: 0.19515475630760193, val metric: 0.7886150705202986\n",
      "[12:44:52] Epoch: 30, train loss: 0.17505429685115814, val loss: 0.19657976925373077, val metric: 0.7848700337396953\n",
      "[12:45:29] Epoch: 31, train loss: 0.1741061806678772, val loss: 0.19709566235542297, val metric: 0.7834952822642163\n",
      "[12:46:07] Epoch: 32, train loss: 0.1734192818403244, val loss: 0.19697287678718567, val metric: 0.7842143749430086\n",
      "[12:46:13] Early stopping: val loss: 0.18825235962867737, val metric: 0.8057170832404361\n",
      "[12:46:14] ===== Start working with \u001b[1mfold 2\u001b[0m for \u001b[1mLvl_0_Pipe_0_Mod_0_TorchNN_autoint_0\u001b[0m =====\n",
      "[12:46:52] Epoch: 0, train loss: 2.4017319679260254, val loss: 2.755488157272339, val metric: 0.494044873714102\n",
      "[12:47:29] Epoch: 1, train loss: 0.576862633228302, val loss: 0.1966603547334671, val metric: 0.7837937144603679\n",
      "[12:48:07] Epoch: 2, train loss: 0.7858892679214478, val loss: 0.19452372193336487, val metric: 0.7836134630381708\n",
      "[12:48:45] Epoch: 3, train loss: 0.20130908489227295, val loss: 0.21074657142162323, val metric: 0.7803717456476464\n",
      "[12:49:22] Epoch: 4, train loss: 0.44086775183677673, val loss: 0.1924557089805603, val metric: 0.7906591421360731\n",
      "[12:50:00] Epoch: 5, train loss: 0.20003028213977814, val loss: 0.199134960770607, val metric: 0.7922339844372062\n",
      "[12:50:37] Epoch: 6, train loss: 0.36697885394096375, val loss: 1.197986125946045, val metric: 0.6071160665274369\n",
      "[12:51:15] Epoch: 7, train loss: 0.22234207391738892, val loss: 0.19100764393806458, val metric: 0.7973938997589196\n",
      "[12:51:52] Epoch: 8, train loss: 0.19391340017318726, val loss: 0.19371147453784943, val metric: 0.7982164980123128\n",
      "[12:52:30] Epoch: 9, train loss: 0.20080935955047607, val loss: 0.3762875199317932, val metric: 0.7820722032253986\n",
      "[12:53:08] Epoch: 10, train loss: 0.2018219381570816, val loss: 0.19191095232963562, val metric: 0.798574928319344\n",
      "[12:53:46] Epoch: 11, train loss: 0.26245003938674927, val loss: 0.18988098204135895, val metric: 0.79919671589632\n",
      "[12:54:25] Epoch: 12, train loss: 0.19091719388961792, val loss: 0.18965889513492584, val metric: 0.8009375167586136\n",
      "[12:55:02] Epoch: 13, train loss: 0.19021950662136078, val loss: 0.19190272688865662, val metric: 0.7980400831573711\n",
      "[12:55:40] Epoch: 14, train loss: 0.19020594656467438, val loss: 0.18962663412094116, val metric: 0.8013843014956068\n",
      "[12:56:18] Epoch: 15, train loss: 0.19015763700008392, val loss: 0.19035235047340393, val metric: 0.797879216287874\n",
      "[12:56:56] Epoch: 16, train loss: 0.18873977661132812, val loss: 0.1902632713317871, val metric: 0.7984229633406059\n",
      "[12:57:34] Epoch: 17, train loss: 0.19023016095161438, val loss: 0.1897210031747818, val metric: 0.8001049183806046\n",
      "[12:58:11] Epoch: 18, train loss: 0.1895492523908615, val loss: 0.19228512048721313, val metric: 0.7975251710058224\n",
      "[12:58:49] Epoch: 19, train loss: 0.1873987466096878, val loss: 0.19122914969921112, val metric: 0.7993476828402086\n",
      "[12:59:27] Epoch: 20, train loss: 0.1887039989233017, val loss: 0.19066013395786285, val metric: 0.797443477173034\n",
      "[13:00:04] Epoch: 21, train loss: 0.18206296861171722, val loss: 0.19601556658744812, val metric: 0.7941855354537655\n",
      "[13:00:42] Epoch: 22, train loss: 0.18167312443256378, val loss: 0.19197393953800201, val metric: 0.794753231387664\n",
      "[13:01:20] Epoch: 23, train loss: 0.18103304505348206, val loss: 0.19262681901454926, val metric: 0.7938483697492298\n",
      "[13:01:57] Epoch: 24, train loss: 0.17983518540859222, val loss: 0.19433216750621796, val metric: 0.7915203578779468\n",
      "[13:02:35] Epoch: 25, train loss: 0.1785925179719925, val loss: 0.19575953483581543, val metric: 0.7878457979149399\n",
      "[13:03:13] Epoch: 26, train loss: 0.17754359543323517, val loss: 0.19500000774860382, val metric: 0.7862621539220552\n",
      "[13:03:51] Epoch: 27, train loss: 0.17447717487812042, val loss: 0.19705639779567719, val metric: 0.78438458009631\n",
      "[13:03:57] Early stopping: val loss: 0.18900567293167114, val metric: 0.8027094320495078\n",
      "[13:03:57] ===== Start working with \u001b[1mfold 3\u001b[0m for \u001b[1mLvl_0_Pipe_0_Mod_0_TorchNN_autoint_0\u001b[0m =====\n",
      "[13:04:36] Epoch: 0, train loss: 3.4016571044921875, val loss: 0.48977968096733093, val metric: 0.7057202215455238\n",
      "[13:05:13] Epoch: 1, train loss: 0.5447100400924683, val loss: 1.0821309089660645, val metric: 0.5855580620530167\n",
      "[13:05:51] Epoch: 2, train loss: 0.7290087342262268, val loss: 0.21157066524028778, val metric: 0.7690515213880165\n",
      "[13:06:28] Epoch: 3, train loss: 0.2274094521999359, val loss: 0.20286642014980316, val metric: 0.7801471212459067\n",
      "[13:07:06] Epoch: 4, train loss: 0.40814247727394104, val loss: 0.208372563123703, val metric: 0.7707327314396586\n",
      "[13:07:44] Epoch: 5, train loss: 0.36362704634666443, val loss: 2.4350290298461914, val metric: 0.5641662519620271\n",
      "[13:08:21] Epoch: 6, train loss: 0.36231377720832825, val loss: 0.19135014712810516, val metric: 0.7942090660473997\n",
      "[13:08:59] Epoch: 7, train loss: 0.19480325281620026, val loss: 0.19602113962173462, val metric: 0.7991291587469957\n",
      "[13:09:36] Epoch: 8, train loss: 0.19785092771053314, val loss: 0.20351701974868774, val metric: 0.7993638891392064\n",
      "[13:10:15] Epoch: 9, train loss: 0.28486740589141846, val loss: 0.19467365741729736, val metric: 0.7994992596689768\n",
      "[13:10:54] Epoch: 10, train loss: 0.19252131879329681, val loss: 0.19705460965633392, val metric: 0.8021361397626527\n",
      "[13:11:32] Epoch: 11, train loss: 0.19174788892269135, val loss: 0.18950004875659943, val metric: 0.8038211302818781\n",
      "[13:12:10] Epoch: 12, train loss: 0.19606667757034302, val loss: 0.19778238236904144, val metric: 0.800275576314488\n",
      "[13:12:48] Epoch: 13, train loss: 0.1970149278640747, val loss: 0.18952606618404388, val metric: 0.8038464243517707\n",
      "[13:13:26] Epoch: 14, train loss: 0.19129161536693573, val loss: 0.2019866406917572, val metric: 0.7976573191099383\n",
      "[13:14:04] Epoch: 15, train loss: 0.19254189729690552, val loss: 0.19570669531822205, val metric: 0.8044054563820802\n",
      "[13:14:41] Epoch: 16, train loss: 0.1912793666124344, val loss: 0.1941455602645874, val metric: 0.8018323367477704\n",
      "[13:15:19] Epoch: 17, train loss: 0.18958210945129395, val loss: 0.19304005801677704, val metric: 0.8044477757376435\n",
      "[13:15:57] Epoch: 18, train loss: 0.18598473072052002, val loss: 0.19227510690689087, val metric: 0.8046488905495529\n",
      "[13:16:34] Epoch: 19, train loss: 0.18557582795619965, val loss: 0.19332194328308105, val metric: 0.8021298178928729\n",
      "[13:17:12] Epoch: 20, train loss: 0.18630768358707428, val loss: 0.19132329523563385, val metric: 0.8037681892360133\n",
      "[13:17:50] Epoch: 21, train loss: 0.18478526175022125, val loss: 0.18949146568775177, val metric: 0.8029514843315252\n",
      "[13:18:28] Epoch: 22, train loss: 0.1843486726284027, val loss: 0.19015780091285706, val metric: 0.8016618426687604\n",
      "[13:19:06] Epoch: 23, train loss: 0.18223784863948822, val loss: 0.19211943447589874, val metric: 0.8000603743836592\n",
      "[13:19:43] Epoch: 24, train loss: 0.1796303391456604, val loss: 0.19336871802806854, val metric: 0.7944810830806575\n",
      "[13:20:21] Epoch: 25, train loss: 0.17913486063480377, val loss: 0.19268232583999634, val metric: 0.7950003463846833\n",
      "[13:20:59] Epoch: 26, train loss: 0.17816540598869324, val loss: 0.1969131976366043, val metric: 0.7926006985407748\n",
      "[13:21:37] Epoch: 27, train loss: 0.17756596207618713, val loss: 0.19452105462551117, val metric: 0.7916158656449028\n",
      "[13:22:15] Epoch: 28, train loss: 0.17638970911502838, val loss: 0.1943781077861786, val metric: 0.790369369820677\n",
      "[13:22:54] Epoch: 29, train loss: 0.17573465406894684, val loss: 0.19884561002254486, val metric: 0.7844107228317818\n"
     ]
    },
    {
     "name": "stdout",
     "output_type": "stream",
     "text": [
      "[13:23:32] Epoch: 30, train loss: 0.17395038902759552, val loss: 0.19658687710762024, val metric: 0.7908451313844037\n",
      "[13:24:10] Epoch: 31, train loss: 0.17376229166984558, val loss: 0.20260027050971985, val metric: 0.7837468566427026\n",
      "[13:24:16] Early stopping: val loss: 0.18829074501991272, val metric: 0.8059301342489384\n",
      "[13:24:16] ===== Start working with \u001b[1mfold 4\u001b[0m for \u001b[1mLvl_0_Pipe_0_Mod_0_TorchNN_autoint_0\u001b[0m =====\n",
      "[13:24:54] Epoch: 0, train loss: 2.0756165981292725, val loss: 0.29272064566612244, val metric: 0.6760281684864917\n",
      "[13:25:32] Epoch: 1, train loss: 1.0410487651824951, val loss: 0.2044340819120407, val metric: 0.761761622140692\n",
      "[13:26:09] Epoch: 2, train loss: 0.1988583207130432, val loss: 0.19150947034358978, val metric: 0.7986280810163797\n",
      "[13:26:47] Epoch: 3, train loss: 0.410273015499115, val loss: 0.19233688712120056, val metric: 0.7967691374397543\n",
      "[13:27:25] Epoch: 4, train loss: 0.4932568371295929, val loss: 0.18968094885349274, val metric: 0.8010486340673248\n",
      "[13:28:02] Epoch: 5, train loss: 0.19832034409046173, val loss: 0.19748809933662415, val metric: 0.8015014115176131\n",
      "[13:28:40] Epoch: 6, train loss: 0.20619447529315948, val loss: 0.18891195952892303, val metric: 0.8045278230209214\n",
      "[13:29:17] Epoch: 7, train loss: 0.19882795214653015, val loss: 0.1909458190202713, val metric: 0.8004956062209797\n",
      "[13:29:55] Epoch: 8, train loss: 0.3381143808364868, val loss: 0.19140157103538513, val metric: 0.8034018221956454\n",
      "[13:30:33] Epoch: 9, train loss: 0.19519829750061035, val loss: 0.1893172562122345, val metric: 0.8042600047694812\n",
      "[13:31:10] Epoch: 10, train loss: 0.1951369345188141, val loss: 0.19248788058757782, val metric: 0.8035395316812729\n",
      "[13:31:47] Epoch: 11, train loss: 0.1954159438610077, val loss: 0.18914209306240082, val metric: 0.8063890105568052\n",
      "[13:32:25] Epoch: 12, train loss: 0.1979193538427353, val loss: 0.18900340795516968, val metric: 0.8068389916277827\n",
      "[13:33:03] Epoch: 13, train loss: 0.18876570463180542, val loss: 0.19281165301799774, val metric: 0.8060553040186802\n",
      "[13:33:41] Epoch: 14, train loss: 0.18953059613704681, val loss: 0.18882295489311218, val metric: 0.8064794347317383\n",
      "[13:34:19] Epoch: 15, train loss: 0.18952538073062897, val loss: 0.19811727106571198, val metric: 0.8016479860925785\n",
      "[13:34:57] Epoch: 16, train loss: 0.18914462625980377, val loss: 0.19115591049194336, val metric: 0.8054219142165913\n",
      "[13:35:36] Epoch: 17, train loss: 0.18726062774658203, val loss: 0.19091518223285675, val metric: 0.8043319143028953\n",
      "[13:36:13] Epoch: 18, train loss: 0.19021835923194885, val loss: 0.19089028239250183, val metric: 0.8035255603321183\n",
      "[13:36:52] Epoch: 19, train loss: 0.18622763454914093, val loss: 0.19878053665161133, val metric: 0.797139295790791\n",
      "[13:37:30] Epoch: 20, train loss: 0.18868134915828705, val loss: 0.20337432622909546, val metric: 0.7981915518351279\n",
      "[13:38:09] Epoch: 21, train loss: 0.18305890262126923, val loss: 0.1910034865140915, val metric: 0.8006896506861321\n",
      "[13:38:47] Epoch: 22, train loss: 0.1820075511932373, val loss: 0.19300657510757446, val metric: 0.7978153234556391\n",
      "[13:39:26] Epoch: 23, train loss: 0.18169820308685303, val loss: 0.19270415604114532, val metric: 0.7984557905628392\n",
      "[13:40:04] Epoch: 24, train loss: 0.18198515474796295, val loss: 0.1930702179670334, val metric: 0.7993251863408423\n",
      "[13:40:10] Early stopping: val loss: 0.18786223232746124, val metric: 0.8085521292711861\n",
      "[13:40:11] Fitting \u001b[1mLvl_0_Pipe_0_Mod_0_TorchNN_autoint_0\u001b[0m finished. score = \u001b[1m0.8053888481876601\u001b[0m\n",
      "[13:40:11] \u001b[1mLvl_0_Pipe_0_Mod_0_TorchNN_autoint_0\u001b[0m fitting and predicting completed\n",
      "[13:40:11] Time left 8927.69 secs\n",
      "\n",
      "[13:40:11] \u001b[1mLayer 1 training completed.\u001b[0m\n",
      "\n",
      "[13:40:11] \u001b[1mAutoml preset training completed in 5472.31 seconds\u001b[0m\n",
      "\n",
      "[13:40:11] Model description:\n",
      "Final prediction for new objects (level 0) = \n",
      "\t 1.00000 * (5 averaged models Lvl_0_Pipe_0_Mod_0_TorchNN_autoint_0) \n",
      "\n",
      "[2024-11-07 13:40:11,248] - [    END     ] - Fitting TabularLamaNN_autoint\n",
      "0.8053888481876601\n"
     ]
    }
   ],
   "source": [
    "# model = TabularLamaNN(n_jobs=N_JOBS, task=\"classification\", nn_name=\"autoint\")\n",
    "# model.tune(X_train, y_train, metric, timeout=60 * 60 * 2, categorical_features=cat_columns)\n",
    "# model.verbose = 4\n",
    "# oof = model.fit(X_train, y_train, categorical_features=cat_columns)\n",
    "\n",
    "# print(metric(y_train, oof))"
   ]
  },
  {
   "cell_type": "markdown",
   "metadata": {},
   "source": [
    "### Alternatively, load the fitted model\n",
    "\n",
    "**GPU is required.**"
   ]
  },
  {
   "cell_type": "code",
   "execution_count": null,
   "metadata": {
    "collapsed": true
   },
   "outputs": [],
   "source": [
    "model = joblib.load(DATA_PATH / \"models\" / \"lamann_autoint_8053_full_dataset\" / \"lamann_autoint_8053_full_dataset.joblib\")"
   ]
  },
  {
   "cell_type": "markdown",
   "metadata": {},
   "source": [
    "### Save model file, parameters, test and oof predictions."
   ]
  },
  {
   "cell_type": "code",
   "execution_count": null,
   "metadata": {
    "collapsed": true
   },
   "outputs": [],
   "source": [
    "MODEL_NAME = \"lamann_autoint_8053_full_dataset\"\n",
    "MODEL_DIR = DATA_PATH / \"models\" / MODEL_NAME\n",
    "MODEL_DIR.mkdir(exist_ok=True)"
   ]
  },
  {
   "cell_type": "code",
   "execution_count": null,
   "metadata": {
    "collapsed": true
   },
   "outputs": [],
   "source": [
    "res = pd.DataFrame()\n",
    "res[MODEL_NAME] = oof[:, 1]\n",
    "res.to_csv(MODEL_DIR / \"oof.csv\", index=False)\n",
    "joblib.dump(model, MODEL_DIR / f\"{MODEL_NAME}.joblib\")\n",
    "\n",
    "with (MODEL_DIR / \"params.yaml\").open(\"w\") as f:\n",
    "    yaml.dump(model.params, f)\n",
    "\n",
    "with (MODEL_DIR / \"score.txt\").open(\"w\") as f:\n",
    "    print(\"OOF:\", metric(y_train, oof), file=f)\n",
    "    \n",
    "test = pd.read_parquet(DATA_PATH / \"test_preproc_2.parquet\")\n",
    "test[\"target\"] = model.predict(test[cfg[\"selected_features\"] + cat_columns])[:, 1]\n",
    "test[['id', 'target']].to_csv(MODEL_DIR / f'{MODEL_NAME}.csv', index=False)"
   ]
  },
  {
   "cell_type": "code",
   "execution_count": null,
   "metadata": {
    "collapsed": true
   },
   "outputs": [],
   "source": []
  }
 ],
 "metadata": {
  "kernelspec": {
   "display_name": "base_kernel",
   "language": "python",
   "name": "base_kernel"
  },
  "language_info": {
   "codemirror_mode": {
    "name": "ipython",
    "version": 3
   },
   "file_extension": ".py",
   "mimetype": "text/x-python",
   "name": "python",
   "nbconvert_exporter": "python",
   "pygments_lexer": "ipython3",
   "version": "3.10.12"
  }
 },
 "nbformat": 4,
 "nbformat_minor": 2
}
