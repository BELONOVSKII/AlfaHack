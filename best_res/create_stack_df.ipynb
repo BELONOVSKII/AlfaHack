{
 "cells": [
  {
   "cell_type": "code",
   "execution_count": 17,
   "metadata": {},
   "outputs": [],
   "source": [
    "from pathlib import Path\n",
    "import yaml\n",
    "\n",
    "import pandas as pd"
   ]
  },
  {
   "cell_type": "markdown",
   "metadata": {},
   "source": [
    "# Add oof predictions to the dataset\n",
    "Add out of fold predictions of models to train\\test."
   ]
  },
  {
   "cell_type": "markdown",
   "metadata": {},
   "source": [
    "## Constants"
   ]
  },
  {
   "cell_type": "code",
   "execution_count": null,
   "metadata": {},
   "outputs": [],
   "source": [
    "DATA_PATH = Path(\"../data/\")\n",
    "OOF_PATH = DATA_PATH / \"models\"\n",
    "CONFIG_FILE = Path(\"../configs/config.yaml\")\n",
    "\n",
    "models = [\"lamau_81425_full_dataset\", \"lgb_8122_full_dataset\",\n",
    "          \"cb_8114_full_dataset\", \"xgb_81325_full_dataset\",\n",
    "         \"lama_81298_full_dataset\", \"lamann_autoint_8053_full_dataset\", \"lamann_fttransformer_8050_full_dataset\"]"
   ]
  },
  {
   "cell_type": "markdown",
   "metadata": {},
   "source": [
    "## Add out of fold predictions to train/test"
   ]
  },
  {
   "cell_type": "code",
   "execution_count": 6,
   "metadata": {},
   "outputs": [],
   "source": [
    "df_train = pd.read_parquet(DATA_PATH / \"train_preproc_2.parquet\")\n",
    "df_test = pd.read_parquet(DATA_PATH / \"test_preproc_2.parquet\")"
   ]
  },
  {
   "cell_type": "code",
   "execution_count": 13,
   "metadata": {},
   "outputs": [],
   "source": [
    "for model in models:\n",
    "    oof_pred = pd.read_csv(OOF_PATH / model / \"oof.csv\")\n",
    "    test_pred = pd.read_csv(OOF_PATH / model / f\"{model}.csv\")\n",
    "    \n",
    "    df_train[model] = oof_pred[model]\n",
    "    df_test[model] = test_pred[\"target\"]"
   ]
  },
  {
   "cell_type": "code",
   "execution_count": null,
   "metadata": {},
   "outputs": [],
   "source": [
    "df_train.to_parquet(DATA_PATH / \"train_preproc_oof.parquet\", index=False)\n",
    "df_test.to_parquet(DATA_PATH / \"test_preproc_oof.parquet\", index=False)"
   ]
  },
  {
   "cell_type": "markdown",
   "metadata": {},
   "source": [
    "## Add names of oof columns to the config"
   ]
  },
  {
   "cell_type": "code",
   "execution_count": 18,
   "metadata": {},
   "outputs": [],
   "source": [
    "with CONFIG_FILE.open(\"r\") as f:\n",
    "    cfg = yaml.load(f, Loader=yaml.SafeLoader)"
   ]
  },
  {
   "cell_type": "code",
   "execution_count": 19,
   "metadata": {},
   "outputs": [],
   "source": [
    "cfg[\"stack_features\"] = models"
   ]
  },
  {
   "cell_type": "code",
   "execution_count": 20,
   "metadata": {},
   "outputs": [],
   "source": [
    "with CONFIG_FILE.open(\"w\") as f:\n",
    "    yaml.dump(cfg, f)"
   ]
  },
  {
   "cell_type": "code",
   "execution_count": null,
   "metadata": {},
   "outputs": [],
   "source": []
  }
 ],
 "metadata": {
  "kernelspec": {
   "display_name": "base_kernel",
   "language": "python",
   "name": "base_kernel"
  },
  "language_info": {
   "codemirror_mode": {
    "name": "ipython",
    "version": 3
   },
   "file_extension": ".py",
   "mimetype": "text/x-python",
   "name": "python",
   "nbconvert_exporter": "python",
   "pygments_lexer": "ipython3",
   "version": "3.10.12"
  }
 },
 "nbformat": 4,
 "nbformat_minor": 2
}
