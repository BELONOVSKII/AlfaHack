{
 "cells": [
  {
   "cell_type": "code",
   "execution_count": 1,
   "metadata": {
    "collapsed": true
   },
   "outputs": [],
   "source": [
    "import sys; sys.path.append(\"../automl/\")"
   ]
  },
  {
   "cell_type": "code",
   "execution_count": null,
   "metadata": {
    "collapsed": true
   },
   "outputs": [],
   "source": [
    "from pathlib import Path\n",
    "import yaml\n",
    "import joblib\n",
    "\n",
    "import pandas as pd\n",
    "\n",
    "from src.automl.model.lightgbm import LightGBMClassification\n",
    "from src.automl.loggers import configure_root_logger\n",
    "from src.automl.constants import create_ml_data_dir\n",
    "from src.automl.model.metrics import RocAuc"
   ]
  },
  {
   "cell_type": "code",
   "execution_count": 4,
   "metadata": {
    "collapsed": true
   },
   "outputs": [],
   "source": [
    "create_ml_data_dir()\n",
    "configure_root_logger()"
   ]
  },
  {
   "cell_type": "markdown",
   "metadata": {},
   "source": [
    "# Tune and fit LightGBM \n",
    "Find the best parameters for LightGBM and then fit the model on these parameters. Parameters optimization is performed based on the 5-fold stratified cross-validation and the final fit is performed on the same folds. Out of fold predictions are saved for further stacking/blending. \n",
    "[LightGBMClassification](https://github.com/dertty/automl/blob/hack/src/automl/model/lightgbm/lightgbm.py) implementation from [automl](https://github.com/dertty/automl/tree/hack) is used."
   ]
  },
  {
   "cell_type": "markdown",
   "metadata": {},
   "source": [
    "## Constants"
   ]
  },
  {
   "cell_type": "code",
   "execution_count": null,
   "metadata": {
    "collapsed": true
   },
   "outputs": [],
   "source": [
    "DATA_PATH = Path(\"../data/\")\n",
    "RANDOM_SEED = 77\n",
    "N_JOBS = 16\n",
    "CONFIG_FILE = Path(\"../configs/config.yaml\")\n",
    "\n",
    "with CONFIG_FILE.open(\"r\") as f:\n",
    "    cfg = yaml.load(f, Loader=yaml.SafeLoader)"
   ]
  },
  {
   "cell_type": "markdown",
   "metadata": {},
   "source": [
    "## Data"
   ]
  },
  {
   "cell_type": "code",
   "execution_count": 8,
   "metadata": {
    "collapsed": true
   },
   "outputs": [],
   "source": [
    "df_train = pd.read_parquet(DATA_PATH / \"train_preproc_2.parquet\")\n",
    "cat_columns = df_train.drop(columns=[\"target\", \"id\"]).select_dtypes(int).columns.values.tolist()\n",
    "X_train, y_train = df_train[cfg[\"selected_features\"] + cat_columns], df_train[\"target\"]"
   ]
  },
  {
   "cell_type": "markdown",
   "metadata": {},
   "source": [
    "## Model"
   ]
  },
  {
   "cell_type": "code",
   "execution_count": 9,
   "metadata": {
    "collapsed": true
   },
   "outputs": [],
   "source": [
    "metric = RocAuc()"
   ]
  },
  {
   "cell_type": "markdown",
   "metadata": {},
   "source": [
    "### Tune"
   ]
  },
  {
   "cell_type": "code",
   "execution_count": 13,
   "metadata": {},
   "outputs": [
    {
     "name": "stdout",
     "output_type": "stream",
     "text": [
      "[2024-11-07 07:20:16,269] - [   START    ] - Tuning LightGBMClassification\n",
      "[2024-11-07 07:20:26,195] - [   OPTUNA   ] - Trial 0. New best score 0.7926583155247084 with parameters {'max_depth': 6, 'num_leaves': 488, 'min_data_in_leaf': 188, 'bagging_fraction': 0.7993292420985183, 'bagging_freq': 0, 'feature_fraction': 0.49359671220172163, 'lambda_l1': 0.5808361216819946, 'lambda_l2': 8.661761457749352, 'min_gain_to_split': 12.022300234864176, 'is_unbalance': True, 'num_iterations': 2}\n",
      "[2024-11-07 07:21:10,804] - [   OPTUNA   ] - Trial 3. New best score 0.8075983858254252 with parameters {'max_depth': 16, 'num_leaves': 495, 'min_data_in_leaf': 207, 'bagging_fraction': 0.6523068845866853, 'bagging_freq': 0, 'feature_fraction': 0.8105398159072941, 'lambda_l1': 4.4015249373960135, 'lambda_l2': 1.2203823484477883, 'min_gain_to_split': 9.903538202225404, 'is_unbalance': False, 'num_iterations': 177}\n",
      "[2024-11-07 07:21:33,390] - [   OPTUNA   ] - Trial 5. New best score 0.8084036366845453 with parameters {'max_depth': 15, 'num_leaves': 54, 'min_data_in_leaf': 51, 'bagging_fraction': 0.522613644455269, 'bagging_freq': 0, 'feature_fraction': 0.6332063738136893, 'lambda_l1': 2.713490317738959, 'lambda_l2': 8.287375091519294, 'min_gain_to_split': 7.135066533871786, 'is_unbalance': False, 'num_iterations': 193}\n",
      "[2024-11-07 07:22:47,944] - [   OPTUNA   ] - Trial 10. New best score 0.8089960698295231 with parameters {'max_depth': 11, 'num_leaves': 13, 'min_data_in_leaf': 249, 'bagging_fraction': 0.5089809378074097, 'bagging_freq': 10, 'feature_fraction': 0.8742082803631225, 'lambda_l1': 2.5792695260149188, 'lambda_l2': 9.7494021524717, 'min_gain_to_split': 1.2843506971410603, 'is_unbalance': False, 'num_iterations': 691}\n",
      "[2024-11-07 07:23:42,879] - [   OPTUNA   ] - Trial 12. New best score 0.8092613304270255 with parameters {'max_depth': 11, 'num_leaves': 104, 'min_data_in_leaf': 255, 'bagging_fraction': 0.5126173366427427, 'bagging_freq': 10, 'feature_fraction': 0.994633910845503, 'lambda_l1': 2.69847875246675, 'lambda_l2': 9.960165317474354, 'min_gain_to_split': 0.8521739460423253, 'is_unbalance': False, 'num_iterations': 227}\n",
      "[2024-11-07 07:24:19,285] - [   OPTUNA   ] - Trial 13. New best score 0.8095534703295382 with parameters {'max_depth': 10, 'num_leaves': 115, 'min_data_in_leaf': 245, 'bagging_fraction': 0.6007570308715023, 'bagging_freq': 10, 'feature_fraction': 0.9993609805281409, 'lambda_l1': 3.3091284180681475, 'lambda_l2': 6.580191866807774, 'min_gain_to_split': 0.31017889891399897, 'is_unbalance': False, 'num_iterations': 225}\n",
      "[2024-11-07 07:25:09,593] - [   OPTUNA   ] - Trial 15. New best score 0.809639195309631 with parameters {'max_depth': 8, 'num_leaves': 126, 'min_data_in_leaf': 210, 'bagging_fraction': 0.6719713957999256, 'bagging_freq': 20, 'feature_fraction': 0.8165289784700926, 'lambda_l1': 4.456503210284689, 'lambda_l2': 6.486508419527091, 'min_gain_to_split': 3.4073761639683475, 'is_unbalance': False, 'num_iterations': 410}\n",
      "[2024-11-07 07:25:51,579] - [   OPTUNA   ] - Trial 17. New best score 0.8101846247319804 with parameters {'max_depth': 8, 'num_leaves': 306, 'min_data_in_leaf': 217, 'bagging_fraction': 0.6803395985027783, 'bagging_freq': 20, 'feature_fraction': 0.7895497645187755, 'lambda_l1': 3.730294779101818, 'lambda_l2': 6.560438344215363, 'min_gain_to_split': 3.2053140868656387, 'is_unbalance': False, 'num_iterations': 448}\n",
      "[2024-11-07 07:27:16,001] - [   OPTUNA   ] - Trial 21. New best score 0.8108000482962154 with parameters {'max_depth': 13, 'num_leaves': 303, 'min_data_in_leaf': 110, 'bagging_fraction': 0.714134281465878, 'bagging_freq': 20, 'feature_fraction': 0.6548221803936882, 'lambda_l1': 1.3216827715702517, 'lambda_l2': 1.7957828341762427, 'min_gain_to_split': 2.8521054148514473, 'is_unbalance': False, 'num_iterations': 259}\n",
      "[2024-11-07 07:28:11,525] - [   OPTUNA   ] - Trial 23. New best score 0.8111480581450875 with parameters {'max_depth': 13, 'num_leaves': 245, 'min_data_in_leaf': 90, 'bagging_fraction': 0.7737322580789082, 'bagging_freq': 20, 'feature_fraction': 0.43369261564914846, 'lambda_l1': 1.846851020034587, 'lambda_l2': 0.3915056805535402, 'min_gain_to_split': 2.1318566929175704, 'is_unbalance': False, 'num_iterations': 224}\n",
      "[2024-11-07 07:31:50,356] - [   OPTUNA   ] - Trial 31. New best score 0.8115864540582665 with parameters {'max_depth': 12, 'num_leaves': 267, 'min_data_in_leaf': 95, 'bagging_fraction': 0.7844364792418592, 'bagging_freq': 20, 'feature_fraction': 0.4702667136514618, 'lambda_l1': 3.503894314104496, 'lambda_l2': 0.21891514820133207, 'min_gain_to_split': 2.05748347875106, 'is_unbalance': False, 'num_iterations': 314}\n",
      "[2024-11-07 07:48:02,848] - [   OPTUNA   ] - Trial 68. New best score 0.8119390045055438 with parameters {'max_depth': 13, 'num_leaves': 202, 'min_data_in_leaf': 168, 'bagging_fraction': 0.8433746517228351, 'bagging_freq': 20, 'feature_fraction': 0.47596739043782255, 'lambda_l1': 3.630680706132666, 'lambda_l2': 5.537353735910001, 'min_gain_to_split': 0.6269109695692152, 'is_unbalance': False, 'num_iterations': 259}\n",
      "[2024-11-07 07:49:48,995] - [   OPTUNA   ] - Trial 71. New best score 0.8119449127161683 with parameters {'max_depth': 13, 'num_leaves': 216, 'min_data_in_leaf': 180, 'bagging_fraction': 0.8480314914067224, 'bagging_freq': 10, 'feature_fraction': 0.47916185997206334, 'lambda_l1': 3.9770052824793076, 'lambda_l2': 7.722738410730709, 'min_gain_to_split': 0.6762770284838351, 'is_unbalance': False, 'num_iterations': 254}\n",
      "[2024-11-07 07:50:24,751] - [   OPTUNA   ] - Trial 72. New best score 0.8120058360704242 with parameters {'max_depth': 12, 'num_leaves': 145, 'min_data_in_leaf': 172, 'bagging_fraction': 0.8413626213379202, 'bagging_freq': 10, 'feature_fraction': 0.4747077484970457, 'lambda_l1': 4.335716995421455, 'lambda_l2': 5.9996622846420316, 'min_gain_to_split': 0.620728591689943, 'is_unbalance': False, 'num_iterations': 259}\n",
      "[2024-11-07 07:51:01,290] - [   OPTUNA   ] - Trial 73. New best score 0.8120828944176738 with parameters {'max_depth': 12, 'num_leaves': 89, 'min_data_in_leaf': 162, 'bagging_fraction': 0.8466305288641808, 'bagging_freq': 10, 'feature_fraction': 0.4757659437177592, 'lambda_l1': 4.2515105935816155, 'lambda_l2': 7.295299521950624, 'min_gain_to_split': 0.5348069438697389, 'is_unbalance': False, 'num_iterations': 317}\n",
      "[2024-11-07 08:09:08,699] - [   OPTUNA   ] - Trial 110. New best score 0.8122450859042096 with parameters {'max_depth': 11, 'num_leaves': 151, 'min_data_in_leaf': 178, 'bagging_fraction': 0.990794856912282, 'bagging_freq': 10, 'feature_fraction': 0.43409489134318335, 'lambda_l1': 2.8362690450085415, 'lambda_l2': 7.537429856061106, 'min_gain_to_split': 1.1562929424602855, 'is_unbalance': False, 'num_iterations': 317}\n",
      "[2024-11-07 08:13:43,555] - [   OPTUNA   ] - Trial 117. New best score 0.8122537268566197 with parameters {'max_depth': 11, 'num_leaves': 199, 'min_data_in_leaf': 221, 'bagging_fraction': 0.8714403491005949, 'bagging_freq': 10, 'feature_fraction': 0.408622791755182, 'lambda_l1': 2.4525578099121934, 'lambda_l2': 8.18685006212635, 'min_gain_to_split': 1.3068024971309598, 'is_unbalance': False, 'num_iterations': 310}\n",
      "[2024-11-07 08:20:29,585] - [   OPTUNA   ] - 130 trials completed\n",
      "[2024-11-07 08:20:29,587] - [BEST PARAMS ] - {'objective_type': 'binary', 'boosting': 'gbdt', 'num_iterations': 310, 'max_depth': 11, 'learning_rate': 0.03, 'num_leaves': 199, 'min_data_in_leaf': 221, 'bagging_fraction': 0.8714403491005949, 'bagging_freq': 10, 'feature_fraction': 0.408622791755182, 'early_stopping_round': 100, 'lambda_l1': 2.4525578099121934, 'lambda_l2': 8.18685006212635, 'min_gain_to_split': 1.3068024971309598, 'num_threads': 16, 'random_state': 42, 'is_unbalance': False, 'num_classes': 1, 'verbose': -1}\n",
      "[2024-11-07 08:20:29,588] - [    END     ] - Tuning LightGBMClassification\n",
      "[2024-11-07 08:20:29,589] - [   START    ] - Fitting LightGBMClassification\n",
      "[2024-11-07 08:20:29,653] - [    FIT     ] - LightGBMClassification fold 0\n",
      "[2024-11-07 08:20:36,242] - [    FIT     ] - LightGBMClassification fold 1\n",
      "[2024-11-07 08:20:42,727] - [    FIT     ] - LightGBMClassification fold 2\n",
      "[2024-11-07 08:20:47,874] - [    FIT     ] - LightGBMClassification fold 3\n"
     ]
    },
    {
     "name": "stdout",
     "output_type": "stream",
     "text": [
      "[2024-11-07 08:20:54,395] - [    FIT     ] - LightGBMClassification fold 4\n",
      "[2024-11-07 08:21:00,928] - [    END     ] - Fitting LightGBMClassification\n",
      "0.8122242363811351\n"
     ]
    }
   ],
   "source": [
    "# model = LightGBMClassification(n_jobs=16)\n",
    "# model.tune(X_train, y_train, metric, timeout=60 * 60, categorical_features=cat_columns)\n",
    "# oof = model.fit(X_train, y_train, categorical_features=cat_columns)\n",
    "\n",
    "# print(metric(y_train, oof))"
   ]
  },
  {
   "cell_type": "markdown",
   "metadata": {},
   "source": [
    "### Fit on the best parameters"
   ]
  },
  {
   "cell_type": "code",
   "execution_count": 12,
   "metadata": {},
   "outputs": [
    {
     "name": "stdout",
     "output_type": "stream",
     "text": [
      "[2024-11-12 11:33:14,529] - [   START    ] - Fitting LightGBMClassification\n",
      "[2024-11-12 11:33:14,614] - [    FIT     ] - LightGBMClassification fold 0\n",
      "[2024-11-12 11:33:21,549] - [    FIT     ] - LightGBMClassification fold 1\n",
      "[2024-11-12 11:33:29,192] - [    FIT     ] - LightGBMClassification fold 2\n",
      "[2024-11-12 11:33:34,833] - [    FIT     ] - LightGBMClassification fold 3\n",
      "[2024-11-12 11:33:41,863] - [    FIT     ] - LightGBMClassification fold 4\n",
      "[2024-11-12 11:33:47,487] - [    END     ] - Fitting LightGBMClassification\n",
      "0.8122242363811351\n"
     ]
    }
   ],
   "source": [
    "model = LightGBMClassification(**cfg[\"lightgbm\"])\n",
    "oof = model.fit(X_train, y_train, categorical_features=cat_columns)\n",
    "print(metric(y_train, oof))"
   ]
  },
  {
   "cell_type": "markdown",
   "metadata": {},
   "source": [
    "### Save model file, parameters, test and oof predictions."
   ]
  },
  {
   "cell_type": "code",
   "execution_count": 16,
   "metadata": {
    "collapsed": true
   },
   "outputs": [],
   "source": [
    "MODEL_NAME = \"lgb_8122_full_dataset\"\n",
    "MODEL_DIR = DATA_PATH / \"models\" / MODEL_NAME\n",
    "MODEL_DIR.mkdir(exist_ok=True)"
   ]
  },
  {
   "cell_type": "code",
   "execution_count": 17,
   "metadata": {
    "collapsed": true
   },
   "outputs": [],
   "source": [
    "res = pd.DataFrame()\n",
    "res[MODEL_NAME] = oof[:, 1]\n",
    "res.to_csv(MODEL_DIR / \"oof.csv\", index=False)\n",
    "joblib.dump(model, MODEL_DIR / f\"{MODEL_NAME}.joblib\")\n",
    "\n",
    "with (MODEL_DIR / \"params.yaml\").open(\"w\") as f:\n",
    "    yaml.dump(model.params, f)\n",
    "\n",
    "with (MODEL_DIR / \"score.txt\").open(\"w\") as f:\n",
    "    print(\"OOF:\", metric(y_train, oof), file=f)\n",
    "    \n",
    "test = pd.read_parquet(DATA_PATH / \"test_preproc_2.parquet\")\n",
    "test[\"target\"] = model.predict(test[cfg[\"selected_features\"] + cat_columns])[:, 1]\n",
    "test[['id', 'target']].to_csv(MODEL_DIR / f'{MODEL_NAME}.csv', index=False)"
   ]
  },
  {
   "cell_type": "code",
   "execution_count": null,
   "metadata": {
    "collapsed": true
   },
   "outputs": [],
   "source": []
  }
 ],
 "metadata": {
  "kernelspec": {
   "display_name": "base_kernel",
   "language": "python",
   "name": "base_kernel"
  },
  "language_info": {
   "codemirror_mode": {
    "name": "ipython",
    "version": 3
   },
   "file_extension": ".py",
   "mimetype": "text/x-python",
   "name": "python",
   "nbconvert_exporter": "python",
   "pygments_lexer": "ipython3",
   "version": "3.10.12"
  }
 },
 "nbformat": 4,
 "nbformat_minor": 2
}
