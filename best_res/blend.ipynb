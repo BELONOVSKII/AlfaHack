{
 "cells": [
  {
   "cell_type": "code",
   "execution_count": 6,
   "metadata": {},
   "outputs": [],
   "source": [
    "from pathlib import Path\n",
    "\n",
    "import pandas as pd\n",
    "import numpy as np"
   ]
  },
  {
   "cell_type": "markdown",
   "metadata": {},
   "source": [
    "# Blend the predictions of `lamau_81425_full_dataset` and `lama_stack_time_series`. Round the predictions to 10 digits."
   ]
  },
  {
   "cell_type": "markdown",
   "metadata": {},
   "source": [
    "## Constants"
   ]
  },
  {
   "cell_type": "code",
   "execution_count": 10,
   "metadata": {},
   "outputs": [],
   "source": [
    "DATA_PATH = Path(\"../data/models\")\n",
    "cols_for_blend = [\"lamau_81425_full_dataset\", \"lama_stack_time_series\"]\n",
    "weights = np.array([0.15, 0.85])"
   ]
  },
  {
   "cell_type": "markdown",
   "metadata": {},
   "source": [
    "## Data"
   ]
  },
  {
   "cell_type": "code",
   "execution_count": 29,
   "metadata": {},
   "outputs": [],
   "source": [
    "df_0 = pd.read_csv(\n",
    "    DATA_PATH / cols_for_blend[0] / f\"{cols_for_blend[0]}.csv\",\n",
    "    names=[\"id\", cols_for_blend[0]], skiprows=[0]\n",
    ")\n",
    "\n",
    "df_1 = pd.read_csv(\n",
    "    DATA_PATH / cols_for_blend[1] / f\"{cols_for_blend[1]}.csv\",\n",
    "    names=[\"id\", cols_for_blend[1]], skiprows=[0]\n",
    ")"
   ]
  },
  {
   "cell_type": "code",
   "execution_count": 31,
   "metadata": {},
   "outputs": [],
   "source": [
    "df_blended = df_0\n",
    "df_blended[cols_for_blend[1]] = df_1[cols_for_blend[1]]\n",
    "df_blended[\"target\"] = np.round(\n",
    "    np.sum((df_blended[cols_for_blend].to_numpy() * weights), axis=1), 10\n",
    "    )\n",
    "df_blended[['id', 'target']].to_csv(f'final_submission.csv', index=False)"
   ]
  },
  {
   "cell_type": "markdown",
   "metadata": {},
   "source": [
    "# Final score on the leader board $81.7015322279558\\%$"
   ]
  }
 ],
 "metadata": {
  "kernelspec": {
   "display_name": "base_kernel",
   "language": "python",
   "name": "base_kernel"
  },
  "language_info": {
   "codemirror_mode": {
    "name": "ipython",
    "version": 3
   },
   "file_extension": ".py",
   "mimetype": "text/x-python",
   "name": "python",
   "nbconvert_exporter": "python",
   "pygments_lexer": "ipython3",
   "version": "3.10.12"
  }
 },
 "nbformat": 4,
 "nbformat_minor": 2
}
