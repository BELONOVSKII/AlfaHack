{
 "cells": [
  {
   "cell_type": "code",
   "execution_count": 3,
   "metadata": {
    "collapsed": true
   },
   "outputs": [],
   "source": [
    "import sys; sys.path.append(\"../automl/\")"
   ]
  },
  {
   "cell_type": "code",
   "execution_count": 11,
   "metadata": {
    "collapsed": true
   },
   "outputs": [],
   "source": [
    "from pathlib import Path\n",
    "import yaml\n",
    "import joblib\n",
    "\n",
    "import pandas as pd\n",
    "import numpy as np\n",
    "\n",
    "from src.automl.model.lama import TabularLama\n",
    "from src.automl.loggers import configure_root_logger\n",
    "from src.automl.constants import create_ml_data_dir\n",
    "from src.automl.model.metrics import RocAuc"
   ]
  },
  {
   "cell_type": "code",
   "execution_count": 4,
   "metadata": {
    "collapsed": true
   },
   "outputs": [],
   "source": [
    "create_ml_data_dir()\n",
    "configure_root_logger()"
   ]
  },
  {
   "cell_type": "markdown",
   "metadata": {},
   "source": [
    "# Tune and fit [LightAutoML](https://github.com/sb-ai-lab/LightAutoML) on the dataset with oof predictions.\n",
    "Find the best parameters for LightAutoML and then fit the model on these parameters. Parameters optimization is performed based on the 5-fold time-series cross-validation and the final fit is performed on the same folds.\n",
    "[TabularLama](https://github.com/dertty/automl/blob/hack/src/automl/model/lama/default_lama.py) implementation from [automl](https://github.com/dertty/automl/tree/hack) is used.\n",
    "\n",
    "**Unfortunately**, in LightAutoML training and tuning is performed simultaneously, hence it is impossible to save best LightAutoML parameters and then initialize model with these parameters for inference. The solution is to save model file (*joblib* format) and then use this model for inference. If necessary, we can provide this file together with the oof predictions."
   ]
  },
  {
   "cell_type": "markdown",
   "metadata": {},
   "source": [
    "## Constants"
   ]
  },
  {
   "cell_type": "code",
   "execution_count": 7,
   "metadata": {
    "collapsed": true
   },
   "outputs": [],
   "source": [
    "DATA_PATH = Path(\"../data/\")\n",
    "RANDOM_SEED = 77\n",
    "N_JOBS = 16\n",
    "CONFIG_FILE = Path(\"../configs/config.yaml\")\n",
    "\n",
    "with CONFIG_FILE.open(\"r\") as f:\n",
    "    cfg = yaml.load(f, Loader=yaml.SafeLoader)"
   ]
  },
  {
   "cell_type": "markdown",
   "metadata": {},
   "source": [
    "## Data"
   ]
  },
  {
   "cell_type": "code",
   "execution_count": null,
   "metadata": {
    "collapsed": true
   },
   "outputs": [],
   "source": [
    "df_train = pd.read_parquet(DATA_PATH / \"train_preproc_oof.parquet\")\n",
    "df_train = df_train.sort_values(by=\"id\").reset_index(drop=True)\n",
    "\n",
    "cat_columns = df_train.drop(columns=[\"target\", \"id\"]).select_dtypes(int).columns.values.tolist()\n",
    "\n",
    "X_train, y_train = df_train[cfg[\"stack_features\"] + cfg[\"selected_features\"] + cat_columns], df_train[\"target\"]"
   ]
  },
  {
   "cell_type": "markdown",
   "metadata": {},
   "source": [
    "## Model"
   ]
  },
  {
   "cell_type": "code",
   "execution_count": 7,
   "metadata": {
    "collapsed": true
   },
   "outputs": [],
   "source": [
    "metric = RocAuc()"
   ]
  },
  {
   "cell_type": "markdown",
   "metadata": {},
   "source": [
    "### Fit + Tune\n",
    "\n",
    "**Important**: It is nearly impossible to fully reproduce LightAutoML trianing, because it strongly depends on the harware, resources utilization and timeout. To reproduce the results we can provide the saved file of a fitted model."
   ]
  },
  {
   "cell_type": "code",
   "execution_count": 52,
   "metadata": {},
   "outputs": [
    {
     "name": "stdout",
     "output_type": "stream",
     "text": [
      "[2024-11-10 16:22:51,906] - [   START    ] - Fitting TabularLama\n",
      "[16:22:52] Stdout logging level is INFO.\n",
      "[16:22:52] Task: binary\n",
      "\n",
      "[16:22:52] Start automl preset with listed constraints:\n",
      "[16:22:52] - time: 3600.00 seconds\n",
      "[16:22:52] - CPU: 16 cores\n",
      "[16:22:52] - memory: 16 GB\n",
      "\n",
      "[16:22:52] \u001b[1mTrain data shape: (413194, 70)\u001b[0m\n",
      "\n",
      "[16:23:05] Layer \u001b[1m1\u001b[0m train process start. Time left 3586.35 secs\n",
      "[16:23:19] Start fitting \u001b[1mLvl_0_Pipe_0_Mod_0_LinearL2\u001b[0m ...\n",
      "[16:23:43] Fitting \u001b[1mLvl_0_Pipe_0_Mod_0_LinearL2\u001b[0m finished. score = \u001b[1m0.8082655709717551\u001b[0m\n",
      "[16:23:43] \u001b[1mLvl_0_Pipe_0_Mod_0_LinearL2\u001b[0m fitting and predicting completed\n",
      "[16:23:43] Time left 3548.72 secs\n",
      "\n",
      "[16:23:51] \u001b[1mSelector_LightGBM\u001b[0m fitting and predicting completed\n",
      "[16:24:03] Start fitting \u001b[1mLvl_0_Pipe_1_Mod_0_LightGBM\u001b[0m ...\n",
      "[16:24:27] Fitting \u001b[1mLvl_0_Pipe_1_Mod_0_LightGBM\u001b[0m finished. score = \u001b[1m0.8054939012611733\u001b[0m\n",
      "[16:24:27] \u001b[1mLvl_0_Pipe_1_Mod_0_LightGBM\u001b[0m fitting and predicting completed\n",
      "[16:24:27] Start hyperparameters optimization for \u001b[1mLvl_0_Pipe_1_Mod_1_Tuned_LightGBM\u001b[0m ... Time budget is 300.00 secs\n",
      "[16:29:32] Hyperparameters optimization for \u001b[1mLvl_0_Pipe_1_Mod_1_Tuned_LightGBM\u001b[0m completed\n",
      "[16:29:32] Start fitting \u001b[1mLvl_0_Pipe_1_Mod_1_Tuned_LightGBM\u001b[0m ...\n",
      "[16:29:51] Fitting \u001b[1mLvl_0_Pipe_1_Mod_1_Tuned_LightGBM\u001b[0m finished. score = \u001b[1m0.813504755588665\u001b[0m\n",
      "[16:29:51] \u001b[1mLvl_0_Pipe_1_Mod_1_Tuned_LightGBM\u001b[0m fitting and predicting completed\n",
      "[16:29:51] Start fitting \u001b[1mLvl_0_Pipe_1_Mod_2_CatBoost\u001b[0m ...\n",
      "[16:30:02] Fitting \u001b[1mLvl_0_Pipe_1_Mod_2_CatBoost\u001b[0m finished. score = \u001b[1m0.8129464038271926\u001b[0m\n",
      "[16:30:02] \u001b[1mLvl_0_Pipe_1_Mod_2_CatBoost\u001b[0m fitting and predicting completed\n",
      "[16:30:02] Start hyperparameters optimization for \u001b[1mLvl_0_Pipe_1_Mod_3_Tuned_CatBoost\u001b[0m ... Time budget is 300.00 secs\n",
      "[16:32:15] Hyperparameters optimization for \u001b[1mLvl_0_Pipe_1_Mod_3_Tuned_CatBoost\u001b[0m completed\n",
      "[16:32:15] Start fitting \u001b[1mLvl_0_Pipe_1_Mod_3_Tuned_CatBoost\u001b[0m ...\n",
      "[16:32:32] Fitting \u001b[1mLvl_0_Pipe_1_Mod_3_Tuned_CatBoost\u001b[0m finished. score = \u001b[1m0.8135898812157301\u001b[0m\n",
      "[16:32:32] \u001b[1mLvl_0_Pipe_1_Mod_3_Tuned_CatBoost\u001b[0m fitting and predicting completed\n",
      "[16:32:32] Time left 3019.18 secs\n",
      "\n",
      "[16:32:32] \u001b[1mLayer 1 training completed.\u001b[0m\n",
      "\n",
      "[16:32:33] Blending: optimization starts with equal weights and score \u001b[1m0.8137922530895503\u001b[0m\n",
      "[16:32:37] Blending: iteration \u001b[1m0\u001b[0m: score = \u001b[1m0.8142629516698411\u001b[0m, weights = \u001b[1m[0.         0.11722203 0.4177775  0.12035636 0.34464407]\u001b[0m\n",
      "[16:32:42] Blending: iteration \u001b[1m1\u001b[0m: score = \u001b[1m0.8142723040969226\u001b[0m, weights = \u001b[1m[0.         0.14508128 0.39510018 0.09564558 0.3641729 ]\u001b[0m\n",
      "[16:32:47] Blending: iteration \u001b[1m2\u001b[0m: score = \u001b[1m0.8142724402015857\u001b[0m, weights = \u001b[1m[0.         0.1466874  0.39947414 0.08256475 0.37127376]\u001b[0m\n",
      "[16:32:52] Blending: iteration \u001b[1m3\u001b[0m: score = \u001b[1m0.8142724850579326\u001b[0m, weights = \u001b[1m[0.         0.14482063 0.40125448 0.08293272 0.37099218]\u001b[0m\n",
      "[16:32:57] Blending: iteration \u001b[1m4\u001b[0m: score = \u001b[1m0.8142725337937472\u001b[0m, weights = \u001b[1m[0.         0.1449654  0.40106198 0.08289293 0.37107965]\u001b[0m\n",
      "[16:32:57] \u001b[1mAutoml preset training completed in 605.56 seconds\u001b[0m\n",
      "\n",
      "[16:32:57] Model description:\n",
      "Final prediction for new objects (level 0) = \n",
      "\t 0.14497 * (4 averaged models Lvl_0_Pipe_1_Mod_0_LightGBM) +\n",
      "\t 0.40106 * (4 averaged models Lvl_0_Pipe_1_Mod_1_Tuned_LightGBM) +\n",
      "\t 0.08289 * (4 averaged models Lvl_0_Pipe_1_Mod_2_CatBoost) +\n",
      "\t 0.37108 * (4 averaged models Lvl_0_Pipe_1_Mod_3_Tuned_CatBoost) \n",
      "\n",
      "[2024-11-10 16:32:57,630] - [    END     ] - Fitting TabularLama\n",
      "None\n"
     ]
    }
   ],
   "source": [
    "# model = TabularLama(n_jobs=N_JOBS, task=\"classification\", time_series=True)\n",
    "# model.tune(X_train, y_train, metric, timeout=60 * 30, categorical_features=cat_columns)\n",
    "# oof = model.fit(X_train, y_train, categorical_features=cat_columns)\n",
    "\n",
    "# # correct blender weights for reproducibility\n",
    "# model.model.blender.wts = np.array([0.1449654 , 0.40106198, 0.08289293, 0.37107965], dtype=np.float32)\n",
    "\n",
    "# print(metric(y_train, oof))"
   ]
  },
  {
   "cell_type": "markdown",
   "metadata": {},
   "source": [
    "### Alternatively, load the fitted model"
   ]
  },
  {
   "cell_type": "code",
   "execution_count": 8,
   "metadata": {
    "collapsed": true
   },
   "outputs": [],
   "source": [
    "model = joblib.load(DATA_PATH / \"models\" / \"lama_stack_time_series\" / \"lama_stack_time_series.joblib\")"
   ]
  },
  {
   "cell_type": "markdown",
   "metadata": {},
   "source": [
    "### Save model file, parameters, test and oof predictions."
   ]
  },
  {
   "cell_type": "code",
   "execution_count": null,
   "metadata": {
    "collapsed": true
   },
   "outputs": [],
   "source": [
    "MODEL_NAME = \"lama_stack_time_series\"\n",
    "MODEL_DIR = DATA_PATH / \"models\" / MODEL_NAME\n",
    "MODEL_DIR.mkdir(exist_ok=True)"
   ]
  },
  {
   "cell_type": "code",
   "execution_count": null,
   "metadata": {
    "collapsed": true
   },
   "outputs": [],
   "source": [
    "joblib.dump(model, MODEL_DIR / f\"{MODEL_NAME}.joblib\")\n",
    "\n",
    "with (MODEL_DIR / \"params.yaml\").open(\"w\") as f:\n",
    "    yaml.dump(model.params, f)\n",
    "    \n",
    "test = pd.read_parquet(DATA_PATH / \"test_preproc_oof.parquet\")\n",
    "test[\"target\"] = model.predict(test[cfg[\"selected_features\"] + cfg[\"stack_features\"] + cat_columns])[:, 1]\n",
    "test[['id', 'target']].to_csv(MODEL_DIR / f'{MODEL_NAME}.csv', index=False)"
   ]
  },
  {
   "cell_type": "code",
   "execution_count": null,
   "metadata": {
    "collapsed": true
   },
   "outputs": [],
   "source": []
  }
 ],
 "metadata": {
  "kernelspec": {
   "display_name": "base_kernel",
   "language": "python",
   "name": "base_kernel"
  },
  "language_info": {
   "codemirror_mode": {
    "name": "ipython",
    "version": 3
   },
   "file_extension": ".py",
   "mimetype": "text/x-python",
   "name": "python",
   "nbconvert_exporter": "python",
   "pygments_lexer": "ipython3",
   "version": "3.10.12"
  }
 },
 "nbformat": 4,
 "nbformat_minor": 2
}
