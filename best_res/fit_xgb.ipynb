{
 "cells": [
  {
   "cell_type": "code",
   "execution_count": 2,
   "metadata": {
    "collapsed": true
   },
   "outputs": [],
   "source": [
    "import sys; sys.path.append(\"../automl/\")"
   ]
  },
  {
   "cell_type": "code",
   "execution_count": 4,
   "metadata": {
    "collapsed": true
   },
   "outputs": [],
   "source": [
    "from pathlib import Path\n",
    "import yaml\n",
    "import joblib\n",
    "\n",
    "import pandas as pd\n",
    "\n",
    "from src.automl.model.xgboost import XGBClassification\n",
    "from src.automl.loggers import configure_root_logger\n",
    "from src.automl.constants import create_ml_data_dir\n",
    "from src.automl.model.metrics import RocAuc"
   ]
  },
  {
   "cell_type": "code",
   "execution_count": 5,
   "metadata": {
    "collapsed": true
   },
   "outputs": [],
   "source": [
    "create_ml_data_dir()\n",
    "configure_root_logger()"
   ]
  },
  {
   "cell_type": "markdown",
   "metadata": {},
   "source": [
    "# Tune and fit XGBoost \n",
    "Find the best parameters for XGBoost and then fit the model on these parameters. Parameters optimization is performed based on the 5-fold stratified cross-validation and the final fit is performed on the same folds. Out of fold predictions are saved for further stacking/blending. \n",
    "[XGBClassification](https://github.com/dertty/automl/blob/1023885f9ec99edfbcb23223ccd8dfce6224bb61/src/automl/model/xgboost/xgboost.py) implementation from [automl](https://github.com/dertty/automl/tree/hack) is used."
   ]
  },
  {
   "cell_type": "markdown",
   "metadata": {},
   "source": [
    "## Constants"
   ]
  },
  {
   "cell_type": "code",
   "execution_count": null,
   "metadata": {
    "collapsed": true
   },
   "outputs": [],
   "source": [
    "DATA_PATH = Path(\"../data/\")\n",
    "RANDOM_SEED = 77\n",
    "N_JOBS = 16\n",
    "CONFIG_FILE = Path(\"../configs/config.yaml\")\n",
    "\n",
    "with CONFIG_FILE.open(\"r\") as f:\n",
    "    cfg = yaml.load(f, Loader=yaml.SafeLoader)"
   ]
  },
  {
   "cell_type": "markdown",
   "metadata": {},
   "source": [
    "## Data"
   ]
  },
  {
   "cell_type": "code",
   "execution_count": 7,
   "metadata": {
    "collapsed": true
   },
   "outputs": [],
   "source": [
    "df_train = pd.read_parquet(DATA_PATH / \"train_preproc_2.parquet\")\n",
    "cat_columns = df_train.drop(columns=[\"target\", \"id\"]).select_dtypes(int).columns.values.tolist()\n",
    "X_train, y_train = df_train[cfg[\"selected_features\"] + cat_columns], df_train[\"target\"]"
   ]
  },
  {
   "cell_type": "markdown",
   "metadata": {},
   "source": [
    "## Model"
   ]
  },
  {
   "cell_type": "code",
   "execution_count": 8,
   "metadata": {
    "collapsed": true
   },
   "outputs": [],
   "source": [
    "metric = RocAuc()"
   ]
  },
  {
   "cell_type": "markdown",
   "metadata": {},
   "source": [
    "### Tune"
   ]
  },
  {
   "cell_type": "code",
   "execution_count": null,
   "metadata": {},
   "outputs": [
    {
     "name": "stdout",
     "output_type": "stream",
     "text": [
      "[2024-11-07 11:10:52,918] - [   START    ] - Tuning XGBClassification\n",
      "[2024-11-07 11:12:41,566] - [   OPTUNA   ] - Trial 0. New best score 0.8093914888413553 with parameters {'max_depth': 6, 'grow_policy': 'depthwise', 'max_leaves': 311, 'gamma': 3.1203728088487304, 'subsample': 0.2403950683025824, 'colsample_bytree': 0.15227525095137953, 'colsample_bylevel': 0.8795585311974417, 'reg_lambda': 6.011150117432088, 'reg_alpha': 7.080725777960454, 'min_child_weight': 0, 'class_weight': None, 'n_estimators': 1360}\n",
      "[2024-11-07 11:35:39,186] - [   OPTUNA   ] - Trial 12. New best score 0.8123585471891186 with parameters {'max_depth': 12, 'grow_policy': 'depthwise', 'max_leaves': 506, 'gamma': 3.261907506885279, 'subsample': 0.6587022987301265, 'colsample_bytree': 0.6803150824063098, 'colsample_bylevel': 0.7740189781440969, 'reg_lambda': 2.818680731359448, 'reg_alpha': 4.078588319549546, 'min_child_weight': 9, 'class_weight': None, 'n_estimators': 278}\n",
      "[2024-11-07 11:36:24,300] - [   OPTUNA   ] - Trial 13. New best score 0.8124876015146422 with parameters {'max_depth': 11, 'grow_policy': 'depthwise', 'max_leaves': 293, 'gamma': 4.659270323686404, 'subsample': 0.7273333035382998, 'colsample_bytree': 0.6648080175642578, 'colsample_bylevel': 0.8326804984839475, 'reg_lambda': 2.7904545683937583, 'reg_alpha': 4.154622759298707, 'min_child_weight': 0, 'class_weight': None, 'n_estimators': 343}\n",
      "[2024-11-07 11:45:35,162] - [   OPTUNA   ] - Trial 21. New best score 0.8129079507607709 with parameters {'max_depth': 11, 'grow_policy': 'depthwise', 'max_leaves': 359, 'gamma': 3.136823541493885, 'subsample': 0.6935548717582338, 'colsample_bytree': 0.677212996574586, 'colsample_bylevel': 0.7432751725794583, 'reg_lambda': 3.39586754118975, 'reg_alpha': 3.944497642389666, 'min_child_weight': 11, 'class_weight': None, 'n_estimators': 321}\n",
      "[2024-11-07 11:50:31,965] - [   OPTUNA   ] - Trial 26. New best score 0.8132565025233356 with parameters {'max_depth': 10, 'grow_policy': 'depthwise', 'max_leaves': 125, 'gamma': 1.6761662863690368, 'subsample': 0.8520169894169448, 'colsample_bytree': 0.4511998408615132, 'colsample_bylevel': 0.5572085391969552, 'reg_lambda': 4.934815338457201, 'reg_alpha': 6.333639174138849, 'min_child_weight': 15, 'class_weight': None, 'n_estimators': 434}\n",
      "[2024-11-07 11:59:46,388] - [   OPTUNA   ] - Trial 32. New best score 0.8132584672470007 with parameters {'max_depth': 11, 'grow_policy': 'depthwise', 'max_leaves': 68, 'gamma': 2.3586252582185674, 'subsample': 0.8431001018770198, 'colsample_bytree': 0.5094082714701726, 'colsample_bylevel': 0.6729326670511411, 'reg_lambda': 5.8579266748776115, 'reg_alpha': 7.174195620622537, 'min_child_weight': 16, 'class_weight': None, 'n_estimators': 500}\n",
      "[2024-11-07 12:13:27,201] - [   OPTUNA   ] - 39 trials completed\n",
      "[2024-11-07 12:13:27,204] - [BEST PARAMS ] - {'objective': 'binary:logistic', 'n_estimators': 500, 'learning_rate': 0.03, 'max_depth': 11, 'max_leaves': 68, 'grow_policy': 'depthwise', 'gamma': 2.3586252582185674, 'min_child_weight': 16, 'subsample': 0.8431001018770198, 'colsample_bytree': 0.5094082714701726, 'colsample_bylevel': 0.6729326670511411, 'reg_lambda': 5.8579266748776115, 'reg_alpha': 7.174195620622537, 'enable_categorical': True, 'max_cat_to_onehot': 5, 'n_jobs': 16, 'random_state': 42, 'verbosity': 0, 'early_stopping_rounds': 100, 'class_weight': None}\n",
      "[2024-11-07 12:13:27,205] - [    END     ] - Tuning XGBClassification\n",
      "[2024-11-07 12:13:27,207] - [   START    ] - Fitting XGBClassification\n",
      "[2024-11-07 12:13:27,412] - [    FIT     ] - XGBClassification fold 0\n",
      "[2024-11-07 12:13:37,208] - [    FIT     ] - XGBClassification fold 1\n",
      "[2024-11-07 12:13:46,954] - [    FIT     ] - XGBClassification fold 2\n",
      "[2024-11-07 12:13:56,585] - [    FIT     ] - XGBClassification fold 3\n",
      "[2024-11-07 12:14:06,284] - [    FIT     ] - XGBClassification fold 4\n",
      "[2024-11-07 12:14:15,939] - [    END     ] - Fitting XGBClassification\n",
      "0.8132138583629158\n"
     ]
    }
   ],
   "source": [
    "# model = XGBClassification(n_jobs=N_JOBS)\n",
    "# model.tune(X_train, y_train, metric, timeout=60 * 60, categorical_features=cat_columns)\n",
    "# oof = model.fit(X_train, y_train, categorical_features=cat_columns)\n",
    "\n",
    "# print(metric(y_train, oof))"
   ]
  },
  {
   "cell_type": "markdown",
   "metadata": {},
   "source": [
    "### Fit on the best parameters"
   ]
  },
  {
   "cell_type": "code",
   "execution_count": 9,
   "metadata": {},
   "outputs": [
    {
     "name": "stdout",
     "output_type": "stream",
     "text": [
      "[2024-11-12 11:49:15,108] - [   START    ] - Fitting XGBClassification\n",
      "[2024-11-12 11:49:15,334] - [    FIT     ] - XGBClassification fold 0\n",
      "[2024-11-12 11:49:26,022] - [    FIT     ] - XGBClassification fold 1\n",
      "[2024-11-12 11:49:36,573] - [    FIT     ] - XGBClassification fold 2\n",
      "[2024-11-12 11:49:47,674] - [    FIT     ] - XGBClassification fold 3\n",
      "[2024-11-12 11:49:58,392] - [    FIT     ] - XGBClassification fold 4\n",
      "[2024-11-12 11:50:08,369] - [    END     ] - Fitting XGBClassification\n",
      "0.8132138583629158\n"
     ]
    }
   ],
   "source": [
    "model = XGBClassification(**cfg[\"xgboost\"])\n",
    "oof = model.fit(X_train, y_train, categorical_features=cat_columns)\n",
    "print(metric(y_train, oof))"
   ]
  },
  {
   "cell_type": "markdown",
   "metadata": {},
   "source": [
    "### Save model file, parameters, test and oof predictions."
   ]
  },
  {
   "cell_type": "code",
   "execution_count": null,
   "metadata": {
    "collapsed": true
   },
   "outputs": [],
   "source": [
    "MODEL_NAME = \"xgb_81325_full_dataset\"\n",
    "MODEL_DIR = DATA_PATH / \"models\" / MODEL_NAME\n",
    "MODEL_DIR.mkdir(exist_ok=True)"
   ]
  },
  {
   "cell_type": "code",
   "execution_count": 17,
   "metadata": {
    "collapsed": true
   },
   "outputs": [],
   "source": [
    "res = pd.DataFrame()\n",
    "res[MODEL_NAME] = oof[:, 1]\n",
    "res.to_csv(MODEL_DIR / \"oof.csv\", index=False)\n",
    "joblib.dump(model, MODEL_DIR / f\"{MODEL_NAME}.joblib\")\n",
    "\n",
    "with (MODEL_DIR / \"params.yaml\").open(\"w\") as f:\n",
    "    yaml.dump(model.params, f)\n",
    "\n",
    "with (MODEL_DIR / \"score.txt\").open(\"w\") as f:\n",
    "    print(\"OOF:\", metric(y_train, oof), file=f)\n",
    "    \n",
    "test = pd.read_parquet(DATA_PATH / \"test_preproc_2.parquet\")\n",
    "test[\"target\"] = model.predict(test[cfg[\"selected_features\"] + cat_columns])[:, 1]\n",
    "test[['id', 'target']].to_csv(MODEL_DIR / f'{MODEL_NAME}.csv', index=False)"
   ]
  },
  {
   "cell_type": "code",
   "execution_count": null,
   "metadata": {
    "collapsed": true
   },
   "outputs": [],
   "source": []
  }
 ],
 "metadata": {
  "kernelspec": {
   "display_name": "base_kernel",
   "language": "python",
   "name": "base_kernel"
  },
  "language_info": {
   "codemirror_mode": {
    "name": "ipython",
    "version": 3
   },
   "file_extension": ".py",
   "mimetype": "text/x-python",
   "name": "python",
   "nbconvert_exporter": "python",
   "pygments_lexer": "ipython3",
   "version": "3.10.12"
  }
 },
 "nbformat": 4,
 "nbformat_minor": 2
}
